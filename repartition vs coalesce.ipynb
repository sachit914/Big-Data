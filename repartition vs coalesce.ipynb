{
 "cells": [
  {
   "cell_type": "code",
   "execution_count": 0,
   "metadata": {
    "application/vnd.databricks.v1+cell": {
     "cellMetadata": {},
     "inputWidgets": {},
     "nuid": "17b6c0ca-4f7c-43ae-b1e0-a3e6d30f88aa",
     "showTitle": false,
     "title": ""
    }
   },
   "outputs": [],
   "source": [
    "/FileStore/tables/summary.csv"
   ]
  },
  {
   "cell_type": "code",
   "execution_count": 0,
   "metadata": {
    "application/vnd.databricks.v1+cell": {
     "cellMetadata": {
      "byteLimit": 2048000,
      "rowLimit": 10000
     },
     "inputWidgets": {},
     "nuid": "f2662d72-5495-414c-aff8-21c791421255",
     "showTitle": false,
     "title": ""
    }
   },
   "outputs": [],
   "source": [
    "from pyspark.sql.functions import *\n",
    "from pyspark.sql.types import *"
   ]
  },
  {
   "cell_type": "code",
   "execution_count": 0,
   "metadata": {
    "application/vnd.databricks.v1+cell": {
     "cellMetadata": {
      "byteLimit": 2048000,
      "rowLimit": 10000
     },
     "inputWidgets": {},
     "nuid": "69ff2389-65e7-4df9-9019-e67f02ff8b63",
     "showTitle": false,
     "title": ""
    }
   },
   "outputs": [],
   "source": [
    "flight_df = spark.read.format(\"csv\") \\\n",
    "    .option(\"header\", \"true\") \\\n",
    "    .option(\"inferSchema\", \"true\") \\\n",
    "    .load(\"dbfs:/FileStore/tables/summary.csv\")"
   ]
  },
  {
   "cell_type": "code",
   "execution_count": 0,
   "metadata": {
    "application/vnd.databricks.v1+cell": {
     "cellMetadata": {},
     "inputWidgets": {},
     "nuid": "59d77213-48f7-43ef-a350-d13122bd16d3",
     "showTitle": false,
     "title": ""
    }
   },
   "outputs": [],
   "source": []
  },
  {
   "cell_type": "code",
   "execution_count": 0,
   "metadata": {
    "application/vnd.databricks.v1+cell": {
     "cellMetadata": {
      "byteLimit": 2048000,
      "rowLimit": 10000
     },
     "inputWidgets": {},
     "nuid": "29c0d371-c167-4341-b1e4-5999862b1a1b",
     "showTitle": false,
     "title": ""
    }
   },
   "outputs": [
    {
     "output_type": "stream",
     "name": "stdout",
     "output_type": "stream",
     "text": [
      "+--------------------+-------------------+-----+\n|   DEST_COUNTRY_NAME|ORIGIN_COUNTRY_NAME|count|\n+--------------------+-------------------+-----+\n|       United States|            Romania|    1|\n|       United States|            Ireland|  264|\n|       United States|              India|   69|\n|               Egypt|      United States|   24|\n|   Equatorial Guinea|      United States|    1|\n|       United States|          Singapore|   25|\n|       United States|            Grenada|   54|\n|          Costa Rica|      United States|  477|\n|             Senegal|      United States|   29|\n|       United States|   Marshall Islands|   44|\n|              Guyana|      United States|   17|\n|       United States|       Sint Maarten|   53|\n|               Malta|      United States|    1|\n|             Bolivia|      United States|   46|\n|            Anguilla|      United States|   21|\n|Turks and Caicos ...|      United States|  136|\n|       United States|        Afghanistan|    2|\n|Saint Vincent and...|      United States|    1|\n|               Italy|      United States|  390|\n|       United States|             Russia|  156|\n+--------------------+-------------------+-----+\nonly showing top 20 rows\n\n"
     ]
    }
   ],
   "source": [
    "flight_df.show()"
   ]
  },
  {
   "cell_type": "code",
   "execution_count": 0,
   "metadata": {
    "application/vnd.databricks.v1+cell": {
     "cellMetadata": {
      "byteLimit": 2048000,
      "rowLimit": 10000
     },
     "inputWidgets": {},
     "nuid": "57b1cab4-677c-4d17-8d3b-b75146705606",
     "showTitle": false,
     "title": ""
    }
   },
   "outputs": [
    {
     "output_type": "stream",
     "name": "stdout",
     "output_type": "stream",
     "text": [
      "Out[5]: 1"
     ]
    }
   ],
   "source": [
    "flight_df.rdd.getNumPartitions()"
   ]
  },
  {
   "cell_type": "code",
   "execution_count": 0,
   "metadata": {
    "application/vnd.databricks.v1+cell": {
     "cellMetadata": {
      "byteLimit": 2048000,
      "rowLimit": 10000
     },
     "inputWidgets": {},
     "nuid": "8311e062-ac2f-42c5-8e8c-cbe1904f4e26",
     "showTitle": false,
     "title": ""
    }
   },
   "outputs": [],
   "source": [
    "partitioned_flight_df = flight_df.repartition(4)"
   ]
  },
  {
   "cell_type": "code",
   "execution_count": 0,
   "metadata": {
    "application/vnd.databricks.v1+cell": {
     "cellMetadata": {
      "byteLimit": 2048000,
      "rowLimit": 10000
     },
     "inputWidgets": {},
     "nuid": "a93488dd-a07f-4a1d-8a82-72ddee5cfd3f",
     "showTitle": false,
     "title": ""
    }
   },
   "outputs": [
    {
     "output_type": "stream",
     "name": "stdout",
     "output_type": "stream",
     "text": [
      "+-----------+-----+\n|partitionId|count|\n+-----------+-----+\n|          0|   63|\n|          1|   64|\n|          2|   64|\n|          3|   64|\n+-----------+-----+\n\n"
     ]
    }
   ],
   "source": [
    "partitioned_flight_df.withColumn(\"partitionId\", spark_partition_id()).groupBy(\"partitionId\").count().show()"
   ]
  },
  {
   "cell_type": "markdown",
   "metadata": {
    "application/vnd.databricks.v1+cell": {
     "cellMetadata": {},
     "inputWidgets": {},
     "nuid": "284b6fbc-09af-492d-b5e8-a8a07e75d5d9",
     "showTitle": false,
     "title": ""
    }
   },
   "source": [
    "when re distributed- the data will be distributed equally , in above each partion recieved 64 records "
   ]
  },
  {
   "cell_type": "markdown",
   "metadata": {
    "application/vnd.databricks.v1+cell": {
     "cellMetadata": {},
     "inputWidgets": {},
     "nuid": "0558f8b1-f9c3-4de1-af82-a406b3bdc850",
     "showTitle": false,
     "title": ""
    }
   },
   "source": [
    "repartition based on column"
   ]
  },
  {
   "cell_type": "code",
   "execution_count": 0,
   "metadata": {
    "application/vnd.databricks.v1+cell": {
     "cellMetadata": {
      "byteLimit": 2048000,
      "rowLimit": 10000
     },
     "inputWidgets": {},
     "nuid": "dcf0e0a8-a664-4b5f-bbec-ba1f1a946711",
     "showTitle": false,
     "title": ""
    }
   },
   "outputs": [],
   "source": [
    "partitioned_on_column = flight_df.repartition(300, \"ORIGIN_COUNTRY_NAME\")"
   ]
  },
  {
   "cell_type": "code",
   "execution_count": 0,
   "metadata": {
    "application/vnd.databricks.v1+cell": {
     "cellMetadata": {
      "byteLimit": 2048000,
      "rowLimit": 10000
     },
     "inputWidgets": {},
     "nuid": "999283eb-23bf-44a2-bfe1-fc0dbab440fa",
     "showTitle": false,
     "title": ""
    }
   },
   "outputs": [
    {
     "output_type": "stream",
     "name": "stdout",
     "output_type": "stream",
     "text": [
      "Out[12]: 300"
     ]
    }
   ],
   "source": [
    "partitioned_on_column.rdd.getNumPartitions()"
   ]
  },
  {
   "cell_type": "code",
   "execution_count": 0,
   "metadata": {
    "application/vnd.databricks.v1+cell": {
     "cellMetadata": {
      "byteLimit": 2048000,
      "rowLimit": 10000
     },
     "inputWidgets": {},
     "nuid": "00bdcc61-b537-4442-bb2a-2712a1572185",
     "showTitle": false,
     "title": ""
    }
   },
   "outputs": [
    {
     "output_type": "stream",
     "name": "stdout",
     "output_type": "stream",
     "text": [
      "+-----------+-----+\n|partitionId|count|\n+-----------+-----+\n|          0|    1|\n|          2|    1|\n|          7|    1|\n|         10|    1|\n|         13|    1|\n|         15|    2|\n|         16|    2|\n|         19|    1|\n|         21|    1|\n|         22|    1|\n|         28|    1|\n|         31|    1|\n|         39|    1|\n|         42|    1|\n|         43|    1|\n|         44|    1|\n|         45|    2|\n|         48|    1|\n|         53|    1|\n|         54|    1|\n|         55|    1|\n|         65|    1|\n|         70|    1|\n|         73|    1|\n|         75|    1|\n|         76|    2|\n|         81|    1|\n|         84|    2|\n|         86|    1|\n|         87|    1|\n|         90|    1|\n|         91|    1|\n|         97|    2|\n|        100|    1|\n|        103|    2|\n|        104|    1|\n|        108|    1|\n|        112|    2|\n|        115|    1|\n|        117|    2|\n|        126|    1|\n|        127|    2|\n|        129|    1|\n|        130|    2|\n|        132|    1|\n|        133|    1|\n|        138|    1|\n|        140|    1|\n|        144|    1|\n|        148|    1|\n|        156|    2|\n|        157|    1|\n|        159|    2|\n|        162|    1|\n|        165|    1|\n|        172|    1|\n|        174|    1|\n|        175|    1|\n|        176|    1|\n|        178|    1|\n|        181|    1|\n|        185|    2|\n|        188|    1|\n|        201|    1|\n|        202|    1|\n|        204|    2|\n|        209|    1|\n|        210|    1|\n|        213|    1|\n|        215|    1|\n|        220|    1|\n|        221|    1|\n|        223|    1|\n|        225|    1|\n|        226|    1|\n|        230|    1|\n|        231|    1|\n|        234|    1|\n|        236|    1|\n|        238|    2|\n|        242|    1|\n|        243|    1|\n|        245|    1|\n|        251|    1|\n|        254|    1|\n|        256|    1|\n|        257|    1|\n|        258|    1|\n|        259|  126|\n|        262|    2|\n|        263|    1|\n|        267|    1|\n|        268|    1|\n|        269|    1|\n|        271|    1|\n|        272|    1|\n|        275|    1|\n|        276|    1|\n|        277|    2|\n|        280|    2|\n|        281|    2|\n|        283|    1|\n|        284|    1|\n|        286|    1|\n|        288|    1|\n|        290|    1|\n|        295|    2|\n|        296|    1|\n|        299|    1|\n+-----------+-----+\n\n"
     ]
    }
   ],
   "source": [
    "partitioned_on_column.withColumn(\"partitionId\", spark_partition_id()).groupBy(\"partitionId\").count().show(300)"
   ]
  },
  {
   "cell_type": "markdown",
   "metadata": {
    "application/vnd.databricks.v1+cell": {
     "cellMetadata": {},
     "inputWidgets": {},
     "nuid": "88038497-7d50-43e1-b4d3-4def6d24a84b",
     "showTitle": false,
     "title": ""
    }
   },
   "source": [
    "# coalesce"
   ]
  },
  {
   "cell_type": "code",
   "execution_count": 0,
   "metadata": {
    "application/vnd.databricks.v1+cell": {
     "cellMetadata": {
      "byteLimit": 2048000,
      "rowLimit": 10000
     },
     "inputWidgets": {},
     "nuid": "c82d5c52-02da-435a-9418-c1a12b5011aa",
     "showTitle": false,
     "title": ""
    }
   },
   "outputs": [],
   "source": [
    "coalesce_flight_df = flight_df.repartition(8)"
   ]
  },
  {
   "cell_type": "code",
   "execution_count": 0,
   "metadata": {
    "application/vnd.databricks.v1+cell": {
     "cellMetadata": {
      "byteLimit": 2048000,
      "rowLimit": 10000
     },
     "inputWidgets": {},
     "nuid": "103b50b1-ebb4-459b-87bf-23c181b625a6",
     "showTitle": false,
     "title": ""
    }
   },
   "outputs": [],
   "source": [
    "three_coalesce_df = coalesce_flight_df.coalesce(3)"
   ]
  },
  {
   "cell_type": "code",
   "execution_count": 0,
   "metadata": {
    "application/vnd.databricks.v1+cell": {
     "cellMetadata": {
      "byteLimit": 2048000,
      "rowLimit": 10000
     },
     "inputWidgets": {},
     "nuid": "05ada8cd-d2f4-4583-824e-d87de91f63a8",
     "showTitle": false,
     "title": ""
    }
   },
   "outputs": [
    {
     "output_type": "stream",
     "name": "stdout",
     "output_type": "stream",
     "text": [
      "+-----------+-----+\n|partitionId|count|\n+-----------+-----+\n|          0|   63|\n|          1|   96|\n|          2|   96|\n+-----------+-----+\n\n"
     ]
    }
   ],
   "source": [
    "three_coalesce_df.withColumn(\"partitionId\", spark_partition_id()).groupBy(\"partitionId\").count().show()"
   ]
  },
  {
   "cell_type": "code",
   "execution_count": 0,
   "metadata": {
    "application/vnd.databricks.v1+cell": {
     "cellMetadata": {
      "byteLimit": 2048000,
      "rowLimit": 10000
     },
     "inputWidgets": {},
     "nuid": "05cc391f-75b5-475f-ba55-dc86e933dbbb",
     "showTitle": false,
     "title": ""
    }
   },
   "outputs": [],
   "source": [
    "three_repartition_df = coalesce_flight_df.repartition(3)"
   ]
  },
  {
   "cell_type": "code",
   "execution_count": 0,
   "metadata": {
    "application/vnd.databricks.v1+cell": {
     "cellMetadata": {
      "byteLimit": 2048000,
      "rowLimit": 10000
     },
     "inputWidgets": {},
     "nuid": "0c187f08-e4bd-4f78-b2f0-d48b7a5c59c3",
     "showTitle": false,
     "title": ""
    }
   },
   "outputs": [
    {
     "output_type": "stream",
     "name": "stdout",
     "output_type": "stream",
     "text": [
      "+-----------+-----+\n|partitionId|count|\n+-----------+-----+\n|          0|   85|\n|          1|   85|\n|          2|   85|\n+-----------+-----+\n\n"
     ]
    }
   ],
   "source": [
    "three_repartition_df.withColumn(\"partitionId\", spark_partition_id()).groupBy(\"partitionId\").count().show()"
   ]
  }
 ],
 "metadata": {
  "application/vnd.databricks.v1+notebook": {
   "dashboards": [],
   "environmentMetadata": null,
   "language": "python",
   "notebookMetadata": {
    "pythonIndentUnit": 4
   },
   "notebookName": "repartition vs coalesce",
   "widgets": {}
  }
 },
 "nbformat": 4,
 "nbformat_minor": 0
}
