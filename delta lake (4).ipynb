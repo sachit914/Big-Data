{
 "cells": [
  {
   "cell_type": "code",
   "execution_count": 0,
   "metadata": {
    "application/vnd.databricks.v1+cell": {
     "cellMetadata": {
      "byteLimit": 2048000,
      "rowLimit": 10000
     },
     "inputWidgets": {},
     "nuid": "de0cfaf6-cdb3-4852-be69-c218d357de7f",
     "showTitle": false,
     "tableResultSettingsMap": {},
     "title": ""
    }
   },
   "outputs": [],
   "source": [
    "from delta.tables import *\n"
   ]
  },
  {
   "cell_type": "code",
   "execution_count": 0,
   "metadata": {
    "application/vnd.databricks.v1+cell": {
     "cellMetadata": {
      "byteLimit": 2048000,
      "rowLimit": 10000
     },
     "inputWidgets": {},
     "nuid": "caf18fa2-df30-4b1d-8821-2e11896e6d13",
     "showTitle": false,
     "tableResultSettingsMap": {},
     "title": ""
    }
   },
   "outputs": [
    {
     "output_type": "stream",
     "name": "stdout",
     "output_type": "stream",
     "text": [
      "Out[3]: <delta.tables.DeltaTable at 0x7f269dc06eb0>"
     ]
    }
   ],
   "source": [
    "DeltaTable.create(spark) \\\n",
    "    .tableName(\"delta_internal_demo\") \\\n",
    "    .addColumn(\"emp_id\", \"INT\") \\\n",
    "    .addColumn(\"emp_name\", \"STRING\") \\\n",
    "    .addColumn(\"gender\", \"STRING\") \\\n",
    "    .addColumn(\"salary\", \"INT\") \\\n",
    "    .addColumn(\"Dept\", \"STRING\") \\\n",
    "    .property(\"description\", \"table created for demo purpose\") \\\n",
    "    .location(\"/FileStore/tables/delta/arch_demo\") \\\n",
    "    .execute()"
   ]
  },
  {
   "cell_type": "code",
   "execution_count": 0,
   "metadata": {
    "application/vnd.databricks.v1+cell": {
     "cellMetadata": {
      "byteLimit": 2048000,
      "rowLimit": 10000
     },
     "inputWidgets": {},
     "nuid": "e846ca20-5e02-4118-bbd7-e5456235fd03",
     "showTitle": false,
     "tableResultSettingsMap": {},
     "title": ""
    }
   },
   "outputs": [
    {
     "output_type": "display_data",
     "data": {
      "text/html": [
       "<style scoped>\n",
       "  .table-result-container {\n",
       "    max-height: 300px;\n",
       "    overflow: auto;\n",
       "  }\n",
       "  table, th, td {\n",
       "    border: 1px solid black;\n",
       "    border-collapse: collapse;\n",
       "  }\n",
       "  th, td {\n",
       "    padding: 5px;\n",
       "  }\n",
       "  th {\n",
       "    text-align: left;\n",
       "  }\n",
       "</style><div class='table-result-container'><table class='table-result'><thead style='background-color: white'><tr><th>path</th><th>name</th><th>size</th><th>modificationTime</th></tr></thead><tbody><tr><td>dbfs:/FileStore/tables/delta/arch_demo/_delta_log/.s3-optimization-0</td><td>.s3-optimization-0</td><td>0</td><td>1730101159000</td></tr><tr><td>dbfs:/FileStore/tables/delta/arch_demo/_delta_log/.s3-optimization-1</td><td>.s3-optimization-1</td><td>0</td><td>1730101159000</td></tr><tr><td>dbfs:/FileStore/tables/delta/arch_demo/_delta_log/.s3-optimization-2</td><td>.s3-optimization-2</td><td>0</td><td>1730101160000</td></tr><tr><td>dbfs:/FileStore/tables/delta/arch_demo/_delta_log/00000000000000000000.crc</td><td>00000000000000000000.crc</td><td>2233</td><td>1730101183000</td></tr><tr><td>dbfs:/FileStore/tables/delta/arch_demo/_delta_log/00000000000000000000.json</td><td>00000000000000000000.json</td><td>1254</td><td>1730101160000</td></tr></tbody></table></div>"
      ]
     },
     "metadata": {
      "application/vnd.databricks.v1+output": {
       "addedWidgets": {},
       "aggData": [],
       "aggError": "",
       "aggOverflow": false,
       "aggSchema": [],
       "aggSeriesLimitReached": false,
       "aggType": "",
       "arguments": {},
       "columnCustomDisplayInfos": {},
       "data": [
        [
         "dbfs:/FileStore/tables/delta/arch_demo/_delta_log/.s3-optimization-0",
         ".s3-optimization-0",
         0,
         1730101159000
        ],
        [
         "dbfs:/FileStore/tables/delta/arch_demo/_delta_log/.s3-optimization-1",
         ".s3-optimization-1",
         0,
         1730101159000
        ],
        [
         "dbfs:/FileStore/tables/delta/arch_demo/_delta_log/.s3-optimization-2",
         ".s3-optimization-2",
         0,
         1730101160000
        ],
        [
         "dbfs:/FileStore/tables/delta/arch_demo/_delta_log/00000000000000000000.crc",
         "00000000000000000000.crc",
         2233,
         1730101183000
        ],
        [
         "dbfs:/FileStore/tables/delta/arch_demo/_delta_log/00000000000000000000.json",
         "00000000000000000000.json",
         1254,
         1730101160000
        ]
       ],
       "datasetInfos": [],
       "dbfsResultPath": null,
       "isJsonSchema": true,
       "metadata": {
        "isDbfsCommandResult": false
       },
       "overflow": false,
       "plotOptions": {
        "customPlotOptions": {},
        "displayType": "table",
        "pivotAggregation": null,
        "pivotColumns": null,
        "xColumns": null,
        "yColumns": null
       },
       "removedWidgets": [],
       "schema": [
        {
         "metadata": "{}",
         "name": "path",
         "type": "\"string\""
        },
        {
         "metadata": "{}",
         "name": "name",
         "type": "\"string\""
        },
        {
         "metadata": "{}",
         "name": "size",
         "type": "\"long\""
        },
        {
         "metadata": "{}",
         "name": "modificationTime",
         "type": "\"long\""
        }
       ],
       "type": "table"
      }
     },
     "output_type": "display_data"
    }
   ],
   "source": [
    "%fs\n",
    "ls dbfs:/FileStore/tables/delta/arch_demo/_delta_log/"
   ]
  },
  {
   "cell_type": "code",
   "execution_count": 0,
   "metadata": {
    "application/vnd.databricks.v1+cell": {
     "cellMetadata": {
      "byteLimit": 2048000,
      "rowLimit": 10000
     },
     "inputWidgets": {},
     "nuid": "45a89b7f-58b8-4216-8c95-c2a3461afbea",
     "showTitle": false,
     "tableResultSettingsMap": {},
     "title": ""
    }
   },
   "outputs": [
    {
     "output_type": "display_data",
     "data": {
      "text/html": [
       "<style scoped>\n",
       "  .ansiout {\n",
       "    display: block;\n",
       "    unicode-bidi: embed;\n",
       "    white-space: pre-wrap;\n",
       "    word-wrap: break-word;\n",
       "    word-break: break-all;\n",
       "    font-family: \"Menlo\", \"Monaco\", \"Consolas\", \"Ubuntu Mono\", \"Source Code Pro\", monospace;\n",
       "    font-size: 13px;\n",
       "    color: #555;\n",
       "    margin-left: 4px;\n",
       "    line-height: 19px;\n",
       "  }\n",
       "</style>\n",
       "<div class=\"ansiout\">{&quot;commitInfo&quot;:{&quot;timestamp&quot;:1730101159105,&quot;userId&quot;:&quot;4072984634355030&quot;,&quot;userName&quot;:&quot;sachitramkoppal@gmail.com&quot;,&quot;operation&quot;:&quot;CREATE TABLE&quot;,&quot;operationParameters&quot;:{&quot;isManaged&quot;:&quot;false&quot;,&quot;description&quot;:null,&quot;partitionBy&quot;:&quot;[]&quot;,&quot;properties&quot;:&quot;{\\&quot;description\\&quot;:\\&quot;table created for demo purpose\\&quot;}&quot;},&quot;notebook&quot;:{&quot;notebookId&quot;:&quot;615708985720197&quot;},&quot;clusterId&quot;:&quot;1028-073647-u9h3ndj2&quot;,&quot;isolationLevel&quot;:&quot;WriteSerializable&quot;,&quot;isBlindAppend&quot;:true,&quot;operationMetrics&quot;:{},&quot;engineInfo&quot;:&quot;Databricks-Runtime/12.2.x-scala2.12&quot;,&quot;txnId&quot;:&quot;a3b22855-12df-40e5-8b84-85cb8348adde&quot;}}\n",
       "{&quot;protocol&quot;:{&quot;minReaderVersion&quot;:1,&quot;minWriterVersion&quot;:2}}\n",
       "{&quot;metaData&quot;:{&quot;id&quot;:&quot;c2d7cc6d-0d71-4b24-8035-2bad20180394&quot;,&quot;format&quot;:{&quot;provider&quot;:&quot;parquet&quot;,&quot;options&quot;:{}},&quot;schemaString&quot;:&quot;{\\&quot;type\\&quot;:\\&quot;struct\\&quot;,\\&quot;fields\\&quot;:[{\\&quot;name\\&quot;:\\&quot;emp_id\\&quot;,\\&quot;type\\&quot;:\\&quot;integer\\&quot;,\\&quot;nullable\\&quot;:true,\\&quot;metadata\\&quot;:{}},{\\&quot;name\\&quot;:\\&quot;emp_name\\&quot;,\\&quot;type\\&quot;:\\&quot;string\\&quot;,\\&quot;nullable\\&quot;:true,\\&quot;metadata\\&quot;:{}},{\\&quot;name\\&quot;:\\&quot;gender\\&quot;,\\&quot;type\\&quot;:\\&quot;string\\&quot;,\\&quot;nullable\\&quot;:true,\\&quot;metadata\\&quot;:{}},{\\&quot;name\\&quot;:\\&quot;salary\\&quot;,\\&quot;type\\&quot;:\\&quot;integer\\&quot;,\\&quot;nullable\\&quot;:true,\\&quot;metadata\\&quot;:{}},{\\&quot;name\\&quot;:\\&quot;Dept\\&quot;,\\&quot;type\\&quot;:\\&quot;string\\&quot;,\\&quot;nullable\\&quot;:true,\\&quot;metadata\\&quot;:{}}]}&quot;,&quot;partitionColumns&quot;:[],&quot;configuration&quot;:{&quot;description&quot;:&quot;table created for demo purpose&quot;},&quot;createdTime&quot;:1730101157139}}\n",
       "\n",
       "</div>"
      ]
     },
     "metadata": {
      "application/vnd.databricks.v1+output": {
       "addedWidgets": {},
       "arguments": {},
       "data": "<div class=\"ansiout\">{&quot;commitInfo&quot;:{&quot;timestamp&quot;:1730101159105,&quot;userId&quot;:&quot;4072984634355030&quot;,&quot;userName&quot;:&quot;sachitramkoppal@gmail.com&quot;,&quot;operation&quot;:&quot;CREATE TABLE&quot;,&quot;operationParameters&quot;:{&quot;isManaged&quot;:&quot;false&quot;,&quot;description&quot;:null,&quot;partitionBy&quot;:&quot;[]&quot;,&quot;properties&quot;:&quot;{\\&quot;description\\&quot;:\\&quot;table created for demo purpose\\&quot;}&quot;},&quot;notebook&quot;:{&quot;notebookId&quot;:&quot;615708985720197&quot;},&quot;clusterId&quot;:&quot;1028-073647-u9h3ndj2&quot;,&quot;isolationLevel&quot;:&quot;WriteSerializable&quot;,&quot;isBlindAppend&quot;:true,&quot;operationMetrics&quot;:{},&quot;engineInfo&quot;:&quot;Databricks-Runtime/12.2.x-scala2.12&quot;,&quot;txnId&quot;:&quot;a3b22855-12df-40e5-8b84-85cb8348adde&quot;}}\n{&quot;protocol&quot;:{&quot;minReaderVersion&quot;:1,&quot;minWriterVersion&quot;:2}}\n{&quot;metaData&quot;:{&quot;id&quot;:&quot;c2d7cc6d-0d71-4b24-8035-2bad20180394&quot;,&quot;format&quot;:{&quot;provider&quot;:&quot;parquet&quot;,&quot;options&quot;:{}},&quot;schemaString&quot;:&quot;{\\&quot;type\\&quot;:\\&quot;struct\\&quot;,\\&quot;fields\\&quot;:[{\\&quot;name\\&quot;:\\&quot;emp_id\\&quot;,\\&quot;type\\&quot;:\\&quot;integer\\&quot;,\\&quot;nullable\\&quot;:true,\\&quot;metadata\\&quot;:{}},{\\&quot;name\\&quot;:\\&quot;emp_name\\&quot;,\\&quot;type\\&quot;:\\&quot;string\\&quot;,\\&quot;nullable\\&quot;:true,\\&quot;metadata\\&quot;:{}},{\\&quot;name\\&quot;:\\&quot;gender\\&quot;,\\&quot;type\\&quot;:\\&quot;string\\&quot;,\\&quot;nullable\\&quot;:true,\\&quot;metadata\\&quot;:{}},{\\&quot;name\\&quot;:\\&quot;salary\\&quot;,\\&quot;type\\&quot;:\\&quot;integer\\&quot;,\\&quot;nullable\\&quot;:true,\\&quot;metadata\\&quot;:{}},{\\&quot;name\\&quot;:\\&quot;Dept\\&quot;,\\&quot;type\\&quot;:\\&quot;string\\&quot;,\\&quot;nullable\\&quot;:true,\\&quot;metadata\\&quot;:{}}]}&quot;,&quot;partitionColumns&quot;:[],&quot;configuration&quot;:{&quot;description&quot;:&quot;table created for demo purpose&quot;},&quot;createdTime&quot;:1730101157139}}\n\n</div>",
       "datasetInfos": [],
       "metadata": {
        "isDbfsCommandResult": false
       },
       "removedWidgets": [],
       "type": "html"
      }
     },
     "output_type": "display_data"
    }
   ],
   "source": [
    "%fs\n",
    "head dbfs:/FileStore/tables/delta/arch_demo/_delta_log/00000000000000000000.json"
   ]
  },
  {
   "cell_type": "code",
   "execution_count": 0,
   "metadata": {
    "application/vnd.databricks.v1+cell": {
     "cellMetadata": {
      "byteLimit": 2048000,
      "implicitDf": true,
      "rowLimit": 10000
     },
     "inputWidgets": {},
     "nuid": "e2008b26-a213-4ce8-bfef-f88aab115a02",
     "showTitle": false,
     "tableResultSettingsMap": {},
     "title": ""
    }
   },
   "outputs": [
    {
     "output_type": "display_data",
     "data": {
      "text/html": [
       "<style scoped>\n",
       "  .table-result-container {\n",
       "    max-height: 300px;\n",
       "    overflow: auto;\n",
       "  }\n",
       "  table, th, td {\n",
       "    border: 1px solid black;\n",
       "    border-collapse: collapse;\n",
       "  }\n",
       "  th, td {\n",
       "    padding: 5px;\n",
       "  }\n",
       "  th {\n",
       "    text-align: left;\n",
       "  }\n",
       "</style><div class='table-result-container'><table class='table-result'><thead style='background-color: white'><tr><th>num_affected_rows</th><th>num_inserted_rows</th></tr></thead><tbody><tr><td>1</td><td>1</td></tr></tbody></table></div>"
      ]
     },
     "metadata": {
      "application/vnd.databricks.v1+output": {
       "addedWidgets": {},
       "aggData": [],
       "aggError": "",
       "aggOverflow": false,
       "aggSchema": [],
       "aggSeriesLimitReached": false,
       "aggType": "",
       "arguments": {},
       "columnCustomDisplayInfos": {},
       "data": [
        [
         1,
         1
        ]
       ],
       "datasetInfos": [],
       "dbfsResultPath": null,
       "isJsonSchema": true,
       "metadata": {},
       "overflow": false,
       "plotOptions": {
        "customPlotOptions": {},
        "displayType": "table",
        "pivotAggregation": null,
        "pivotColumns": null,
        "xColumns": null,
        "yColumns": null
       },
       "removedWidgets": [],
       "schema": [
        {
         "metadata": "{}",
         "name": "num_affected_rows",
         "type": "\"long\""
        },
        {
         "metadata": "{}",
         "name": "num_inserted_rows",
         "type": "\"long\""
        }
       ],
       "type": "table"
      }
     },
     "output_type": "display_data"
    }
   ],
   "source": [
    "%sql\n",
    "insert into delta_internal_demo values (180, \"Stephen\", \"M\", 2008, \"IT\");"
   ]
  },
  {
   "cell_type": "markdown",
   "metadata": {
    "application/vnd.databricks.v1+cell": {
     "cellMetadata": {},
     "inputWidgets": {},
     "nuid": "da56ed73-0850-4ed1-ab6f-a3e846c6e485",
     "showTitle": false,
     "tableResultSettingsMap": {},
     "title": ""
    }
   },
   "source": [
    "after performing some DML Operation json files will create to keep track of data"
   ]
  },
  {
   "cell_type": "code",
   "execution_count": 0,
   "metadata": {
    "application/vnd.databricks.v1+cell": {
     "cellMetadata": {
      "byteLimit": 2048000,
      "rowLimit": 10000
     },
     "inputWidgets": {},
     "nuid": "97773363-bd49-484e-8fdb-45963fc9c950",
     "showTitle": false,
     "tableResultSettingsMap": {},
     "title": ""
    }
   },
   "outputs": [
    {
     "output_type": "display_data",
     "data": {
      "text/html": [
       "<style scoped>\n",
       "  .table-result-container {\n",
       "    max-height: 300px;\n",
       "    overflow: auto;\n",
       "  }\n",
       "  table, th, td {\n",
       "    border: 1px solid black;\n",
       "    border-collapse: collapse;\n",
       "  }\n",
       "  th, td {\n",
       "    padding: 5px;\n",
       "  }\n",
       "  th {\n",
       "    text-align: left;\n",
       "  }\n",
       "</style><div class='table-result-container'><table class='table-result'><thead style='background-color: white'><tr><th>path</th><th>name</th><th>size</th><th>modificationTime</th></tr></thead><tbody><tr><td>dbfs:/FileStore/tables/delta/arch_demo/_delta_log/.s3-optimization-0</td><td>.s3-optimization-0</td><td>0</td><td>1730101159000</td></tr><tr><td>dbfs:/FileStore/tables/delta/arch_demo/_delta_log/.s3-optimization-1</td><td>.s3-optimization-1</td><td>0</td><td>1730101159000</td></tr><tr><td>dbfs:/FileStore/tables/delta/arch_demo/_delta_log/.s3-optimization-2</td><td>.s3-optimization-2</td><td>0</td><td>1730101160000</td></tr><tr><td>dbfs:/FileStore/tables/delta/arch_demo/_delta_log/00000000000000000000.crc</td><td>00000000000000000000.crc</td><td>2233</td><td>1730101183000</td></tr><tr><td>dbfs:/FileStore/tables/delta/arch_demo/_delta_log/00000000000000000000.json</td><td>00000000000000000000.json</td><td>1254</td><td>1730101160000</td></tr><tr><td>dbfs:/FileStore/tables/delta/arch_demo/_delta_log/00000000000000000001.crc</td><td>00000000000000000001.crc</td><td>2882</td><td>1730102511000</td></tr><tr><td>dbfs:/FileStore/tables/delta/arch_demo/_delta_log/00000000000000000001.json</td><td>00000000000000000001.json</td><td>1171</td><td>1730102505000</td></tr></tbody></table></div>"
      ]
     },
     "metadata": {
      "application/vnd.databricks.v1+output": {
       "addedWidgets": {},
       "aggData": [],
       "aggError": "",
       "aggOverflow": false,
       "aggSchema": [],
       "aggSeriesLimitReached": false,
       "aggType": "",
       "arguments": {},
       "columnCustomDisplayInfos": {},
       "data": [
        [
         "dbfs:/FileStore/tables/delta/arch_demo/_delta_log/.s3-optimization-0",
         ".s3-optimization-0",
         0,
         1730101159000
        ],
        [
         "dbfs:/FileStore/tables/delta/arch_demo/_delta_log/.s3-optimization-1",
         ".s3-optimization-1",
         0,
         1730101159000
        ],
        [
         "dbfs:/FileStore/tables/delta/arch_demo/_delta_log/.s3-optimization-2",
         ".s3-optimization-2",
         0,
         1730101160000
        ],
        [
         "dbfs:/FileStore/tables/delta/arch_demo/_delta_log/00000000000000000000.crc",
         "00000000000000000000.crc",
         2233,
         1730101183000
        ],
        [
         "dbfs:/FileStore/tables/delta/arch_demo/_delta_log/00000000000000000000.json",
         "00000000000000000000.json",
         1254,
         1730101160000
        ],
        [
         "dbfs:/FileStore/tables/delta/arch_demo/_delta_log/00000000000000000001.crc",
         "00000000000000000001.crc",
         2882,
         1730102511000
        ],
        [
         "dbfs:/FileStore/tables/delta/arch_demo/_delta_log/00000000000000000001.json",
         "00000000000000000001.json",
         1171,
         1730102505000
        ]
       ],
       "datasetInfos": [],
       "dbfsResultPath": null,
       "isJsonSchema": true,
       "metadata": {
        "isDbfsCommandResult": false
       },
       "overflow": false,
       "plotOptions": {
        "customPlotOptions": {},
        "displayType": "table",
        "pivotAggregation": null,
        "pivotColumns": null,
        "xColumns": null,
        "yColumns": null
       },
       "removedWidgets": [],
       "schema": [
        {
         "metadata": "{}",
         "name": "path",
         "type": "\"string\""
        },
        {
         "metadata": "{}",
         "name": "name",
         "type": "\"string\""
        },
        {
         "metadata": "{}",
         "name": "size",
         "type": "\"long\""
        },
        {
         "metadata": "{}",
         "name": "modificationTime",
         "type": "\"long\""
        }
       ],
       "type": "table"
      }
     },
     "output_type": "display_data"
    }
   ],
   "source": [
    "%fs\n",
    "ls dbfs:/FileStore/tables/delta/arch_demo/_delta_log/"
   ]
  },
  {
   "cell_type": "markdown",
   "metadata": {
    "application/vnd.databricks.v1+cell": {
     "cellMetadata": {},
     "inputWidgets": {},
     "nuid": "6579e601-8c18-4272-929b-a73920d06b6f",
     "showTitle": false,
     "tableResultSettingsMap": {},
     "title": ""
    }
   },
   "source": [
    "if we end with ; after sql query it will consider as one transaction"
   ]
  },
  {
   "cell_type": "code",
   "execution_count": 0,
   "metadata": {
    "application/vnd.databricks.v1+cell": {
     "cellMetadata": {
      "byteLimit": 2048000,
      "implicitDf": true,
      "rowLimit": 10000
     },
     "inputWidgets": {},
     "nuid": "ee4332ea-aee6-482b-8f91-3edfbef56b60",
     "showTitle": false,
     "tableResultSettingsMap": {},
     "title": ""
    }
   },
   "outputs": [
    {
     "output_type": "display_data",
     "data": {
      "text/html": [
       "<style scoped>\n",
       "  .table-result-container {\n",
       "    max-height: 300px;\n",
       "    overflow: auto;\n",
       "  }\n",
       "  table, th, td {\n",
       "    border: 1px solid black;\n",
       "    border-collapse: collapse;\n",
       "  }\n",
       "  th, td {\n",
       "    padding: 5px;\n",
       "  }\n",
       "  th {\n",
       "    text-align: left;\n",
       "  }\n",
       "</style><div class='table-result-container'><table class='table-result'><thead style='background-color: white'><tr><th>num_affected_rows</th><th>num_inserted_rows</th></tr></thead><tbody><tr><td>1</td><td>1</td></tr></tbody></table></div>"
      ]
     },
     "metadata": {
      "application/vnd.databricks.v1+output": {
       "addedWidgets": {},
       "aggData": [],
       "aggError": "",
       "aggOverflow": false,
       "aggSchema": [],
       "aggSeriesLimitReached": false,
       "aggType": "",
       "arguments": {},
       "columnCustomDisplayInfos": {},
       "data": [
        [
         1,
         1
        ]
       ],
       "datasetInfos": [],
       "dbfsResultPath": null,
       "isJsonSchema": true,
       "metadata": {},
       "overflow": false,
       "plotOptions": {
        "customPlotOptions": {},
        "displayType": "table",
        "pivotAggregation": null,
        "pivotColumns": null,
        "xColumns": null,
        "yColumns": null
       },
       "removedWidgets": [],
       "schema": [
        {
         "metadata": "{}",
         "name": "num_affected_rows",
         "type": "\"long\""
        },
        {
         "metadata": "{}",
         "name": "num_inserted_rows",
         "type": "\"long\""
        }
       ],
       "type": "table"
      }
     },
     "output_type": "display_data"
    }
   ],
   "source": [
    "%sql\n",
    "insert into delta_internal_demo values (208, \"Philipp\", \"M\", 8888, \"HR\");\n",
    "insert into delta_internal_demo values (360, \"Lara\", \"F\", 6008, \"SALES\");\n",
    "-- here two transaction are taking place\n",
    "\n",
    "-- if we dont add ; then we consider as one transaction\n",
    "-- insert into delta_internal_demo values (208, \"Philipp\", \"M\", 8888, \"HR\")\n",
    "-- insert into delta_internal_demo values (360, \"Lara\", \"F\", 6008, \"SALES\")\n",
    "-- insert into delta_internal_demo values (208, \"Philipp\", \"M\", 8888, \"HR\")\n",
    "-- insert into delta_internal_demo values (360, \"Lara\", \"F\", 6008, \"SALES\");\n",
    "\n",
    "-- one transaction"
   ]
  },
  {
   "cell_type": "code",
   "execution_count": 0,
   "metadata": {
    "application/vnd.databricks.v1+cell": {
     "cellMetadata": {
      "byteLimit": 2048000,
      "rowLimit": 10000
     },
     "inputWidgets": {},
     "nuid": "779d5246-390a-4e96-bca3-f092c530c82e",
     "showTitle": false,
     "tableResultSettingsMap": {},
     "title": ""
    }
   },
   "outputs": [
    {
     "output_type": "display_data",
     "data": {
      "text/html": [
       "<style scoped>\n",
       "  .table-result-container {\n",
       "    max-height: 300px;\n",
       "    overflow: auto;\n",
       "  }\n",
       "  table, th, td {\n",
       "    border: 1px solid black;\n",
       "    border-collapse: collapse;\n",
       "  }\n",
       "  th, td {\n",
       "    padding: 5px;\n",
       "  }\n",
       "  th {\n",
       "    text-align: left;\n",
       "  }\n",
       "</style><div class='table-result-container'><table class='table-result'><thead style='background-color: white'><tr><th>path</th><th>name</th><th>size</th><th>modificationTime</th></tr></thead><tbody><tr><td>dbfs:/FileStore/tables/delta/arch_demo/_delta_log/.s3-optimization-0</td><td>.s3-optimization-0</td><td>0</td><td>1730101159000</td></tr><tr><td>dbfs:/FileStore/tables/delta/arch_demo/_delta_log/.s3-optimization-1</td><td>.s3-optimization-1</td><td>0</td><td>1730101159000</td></tr><tr><td>dbfs:/FileStore/tables/delta/arch_demo/_delta_log/.s3-optimization-2</td><td>.s3-optimization-2</td><td>0</td><td>1730101160000</td></tr><tr><td>dbfs:/FileStore/tables/delta/arch_demo/_delta_log/00000000000000000000.crc</td><td>00000000000000000000.crc</td><td>2233</td><td>1730101183000</td></tr><tr><td>dbfs:/FileStore/tables/delta/arch_demo/_delta_log/00000000000000000000.json</td><td>00000000000000000000.json</td><td>1254</td><td>1730101160000</td></tr><tr><td>dbfs:/FileStore/tables/delta/arch_demo/_delta_log/00000000000000000001.crc</td><td>00000000000000000001.crc</td><td>2882</td><td>1730102511000</td></tr><tr><td>dbfs:/FileStore/tables/delta/arch_demo/_delta_log/00000000000000000001.json</td><td>00000000000000000001.json</td><td>1171</td><td>1730102505000</td></tr><tr><td>dbfs:/FileStore/tables/delta/arch_demo/_delta_log/00000000000000000002.crc</td><td>00000000000000000002.crc</td><td>3526</td><td>1730102870000</td></tr><tr><td>dbfs:/FileStore/tables/delta/arch_demo/_delta_log/00000000000000000002.json</td><td>00000000000000000002.json</td><td>1171</td><td>1730102866000</td></tr><tr><td>dbfs:/FileStore/tables/delta/arch_demo/_delta_log/00000000000000000003.crc</td><td>00000000000000000003.crc</td><td>4170</td><td>1730102874000</td></tr><tr><td>dbfs:/FileStore/tables/delta/arch_demo/_delta_log/00000000000000000003.json</td><td>00000000000000000003.json</td><td>1171</td><td>1730102871000</td></tr></tbody></table></div>"
      ]
     },
     "metadata": {
      "application/vnd.databricks.v1+output": {
       "addedWidgets": {},
       "aggData": [],
       "aggError": "",
       "aggOverflow": false,
       "aggSchema": [],
       "aggSeriesLimitReached": false,
       "aggType": "",
       "arguments": {},
       "columnCustomDisplayInfos": {},
       "data": [
        [
         "dbfs:/FileStore/tables/delta/arch_demo/_delta_log/.s3-optimization-0",
         ".s3-optimization-0",
         0,
         1730101159000
        ],
        [
         "dbfs:/FileStore/tables/delta/arch_demo/_delta_log/.s3-optimization-1",
         ".s3-optimization-1",
         0,
         1730101159000
        ],
        [
         "dbfs:/FileStore/tables/delta/arch_demo/_delta_log/.s3-optimization-2",
         ".s3-optimization-2",
         0,
         1730101160000
        ],
        [
         "dbfs:/FileStore/tables/delta/arch_demo/_delta_log/00000000000000000000.crc",
         "00000000000000000000.crc",
         2233,
         1730101183000
        ],
        [
         "dbfs:/FileStore/tables/delta/arch_demo/_delta_log/00000000000000000000.json",
         "00000000000000000000.json",
         1254,
         1730101160000
        ],
        [
         "dbfs:/FileStore/tables/delta/arch_demo/_delta_log/00000000000000000001.crc",
         "00000000000000000001.crc",
         2882,
         1730102511000
        ],
        [
         "dbfs:/FileStore/tables/delta/arch_demo/_delta_log/00000000000000000001.json",
         "00000000000000000001.json",
         1171,
         1730102505000
        ],
        [
         "dbfs:/FileStore/tables/delta/arch_demo/_delta_log/00000000000000000002.crc",
         "00000000000000000002.crc",
         3526,
         1730102870000
        ],
        [
         "dbfs:/FileStore/tables/delta/arch_demo/_delta_log/00000000000000000002.json",
         "00000000000000000002.json",
         1171,
         1730102866000
        ],
        [
         "dbfs:/FileStore/tables/delta/arch_demo/_delta_log/00000000000000000003.crc",
         "00000000000000000003.crc",
         4170,
         1730102874000
        ],
        [
         "dbfs:/FileStore/tables/delta/arch_demo/_delta_log/00000000000000000003.json",
         "00000000000000000003.json",
         1171,
         1730102871000
        ]
       ],
       "datasetInfos": [],
       "dbfsResultPath": null,
       "isJsonSchema": true,
       "metadata": {
        "isDbfsCommandResult": false
       },
       "overflow": false,
       "plotOptions": {
        "customPlotOptions": {},
        "displayType": "table",
        "pivotAggregation": null,
        "pivotColumns": null,
        "xColumns": null,
        "yColumns": null
       },
       "removedWidgets": [],
       "schema": [
        {
         "metadata": "{}",
         "name": "path",
         "type": "\"string\""
        },
        {
         "metadata": "{}",
         "name": "name",
         "type": "\"string\""
        },
        {
         "metadata": "{}",
         "name": "size",
         "type": "\"long\""
        },
        {
         "metadata": "{}",
         "name": "modificationTime",
         "type": "\"long\""
        }
       ],
       "type": "table"
      }
     },
     "output_type": "display_data"
    }
   ],
   "source": [
    "%fs\n",
    "ls dbfs:/FileStore/tables/delta/arch_demo/_delta_log/"
   ]
  },
  {
   "cell_type": "code",
   "execution_count": 0,
   "metadata": {
    "application/vnd.databricks.v1+cell": {
     "cellMetadata": {
      "byteLimit": 2048000,
      "implicitDf": true,
      "rowLimit": 10000
     },
     "inputWidgets": {},
     "nuid": "004d3426-1d15-4097-b768-2b23b399211a",
     "showTitle": false,
     "tableResultSettingsMap": {},
     "title": ""
    }
   },
   "outputs": [
    {
     "output_type": "display_data",
     "data": {
      "text/html": [
       "<style scoped>\n",
       "  .table-result-container {\n",
       "    max-height: 300px;\n",
       "    overflow: auto;\n",
       "  }\n",
       "  table, th, td {\n",
       "    border: 1px solid black;\n",
       "    border-collapse: collapse;\n",
       "  }\n",
       "  th, td {\n",
       "    padding: 5px;\n",
       "  }\n",
       "  th {\n",
       "    text-align: left;\n",
       "  }\n",
       "</style><div class='table-result-container'><table class='table-result'><thead style='background-color: white'><tr><th>num_affected_rows</th><th>num_inserted_rows</th></tr></thead><tbody><tr><td>1</td><td>1</td></tr></tbody></table></div>"
      ]
     },
     "metadata": {
      "application/vnd.databricks.v1+output": {
       "addedWidgets": {},
       "aggData": [],
       "aggError": "",
       "aggOverflow": false,
       "aggSchema": [],
       "aggSeriesLimitReached": false,
       "aggType": "",
       "arguments": {},
       "columnCustomDisplayInfos": {},
       "data": [
        [
         1,
         1
        ]
       ],
       "datasetInfos": [],
       "dbfsResultPath": null,
       "isJsonSchema": true,
       "metadata": {},
       "overflow": false,
       "plotOptions": {
        "customPlotOptions": {},
        "displayType": "table",
        "pivotAggregation": null,
        "pivotColumns": null,
        "xColumns": null,
        "yColumns": null
       },
       "removedWidgets": [],
       "schema": [
        {
         "metadata": "{}",
         "name": "num_affected_rows",
         "type": "\"long\""
        },
        {
         "metadata": "{}",
         "name": "num_inserted_rows",
         "type": "\"long\""
        }
       ],
       "type": "table"
      }
     },
     "output_type": "display_data"
    }
   ],
   "source": [
    "%sql\n",
    "insert into delta_internal_demo values (100, \"Stephen\", \"M\", 2000, \"IT\");\n",
    "insert into delta_internal_demo values (200, \"Philipp\", \"M\", 8000, \"HR\");\n",
    "insert into delta_internal_demo values (300, \"Lara\", \"F\", 6000, \"SALES\");"
   ]
  },
  {
   "cell_type": "code",
   "execution_count": 0,
   "metadata": {
    "application/vnd.databricks.v1+cell": {
     "cellMetadata": {
      "byteLimit": 2048000,
      "implicitDf": true,
      "rowLimit": 10000
     },
     "inputWidgets": {},
     "nuid": "e0de8946-9a07-4600-8433-6d500e8a4c6e",
     "showTitle": false,
     "tableResultSettingsMap": {},
     "title": ""
    }
   },
   "outputs": [
    {
     "output_type": "display_data",
     "data": {
      "text/html": [
       "<style scoped>\n",
       "  .table-result-container {\n",
       "    max-height: 300px;\n",
       "    overflow: auto;\n",
       "  }\n",
       "  table, th, td {\n",
       "    border: 1px solid black;\n",
       "    border-collapse: collapse;\n",
       "  }\n",
       "  th, td {\n",
       "    padding: 5px;\n",
       "  }\n",
       "  th {\n",
       "    text-align: left;\n",
       "  }\n",
       "</style><div class='table-result-container'><table class='table-result'><thead style='background-color: white'><tr><th>num_affected_rows</th><th>num_inserted_rows</th></tr></thead><tbody><tr><td>1</td><td>1</td></tr></tbody></table></div>"
      ]
     },
     "metadata": {
      "application/vnd.databricks.v1+output": {
       "addedWidgets": {},
       "aggData": [],
       "aggError": "",
       "aggOverflow": false,
       "aggSchema": [],
       "aggSeriesLimitReached": false,
       "aggType": "",
       "arguments": {},
       "columnCustomDisplayInfos": {},
       "data": [
        [
         1,
         1
        ]
       ],
       "datasetInfos": [],
       "dbfsResultPath": null,
       "isJsonSchema": true,
       "metadata": {},
       "overflow": false,
       "plotOptions": {
        "customPlotOptions": {},
        "displayType": "table",
        "pivotAggregation": null,
        "pivotColumns": null,
        "xColumns": null,
        "yColumns": null
       },
       "removedWidgets": [],
       "schema": [
        {
         "metadata": "{}",
         "name": "num_affected_rows",
         "type": "\"long\""
        },
        {
         "metadata": "{}",
         "name": "num_inserted_rows",
         "type": "\"long\""
        }
       ],
       "type": "table"
      }
     },
     "output_type": "display_data"
    }
   ],
   "source": [
    "%sql\n",
    "insert into delta_internal_demo values (100, \"Stephen\", \"M\", 2000, \"IT\");\n",
    "insert into delta_internal_demo values (200, \"Philipp\", \"M\", 8000, \"HR\");\n",
    "insert into delta_internal_demo values (300, \"Lara\", \"F\", 6000, \"SALES\");"
   ]
  },
  {
   "cell_type": "code",
   "execution_count": 0,
   "metadata": {
    "application/vnd.databricks.v1+cell": {
     "cellMetadata": {
      "byteLimit": 2048000,
      "implicitDf": true,
      "rowLimit": 10000
     },
     "inputWidgets": {},
     "nuid": "dfb4aa4f-b7f0-4c3f-a0dd-cf3d5d55fce8",
     "showTitle": false,
     "tableResultSettingsMap": {},
     "title": ""
    }
   },
   "outputs": [
    {
     "output_type": "display_data",
     "data": {
      "text/html": [
       "<style scoped>\n",
       "  .table-result-container {\n",
       "    max-height: 300px;\n",
       "    overflow: auto;\n",
       "  }\n",
       "  table, th, td {\n",
       "    border: 1px solid black;\n",
       "    border-collapse: collapse;\n",
       "  }\n",
       "  th, td {\n",
       "    padding: 5px;\n",
       "  }\n",
       "  th {\n",
       "    text-align: left;\n",
       "  }\n",
       "</style><div class='table-result-container'><table class='table-result'><thead style='background-color: white'><tr><th>emp_id</th><th>emp_name</th><th>gender</th><th>salary</th><th>Dept</th></tr></thead><tbody><tr><td>360</td><td>Lara</td><td>F</td><td>6008</td><td>SALES</td></tr><tr><td>100</td><td>Stephen</td><td>M</td><td>2000</td><td>IT</td></tr><tr><td>200</td><td>Philipp</td><td>M</td><td>8000</td><td>HR</td></tr><tr><td>300</td><td>Lara</td><td>F</td><td>6000</td><td>SALES</td></tr><tr><td>100</td><td>Stephen</td><td>M</td><td>2000</td><td>IT</td></tr><tr><td>200</td><td>Philipp</td><td>M</td><td>8000</td><td>HR</td></tr><tr><td>300</td><td>Lara</td><td>F</td><td>6000</td><td>SALES</td></tr><tr><td>180</td><td>Stephen</td><td>M</td><td>2008</td><td>IT</td></tr><tr><td>208</td><td>Philipp</td><td>M</td><td>8888</td><td>HR</td></tr></tbody></table></div>"
      ]
     },
     "metadata": {
      "application/vnd.databricks.v1+output": {
       "addedWidgets": {},
       "aggData": [],
       "aggError": "",
       "aggOverflow": false,
       "aggSchema": [],
       "aggSeriesLimitReached": false,
       "aggType": "",
       "arguments": {},
       "columnCustomDisplayInfos": {},
       "data": [
        [
         360,
         "Lara",
         "F",
         6008,
         "SALES"
        ],
        [
         100,
         "Stephen",
         "M",
         2000,
         "IT"
        ],
        [
         200,
         "Philipp",
         "M",
         8000,
         "HR"
        ],
        [
         300,
         "Lara",
         "F",
         6000,
         "SALES"
        ],
        [
         100,
         "Stephen",
         "M",
         2000,
         "IT"
        ],
        [
         200,
         "Philipp",
         "M",
         8000,
         "HR"
        ],
        [
         300,
         "Lara",
         "F",
         6000,
         "SALES"
        ],
        [
         180,
         "Stephen",
         "M",
         2008,
         "IT"
        ],
        [
         208,
         "Philipp",
         "M",
         8888,
         "HR"
        ]
       ],
       "datasetInfos": [],
       "dbfsResultPath": null,
       "isJsonSchema": true,
       "metadata": {},
       "overflow": false,
       "plotOptions": {
        "customPlotOptions": {},
        "displayType": "table",
        "pivotAggregation": null,
        "pivotColumns": null,
        "xColumns": null,
        "yColumns": null
       },
       "removedWidgets": [],
       "schema": [
        {
         "metadata": "{}",
         "name": "emp_id",
         "type": "\"integer\""
        },
        {
         "metadata": "{}",
         "name": "emp_name",
         "type": "\"string\""
        },
        {
         "metadata": "{}",
         "name": "gender",
         "type": "\"string\""
        },
        {
         "metadata": "{}",
         "name": "salary",
         "type": "\"integer\""
        },
        {
         "metadata": "{}",
         "name": "Dept",
         "type": "\"string\""
        }
       ],
       "type": "table"
      }
     },
     "output_type": "display_data"
    }
   ],
   "source": [
    "%sql\n",
    "select * from delta_internal_demo"
   ]
  },
  {
   "cell_type": "code",
   "execution_count": 0,
   "metadata": {
    "application/vnd.databricks.v1+cell": {
     "cellMetadata": {
      "byteLimit": 2048000,
      "rowLimit": 10000
     },
     "inputWidgets": {},
     "nuid": "95f04779-500e-4cfa-aa62-b4432916c40b",
     "showTitle": false,
     "tableResultSettingsMap": {},
     "title": ""
    }
   },
   "outputs": [
    {
     "output_type": "display_data",
     "data": {
      "text/html": [
       "<style scoped>\n",
       "  .table-result-container {\n",
       "    max-height: 300px;\n",
       "    overflow: auto;\n",
       "  }\n",
       "  table, th, td {\n",
       "    border: 1px solid black;\n",
       "    border-collapse: collapse;\n",
       "  }\n",
       "  th, td {\n",
       "    padding: 5px;\n",
       "  }\n",
       "  th {\n",
       "    text-align: left;\n",
       "  }\n",
       "</style><div class='table-result-container'><table class='table-result'><thead style='background-color: white'><tr><th>path</th><th>name</th><th>size</th><th>modificationTime</th></tr></thead><tbody><tr><td>dbfs:/FileStore/tables/delta/arch_demo/_delta_log/</td><td>_delta_log/</td><td>0</td><td>0</td></tr><tr><td>dbfs:/FileStore/tables/delta/arch_demo/part-00000-135258bd-2b4f-4461-8722-55c97794a852-c000.snappy.parquet</td><td>part-00000-135258bd-2b4f-4461-8722-55c97794a852-c000.snappy.parquet</td><td>1521</td><td>1730102871000</td></tr><tr><td>dbfs:/FileStore/tables/delta/arch_demo/part-00000-1d380e48-2e1c-4c2c-bd0a-ff02563f0c0a-c000.snappy.parquet</td><td>part-00000-1d380e48-2e1c-4c2c-bd0a-ff02563f0c0a-c000.snappy.parquet</td><td>1521</td><td>1730103045000</td></tr><tr><td>dbfs:/FileStore/tables/delta/arch_demo/part-00000-250d1d73-4d12-4c59-98d7-dcd2169722f9-c000.snappy.parquet</td><td>part-00000-250d1d73-4d12-4c59-98d7-dcd2169722f9-c000.snappy.parquet</td><td>1521</td><td>1730103042000</td></tr><tr><td>dbfs:/FileStore/tables/delta/arch_demo/part-00000-6796cbac-fba5-41b7-8e92-168e8f39408c-c000.snappy.parquet</td><td>part-00000-6796cbac-fba5-41b7-8e92-168e8f39408c-c000.snappy.parquet</td><td>1521</td><td>1730103049000</td></tr><tr><td>dbfs:/FileStore/tables/delta/arch_demo/part-00000-7362f92d-9383-44af-b1ec-47851161f099-c000.snappy.parquet</td><td>part-00000-7362f92d-9383-44af-b1ec-47851161f099-c000.snappy.parquet</td><td>1520</td><td>1730102505000</td></tr><tr><td>dbfs:/FileStore/tables/delta/arch_demo/part-00000-77bfd689-7f4c-4acd-b74a-67c70f992ec0-c000.snappy.parquet</td><td>part-00000-77bfd689-7f4c-4acd-b74a-67c70f992ec0-c000.snappy.parquet</td><td>1521</td><td>1730103017000</td></tr><tr><td>dbfs:/FileStore/tables/delta/arch_demo/part-00000-8dd711fc-0077-4082-b134-b1624eb211ba-c000.snappy.parquet</td><td>part-00000-8dd711fc-0077-4082-b134-b1624eb211ba-c000.snappy.parquet</td><td>1521</td><td>1730103013000</td></tr><tr><td>dbfs:/FileStore/tables/delta/arch_demo/part-00000-dc015280-e20f-4c97-b77d-49099593ce18-c000.snappy.parquet</td><td>part-00000-dc015280-e20f-4c97-b77d-49099593ce18-c000.snappy.parquet</td><td>1520</td><td>1730102865000</td></tr><tr><td>dbfs:/FileStore/tables/delta/arch_demo/part-00000-f52fc3b4-9003-43ad-9b8d-394800075600-c000.snappy.parquet</td><td>part-00000-f52fc3b4-9003-43ad-9b8d-394800075600-c000.snappy.parquet</td><td>1521</td><td>1730103008000</td></tr></tbody></table></div>"
      ]
     },
     "metadata": {
      "application/vnd.databricks.v1+output": {
       "addedWidgets": {},
       "aggData": [],
       "aggError": "",
       "aggOverflow": false,
       "aggSchema": [],
       "aggSeriesLimitReached": false,
       "aggType": "",
       "arguments": {},
       "columnCustomDisplayInfos": {},
       "data": [
        [
         "dbfs:/FileStore/tables/delta/arch_demo/_delta_log/",
         "_delta_log/",
         0,
         0
        ],
        [
         "dbfs:/FileStore/tables/delta/arch_demo/part-00000-135258bd-2b4f-4461-8722-55c97794a852-c000.snappy.parquet",
         "part-00000-135258bd-2b4f-4461-8722-55c97794a852-c000.snappy.parquet",
         1521,
         1730102871000
        ],
        [
         "dbfs:/FileStore/tables/delta/arch_demo/part-00000-1d380e48-2e1c-4c2c-bd0a-ff02563f0c0a-c000.snappy.parquet",
         "part-00000-1d380e48-2e1c-4c2c-bd0a-ff02563f0c0a-c000.snappy.parquet",
         1521,
         1730103045000
        ],
        [
         "dbfs:/FileStore/tables/delta/arch_demo/part-00000-250d1d73-4d12-4c59-98d7-dcd2169722f9-c000.snappy.parquet",
         "part-00000-250d1d73-4d12-4c59-98d7-dcd2169722f9-c000.snappy.parquet",
         1521,
         1730103042000
        ],
        [
         "dbfs:/FileStore/tables/delta/arch_demo/part-00000-6796cbac-fba5-41b7-8e92-168e8f39408c-c000.snappy.parquet",
         "part-00000-6796cbac-fba5-41b7-8e92-168e8f39408c-c000.snappy.parquet",
         1521,
         1730103049000
        ],
        [
         "dbfs:/FileStore/tables/delta/arch_demo/part-00000-7362f92d-9383-44af-b1ec-47851161f099-c000.snappy.parquet",
         "part-00000-7362f92d-9383-44af-b1ec-47851161f099-c000.snappy.parquet",
         1520,
         1730102505000
        ],
        [
         "dbfs:/FileStore/tables/delta/arch_demo/part-00000-77bfd689-7f4c-4acd-b74a-67c70f992ec0-c000.snappy.parquet",
         "part-00000-77bfd689-7f4c-4acd-b74a-67c70f992ec0-c000.snappy.parquet",
         1521,
         1730103017000
        ],
        [
         "dbfs:/FileStore/tables/delta/arch_demo/part-00000-8dd711fc-0077-4082-b134-b1624eb211ba-c000.snappy.parquet",
         "part-00000-8dd711fc-0077-4082-b134-b1624eb211ba-c000.snappy.parquet",
         1521,
         1730103013000
        ],
        [
         "dbfs:/FileStore/tables/delta/arch_demo/part-00000-dc015280-e20f-4c97-b77d-49099593ce18-c000.snappy.parquet",
         "part-00000-dc015280-e20f-4c97-b77d-49099593ce18-c000.snappy.parquet",
         1520,
         1730102865000
        ],
        [
         "dbfs:/FileStore/tables/delta/arch_demo/part-00000-f52fc3b4-9003-43ad-9b8d-394800075600-c000.snappy.parquet",
         "part-00000-f52fc3b4-9003-43ad-9b8d-394800075600-c000.snappy.parquet",
         1521,
         1730103008000
        ]
       ],
       "datasetInfos": [],
       "dbfsResultPath": null,
       "isJsonSchema": true,
       "metadata": {
        "isDbfsCommandResult": false
       },
       "overflow": false,
       "plotOptions": {
        "customPlotOptions": {},
        "displayType": "table",
        "pivotAggregation": null,
        "pivotColumns": null,
        "xColumns": null,
        "yColumns": null
       },
       "removedWidgets": [],
       "schema": [
        {
         "metadata": "{}",
         "name": "path",
         "type": "\"string\""
        },
        {
         "metadata": "{}",
         "name": "name",
         "type": "\"string\""
        },
        {
         "metadata": "{}",
         "name": "size",
         "type": "\"long\""
        },
        {
         "metadata": "{}",
         "name": "modificationTime",
         "type": "\"long\""
        }
       ],
       "type": "table"
      }
     },
     "output_type": "display_data"
    }
   ],
   "source": [
    "%fs\n",
    "ls dbfs:/FileStore/tables/delta/arch_demo/"
   ]
  },
  {
   "cell_type": "code",
   "execution_count": 0,
   "metadata": {
    "application/vnd.databricks.v1+cell": {
     "cellMetadata": {
      "byteLimit": 2048000,
      "rowLimit": 10000
     },
     "inputWidgets": {},
     "nuid": "e13a0a2c-a3de-4303-8d6b-23886f2b6b7f",
     "showTitle": false,
     "tableResultSettingsMap": {},
     "title": ""
    }
   },
   "outputs": [
    {
     "output_type": "display_data",
     "data": {
      "text/html": [
       "<style scoped>\n",
       "  .table-result-container {\n",
       "    max-height: 300px;\n",
       "    overflow: auto;\n",
       "  }\n",
       "  table, th, td {\n",
       "    border: 1px solid black;\n",
       "    border-collapse: collapse;\n",
       "  }\n",
       "  th, td {\n",
       "    padding: 5px;\n",
       "  }\n",
       "  th {\n",
       "    text-align: left;\n",
       "  }\n",
       "</style><div class='table-result-container'><table class='table-result'><thead style='background-color: white'><tr><th>path</th><th>name</th><th>size</th><th>modificationTime</th></tr></thead><tbody><tr><td>dbfs:/FileStore/tables/delta/arch_demo/_delta_log/.s3-optimization-0</td><td>.s3-optimization-0</td><td>0</td><td>1730101159000</td></tr><tr><td>dbfs:/FileStore/tables/delta/arch_demo/_delta_log/.s3-optimization-1</td><td>.s3-optimization-1</td><td>0</td><td>1730101159000</td></tr><tr><td>dbfs:/FileStore/tables/delta/arch_demo/_delta_log/.s3-optimization-2</td><td>.s3-optimization-2</td><td>0</td><td>1730101160000</td></tr><tr><td>dbfs:/FileStore/tables/delta/arch_demo/_delta_log/00000000000000000000.crc</td><td>00000000000000000000.crc</td><td>2233</td><td>1730101183000</td></tr><tr><td>dbfs:/FileStore/tables/delta/arch_demo/_delta_log/00000000000000000000.json</td><td>00000000000000000000.json</td><td>1254</td><td>1730101160000</td></tr><tr><td>dbfs:/FileStore/tables/delta/arch_demo/_delta_log/00000000000000000001.crc</td><td>00000000000000000001.crc</td><td>2882</td><td>1730102511000</td></tr><tr><td>dbfs:/FileStore/tables/delta/arch_demo/_delta_log/00000000000000000001.json</td><td>00000000000000000001.json</td><td>1171</td><td>1730102505000</td></tr><tr><td>dbfs:/FileStore/tables/delta/arch_demo/_delta_log/00000000000000000002.crc</td><td>00000000000000000002.crc</td><td>3526</td><td>1730102870000</td></tr><tr><td>dbfs:/FileStore/tables/delta/arch_demo/_delta_log/00000000000000000002.json</td><td>00000000000000000002.json</td><td>1171</td><td>1730102866000</td></tr><tr><td>dbfs:/FileStore/tables/delta/arch_demo/_delta_log/00000000000000000003.crc</td><td>00000000000000000003.crc</td><td>4170</td><td>1730102874000</td></tr><tr><td>dbfs:/FileStore/tables/delta/arch_demo/_delta_log/00000000000000000003.json</td><td>00000000000000000003.json</td><td>1171</td><td>1730102871000</td></tr><tr><td>dbfs:/FileStore/tables/delta/arch_demo/_delta_log/00000000000000000004.crc</td><td>00000000000000000004.crc</td><td>4814</td><td>1730103012000</td></tr><tr><td>dbfs:/FileStore/tables/delta/arch_demo/_delta_log/00000000000000000004.json</td><td>00000000000000000004.json</td><td>1171</td><td>1730103009000</td></tr><tr><td>dbfs:/FileStore/tables/delta/arch_demo/_delta_log/00000000000000000005.crc</td><td>00000000000000000005.crc</td><td>5458</td><td>1730103016000</td></tr><tr><td>dbfs:/FileStore/tables/delta/arch_demo/_delta_log/00000000000000000005.json</td><td>00000000000000000005.json</td><td>1171</td><td>1730103013000</td></tr><tr><td>dbfs:/FileStore/tables/delta/arch_demo/_delta_log/00000000000000000006.crc</td><td>00000000000000000006.crc</td><td>6102</td><td>1730103021000</td></tr><tr><td>dbfs:/FileStore/tables/delta/arch_demo/_delta_log/00000000000000000006.json</td><td>00000000000000000006.json</td><td>1171</td><td>1730103017000</td></tr><tr><td>dbfs:/FileStore/tables/delta/arch_demo/_delta_log/00000000000000000007.crc</td><td>00000000000000000007.crc</td><td>6748</td><td>1730103045000</td></tr><tr><td>dbfs:/FileStore/tables/delta/arch_demo/_delta_log/00000000000000000007.json</td><td>00000000000000000007.json</td><td>1171</td><td>1730103042000</td></tr><tr><td>dbfs:/FileStore/tables/delta/arch_demo/_delta_log/00000000000000000008.crc</td><td>00000000000000000008.crc</td><td>7392</td><td>1730103048000</td></tr><tr><td>dbfs:/FileStore/tables/delta/arch_demo/_delta_log/00000000000000000008.json</td><td>00000000000000000008.json</td><td>1171</td><td>1730103045000</td></tr><tr><td>dbfs:/FileStore/tables/delta/arch_demo/_delta_log/00000000000000000009.crc</td><td>00000000000000000009.crc</td><td>8036</td><td>1730103053000</td></tr><tr><td>dbfs:/FileStore/tables/delta/arch_demo/_delta_log/00000000000000000009.json</td><td>00000000000000000009.json</td><td>1171</td><td>1730103049000</td></tr></tbody></table></div>"
      ]
     },
     "metadata": {
      "application/vnd.databricks.v1+output": {
       "addedWidgets": {},
       "aggData": [],
       "aggError": "",
       "aggOverflow": false,
       "aggSchema": [],
       "aggSeriesLimitReached": false,
       "aggType": "",
       "arguments": {},
       "columnCustomDisplayInfos": {},
       "data": [
        [
         "dbfs:/FileStore/tables/delta/arch_demo/_delta_log/.s3-optimization-0",
         ".s3-optimization-0",
         0,
         1730101159000
        ],
        [
         "dbfs:/FileStore/tables/delta/arch_demo/_delta_log/.s3-optimization-1",
         ".s3-optimization-1",
         0,
         1730101159000
        ],
        [
         "dbfs:/FileStore/tables/delta/arch_demo/_delta_log/.s3-optimization-2",
         ".s3-optimization-2",
         0,
         1730101160000
        ],
        [
         "dbfs:/FileStore/tables/delta/arch_demo/_delta_log/00000000000000000000.crc",
         "00000000000000000000.crc",
         2233,
         1730101183000
        ],
        [
         "dbfs:/FileStore/tables/delta/arch_demo/_delta_log/00000000000000000000.json",
         "00000000000000000000.json",
         1254,
         1730101160000
        ],
        [
         "dbfs:/FileStore/tables/delta/arch_demo/_delta_log/00000000000000000001.crc",
         "00000000000000000001.crc",
         2882,
         1730102511000
        ],
        [
         "dbfs:/FileStore/tables/delta/arch_demo/_delta_log/00000000000000000001.json",
         "00000000000000000001.json",
         1171,
         1730102505000
        ],
        [
         "dbfs:/FileStore/tables/delta/arch_demo/_delta_log/00000000000000000002.crc",
         "00000000000000000002.crc",
         3526,
         1730102870000
        ],
        [
         "dbfs:/FileStore/tables/delta/arch_demo/_delta_log/00000000000000000002.json",
         "00000000000000000002.json",
         1171,
         1730102866000
        ],
        [
         "dbfs:/FileStore/tables/delta/arch_demo/_delta_log/00000000000000000003.crc",
         "00000000000000000003.crc",
         4170,
         1730102874000
        ],
        [
         "dbfs:/FileStore/tables/delta/arch_demo/_delta_log/00000000000000000003.json",
         "00000000000000000003.json",
         1171,
         1730102871000
        ],
        [
         "dbfs:/FileStore/tables/delta/arch_demo/_delta_log/00000000000000000004.crc",
         "00000000000000000004.crc",
         4814,
         1730103012000
        ],
        [
         "dbfs:/FileStore/tables/delta/arch_demo/_delta_log/00000000000000000004.json",
         "00000000000000000004.json",
         1171,
         1730103009000
        ],
        [
         "dbfs:/FileStore/tables/delta/arch_demo/_delta_log/00000000000000000005.crc",
         "00000000000000000005.crc",
         5458,
         1730103016000
        ],
        [
         "dbfs:/FileStore/tables/delta/arch_demo/_delta_log/00000000000000000005.json",
         "00000000000000000005.json",
         1171,
         1730103013000
        ],
        [
         "dbfs:/FileStore/tables/delta/arch_demo/_delta_log/00000000000000000006.crc",
         "00000000000000000006.crc",
         6102,
         1730103021000
        ],
        [
         "dbfs:/FileStore/tables/delta/arch_demo/_delta_log/00000000000000000006.json",
         "00000000000000000006.json",
         1171,
         1730103017000
        ],
        [
         "dbfs:/FileStore/tables/delta/arch_demo/_delta_log/00000000000000000007.crc",
         "00000000000000000007.crc",
         6748,
         1730103045000
        ],
        [
         "dbfs:/FileStore/tables/delta/arch_demo/_delta_log/00000000000000000007.json",
         "00000000000000000007.json",
         1171,
         1730103042000
        ],
        [
         "dbfs:/FileStore/tables/delta/arch_demo/_delta_log/00000000000000000008.crc",
         "00000000000000000008.crc",
         7392,
         1730103048000
        ],
        [
         "dbfs:/FileStore/tables/delta/arch_demo/_delta_log/00000000000000000008.json",
         "00000000000000000008.json",
         1171,
         1730103045000
        ],
        [
         "dbfs:/FileStore/tables/delta/arch_demo/_delta_log/00000000000000000009.crc",
         "00000000000000000009.crc",
         8036,
         1730103053000
        ],
        [
         "dbfs:/FileStore/tables/delta/arch_demo/_delta_log/00000000000000000009.json",
         "00000000000000000009.json",
         1171,
         1730103049000
        ]
       ],
       "datasetInfos": [],
       "dbfsResultPath": null,
       "isJsonSchema": true,
       "metadata": {
        "isDbfsCommandResult": false
       },
       "overflow": false,
       "plotOptions": {
        "customPlotOptions": {},
        "displayType": "table",
        "pivotAggregation": null,
        "pivotColumns": null,
        "xColumns": null,
        "yColumns": null
       },
       "removedWidgets": [],
       "schema": [
        {
         "metadata": "{}",
         "name": "path",
         "type": "\"string\""
        },
        {
         "metadata": "{}",
         "name": "name",
         "type": "\"string\""
        },
        {
         "metadata": "{}",
         "name": "size",
         "type": "\"long\""
        },
        {
         "metadata": "{}",
         "name": "modificationTime",
         "type": "\"long\""
        }
       ],
       "type": "table"
      }
     },
     "output_type": "display_data"
    }
   ],
   "source": [
    "%fs\n",
    "ls dbfs:/FileStore/tables/delta/arch_demo/_delta_log/"
   ]
  },
  {
   "cell_type": "markdown",
   "metadata": {
    "application/vnd.databricks.v1+cell": {
     "cellMetadata": {},
     "inputWidgets": {},
     "nuid": "8603eaf3-e0cd-4a98-977d-64c31e84bc02",
     "showTitle": false,
     "tableResultSettingsMap": {},
     "title": ""
    }
   },
   "source": [
    "# parquet checkpoint file will be created for every 10 trea"
   ]
  },
  {
   "cell_type": "code",
   "execution_count": 0,
   "metadata": {
    "application/vnd.databricks.v1+cell": {
     "cellMetadata": {
      "byteLimit": 2048000,
      "implicitDf": true,
      "rowLimit": 10000
     },
     "inputWidgets": {},
     "nuid": "513ae028-0303-4b4a-b588-5a7d61bda775",
     "showTitle": false,
     "tableResultSettingsMap": {},
     "title": ""
    }
   },
   "outputs": [
    {
     "output_type": "display_data",
     "data": {
      "text/html": [
       "<style scoped>\n",
       "  .table-result-container {\n",
       "    max-height: 300px;\n",
       "    overflow: auto;\n",
       "  }\n",
       "  table, th, td {\n",
       "    border: 1px solid black;\n",
       "    border-collapse: collapse;\n",
       "  }\n",
       "  th, td {\n",
       "    padding: 5px;\n",
       "  }\n",
       "  th {\n",
       "    text-align: left;\n",
       "  }\n",
       "</style><div class='table-result-container'><table class='table-result'><thead style='background-color: white'><tr><th>num_affected_rows</th></tr></thead><tbody><tr><td>2</td></tr></tbody></table></div>"
      ]
     },
     "metadata": {
      "application/vnd.databricks.v1+output": {
       "addedWidgets": {},
       "aggData": [],
       "aggError": "",
       "aggOverflow": false,
       "aggSchema": [],
       "aggSeriesLimitReached": false,
       "aggType": "",
       "arguments": {},
       "columnCustomDisplayInfos": {},
       "data": [
        [
         2
        ]
       ],
       "datasetInfos": [],
       "dbfsResultPath": null,
       "isJsonSchema": true,
       "metadata": {},
       "overflow": false,
       "plotOptions": {
        "customPlotOptions": {},
        "displayType": "table",
        "pivotAggregation": null,
        "pivotColumns": null,
        "xColumns": null,
        "yColumns": null
       },
       "removedWidgets": [],
       "schema": [
        {
         "metadata": "{}",
         "name": "num_affected_rows",
         "type": "\"long\""
        }
       ],
       "type": "table"
      }
     },
     "output_type": "display_data"
    }
   ],
   "source": [
    "%sql\n",
    "delete from delta_internal_demo where emp_id = 100;"
   ]
  },
  {
   "cell_type": "code",
   "execution_count": 0,
   "metadata": {
    "application/vnd.databricks.v1+cell": {
     "cellMetadata": {
      "byteLimit": 2048000,
      "implicitDf": true,
      "rowLimit": 10000
     },
     "inputWidgets": {},
     "nuid": "224e6220-86fe-4fc9-bb26-bc6f13b4ccd8",
     "showTitle": false,
     "tableResultSettingsMap": {},
     "title": ""
    }
   },
   "outputs": [
    {
     "output_type": "display_data",
     "data": {
      "text/html": [
       "<style scoped>\n",
       "  .table-result-container {\n",
       "    max-height: 300px;\n",
       "    overflow: auto;\n",
       "  }\n",
       "  table, th, td {\n",
       "    border: 1px solid black;\n",
       "    border-collapse: collapse;\n",
       "  }\n",
       "  th, td {\n",
       "    padding: 5px;\n",
       "  }\n",
       "  th {\n",
       "    text-align: left;\n",
       "  }\n",
       "</style><div class='table-result-container'><table class='table-result'><thead style='background-color: white'><tr><th>emp_id</th><th>emp_name</th><th>gender</th><th>salary</th><th>Dept</th></tr></thead><tbody><tr><td>360</td><td>Lara</td><td>F</td><td>6008</td><td>SALES</td></tr><tr><td>200</td><td>Philipp</td><td>M</td><td>8000</td><td>HR</td></tr><tr><td>300</td><td>Lara</td><td>F</td><td>6000</td><td>SALES</td></tr><tr><td>300</td><td>Lara</td><td>F</td><td>6000</td><td>SALES</td></tr><tr><td>200</td><td>Philipp</td><td>M</td><td>8000</td><td>HR</td></tr><tr><td>180</td><td>Stephen</td><td>M</td><td>2008</td><td>IT</td></tr><tr><td>208</td><td>Philipp</td><td>M</td><td>8888</td><td>HR</td></tr></tbody></table></div>"
      ]
     },
     "metadata": {
      "application/vnd.databricks.v1+output": {
       "addedWidgets": {},
       "aggData": [],
       "aggError": "",
       "aggOverflow": false,
       "aggSchema": [],
       "aggSeriesLimitReached": false,
       "aggType": "",
       "arguments": {},
       "columnCustomDisplayInfos": {},
       "data": [
        [
         360,
         "Lara",
         "F",
         6008,
         "SALES"
        ],
        [
         200,
         "Philipp",
         "M",
         8000,
         "HR"
        ],
        [
         300,
         "Lara",
         "F",
         6000,
         "SALES"
        ],
        [
         300,
         "Lara",
         "F",
         6000,
         "SALES"
        ],
        [
         200,
         "Philipp",
         "M",
         8000,
         "HR"
        ],
        [
         180,
         "Stephen",
         "M",
         2008,
         "IT"
        ],
        [
         208,
         "Philipp",
         "M",
         8888,
         "HR"
        ]
       ],
       "datasetInfos": [],
       "dbfsResultPath": null,
       "isJsonSchema": true,
       "metadata": {},
       "overflow": false,
       "plotOptions": {
        "customPlotOptions": {},
        "displayType": "table",
        "pivotAggregation": null,
        "pivotColumns": null,
        "xColumns": null,
        "yColumns": null
       },
       "removedWidgets": [],
       "schema": [
        {
         "metadata": "{}",
         "name": "emp_id",
         "type": "\"integer\""
        },
        {
         "metadata": "{}",
         "name": "emp_name",
         "type": "\"string\""
        },
        {
         "metadata": "{}",
         "name": "gender",
         "type": "\"string\""
        },
        {
         "metadata": "{}",
         "name": "salary",
         "type": "\"integer\""
        },
        {
         "metadata": "{}",
         "name": "Dept",
         "type": "\"string\""
        }
       ],
       "type": "table"
      }
     },
     "output_type": "display_data"
    }
   ],
   "source": [
    "%sql\n",
    "select * from delta_internal_demo"
   ]
  },
  {
   "cell_type": "markdown",
   "metadata": {
    "application/vnd.databricks.v1+cell": {
     "cellMetadata": {},
     "inputWidgets": {},
     "nuid": "8d0979f8-696f-4571-885d-f4cd766ab7ef",
     "showTitle": false,
     "tableResultSettingsMap": {},
     "title": ""
    }
   },
   "source": [
    "the emp_id with 100 had two records\n",
    "\n",
    "and it removed those two records from table\n",
    "\n",
    "but"
   ]
  },
  {
   "cell_type": "code",
   "execution_count": 0,
   "metadata": {
    "application/vnd.databricks.v1+cell": {
     "cellMetadata": {
      "byteLimit": 2048000,
      "rowLimit": 10000
     },
     "inputWidgets": {},
     "nuid": "8cf087da-5f61-454e-abf7-75a777e54db7",
     "showTitle": false,
     "tableResultSettingsMap": {},
     "title": ""
    }
   },
   "outputs": [
    {
     "output_type": "display_data",
     "data": {
      "text/html": [
       "<style scoped>\n",
       "  .table-result-container {\n",
       "    max-height: 300px;\n",
       "    overflow: auto;\n",
       "  }\n",
       "  table, th, td {\n",
       "    border: 1px solid black;\n",
       "    border-collapse: collapse;\n",
       "  }\n",
       "  th, td {\n",
       "    padding: 5px;\n",
       "  }\n",
       "  th {\n",
       "    text-align: left;\n",
       "  }\n",
       "</style><div class='table-result-container'><table class='table-result'><thead style='background-color: white'><tr><th>path</th><th>name</th><th>size</th><th>modificationTime</th></tr></thead><tbody><tr><td>dbfs:/FileStore/tables/delta/arch_demo/_delta_log/</td><td>_delta_log/</td><td>0</td><td>0</td></tr><tr><td>dbfs:/FileStore/tables/delta/arch_demo/part-00000-135258bd-2b4f-4461-8722-55c97794a852-c000.snappy.parquet</td><td>part-00000-135258bd-2b4f-4461-8722-55c97794a852-c000.snappy.parquet</td><td>1521</td><td>1730102871000</td></tr><tr><td>dbfs:/FileStore/tables/delta/arch_demo/part-00000-1d380e48-2e1c-4c2c-bd0a-ff02563f0c0a-c000.snappy.parquet</td><td>part-00000-1d380e48-2e1c-4c2c-bd0a-ff02563f0c0a-c000.snappy.parquet</td><td>1521</td><td>1730103045000</td></tr><tr><td>dbfs:/FileStore/tables/delta/arch_demo/part-00000-250d1d73-4d12-4c59-98d7-dcd2169722f9-c000.snappy.parquet</td><td>part-00000-250d1d73-4d12-4c59-98d7-dcd2169722f9-c000.snappy.parquet</td><td>1521</td><td>1730103042000</td></tr><tr><td>dbfs:/FileStore/tables/delta/arch_demo/part-00000-6796cbac-fba5-41b7-8e92-168e8f39408c-c000.snappy.parquet</td><td>part-00000-6796cbac-fba5-41b7-8e92-168e8f39408c-c000.snappy.parquet</td><td>1521</td><td>1730103049000</td></tr><tr><td>dbfs:/FileStore/tables/delta/arch_demo/part-00000-7362f92d-9383-44af-b1ec-47851161f099-c000.snappy.parquet</td><td>part-00000-7362f92d-9383-44af-b1ec-47851161f099-c000.snappy.parquet</td><td>1520</td><td>1730102505000</td></tr><tr><td>dbfs:/FileStore/tables/delta/arch_demo/part-00000-77bfd689-7f4c-4acd-b74a-67c70f992ec0-c000.snappy.parquet</td><td>part-00000-77bfd689-7f4c-4acd-b74a-67c70f992ec0-c000.snappy.parquet</td><td>1521</td><td>1730103017000</td></tr><tr><td>dbfs:/FileStore/tables/delta/arch_demo/part-00000-8dd711fc-0077-4082-b134-b1624eb211ba-c000.snappy.parquet</td><td>part-00000-8dd711fc-0077-4082-b134-b1624eb211ba-c000.snappy.parquet</td><td>1521</td><td>1730103013000</td></tr><tr><td>dbfs:/FileStore/tables/delta/arch_demo/part-00000-dc015280-e20f-4c97-b77d-49099593ce18-c000.snappy.parquet</td><td>part-00000-dc015280-e20f-4c97-b77d-49099593ce18-c000.snappy.parquet</td><td>1520</td><td>1730102865000</td></tr><tr><td>dbfs:/FileStore/tables/delta/arch_demo/part-00000-f52fc3b4-9003-43ad-9b8d-394800075600-c000.snappy.parquet</td><td>part-00000-f52fc3b4-9003-43ad-9b8d-394800075600-c000.snappy.parquet</td><td>1521</td><td>1730103008000</td></tr></tbody></table></div>"
      ]
     },
     "metadata": {
      "application/vnd.databricks.v1+output": {
       "addedWidgets": {},
       "aggData": [],
       "aggError": "",
       "aggOverflow": false,
       "aggSchema": [],
       "aggSeriesLimitReached": false,
       "aggType": "",
       "arguments": {},
       "columnCustomDisplayInfos": {},
       "data": [
        [
         "dbfs:/FileStore/tables/delta/arch_demo/_delta_log/",
         "_delta_log/",
         0,
         0
        ],
        [
         "dbfs:/FileStore/tables/delta/arch_demo/part-00000-135258bd-2b4f-4461-8722-55c97794a852-c000.snappy.parquet",
         "part-00000-135258bd-2b4f-4461-8722-55c97794a852-c000.snappy.parquet",
         1521,
         1730102871000
        ],
        [
         "dbfs:/FileStore/tables/delta/arch_demo/part-00000-1d380e48-2e1c-4c2c-bd0a-ff02563f0c0a-c000.snappy.parquet",
         "part-00000-1d380e48-2e1c-4c2c-bd0a-ff02563f0c0a-c000.snappy.parquet",
         1521,
         1730103045000
        ],
        [
         "dbfs:/FileStore/tables/delta/arch_demo/part-00000-250d1d73-4d12-4c59-98d7-dcd2169722f9-c000.snappy.parquet",
         "part-00000-250d1d73-4d12-4c59-98d7-dcd2169722f9-c000.snappy.parquet",
         1521,
         1730103042000
        ],
        [
         "dbfs:/FileStore/tables/delta/arch_demo/part-00000-6796cbac-fba5-41b7-8e92-168e8f39408c-c000.snappy.parquet",
         "part-00000-6796cbac-fba5-41b7-8e92-168e8f39408c-c000.snappy.parquet",
         1521,
         1730103049000
        ],
        [
         "dbfs:/FileStore/tables/delta/arch_demo/part-00000-7362f92d-9383-44af-b1ec-47851161f099-c000.snappy.parquet",
         "part-00000-7362f92d-9383-44af-b1ec-47851161f099-c000.snappy.parquet",
         1520,
         1730102505000
        ],
        [
         "dbfs:/FileStore/tables/delta/arch_demo/part-00000-77bfd689-7f4c-4acd-b74a-67c70f992ec0-c000.snappy.parquet",
         "part-00000-77bfd689-7f4c-4acd-b74a-67c70f992ec0-c000.snappy.parquet",
         1521,
         1730103017000
        ],
        [
         "dbfs:/FileStore/tables/delta/arch_demo/part-00000-8dd711fc-0077-4082-b134-b1624eb211ba-c000.snappy.parquet",
         "part-00000-8dd711fc-0077-4082-b134-b1624eb211ba-c000.snappy.parquet",
         1521,
         1730103013000
        ],
        [
         "dbfs:/FileStore/tables/delta/arch_demo/part-00000-dc015280-e20f-4c97-b77d-49099593ce18-c000.snappy.parquet",
         "part-00000-dc015280-e20f-4c97-b77d-49099593ce18-c000.snappy.parquet",
         1520,
         1730102865000
        ],
        [
         "dbfs:/FileStore/tables/delta/arch_demo/part-00000-f52fc3b4-9003-43ad-9b8d-394800075600-c000.snappy.parquet",
         "part-00000-f52fc3b4-9003-43ad-9b8d-394800075600-c000.snappy.parquet",
         1521,
         1730103008000
        ]
       ],
       "datasetInfos": [],
       "dbfsResultPath": null,
       "isJsonSchema": true,
       "metadata": {
        "isDbfsCommandResult": false
       },
       "overflow": false,
       "plotOptions": {
        "customPlotOptions": {},
        "displayType": "table",
        "pivotAggregation": null,
        "pivotColumns": null,
        "xColumns": null,
        "yColumns": null
       },
       "removedWidgets": [],
       "schema": [
        {
         "metadata": "{}",
         "name": "path",
         "type": "\"string\""
        },
        {
         "metadata": "{}",
         "name": "name",
         "type": "\"string\""
        },
        {
         "metadata": "{}",
         "name": "size",
         "type": "\"long\""
        },
        {
         "metadata": "{}",
         "name": "modificationTime",
         "type": "\"long\""
        }
       ],
       "type": "table"
      }
     },
     "output_type": "display_data"
    }
   ],
   "source": [
    "%fs\n",
    "ls dbfs:/FileStore/tables/delta/arch_demo/"
   ]
  },
  {
   "cell_type": "markdown",
   "metadata": {
    "application/vnd.databricks.v1+cell": {
     "cellMetadata": {},
     "inputWidgets": {},
     "nuid": "602905c9-447d-481a-badc-6d06457dbe27",
     "showTitle": false,
     "tableResultSettingsMap": {},
     "title": ""
    }
   },
   "source": [
    "- from metadata it still didnt remove those two parquet data\n",
    "- because we keep track of records suppose if we want to bring back or revert changes or time travel those records\n",
    "- then we can siply use these meta data\n",
    "- databricks by default keep these meta data for 7 days"
   ]
  },
  {
   "cell_type": "markdown",
   "metadata": {
    "application/vnd.databricks.v1+cell": {
     "cellMetadata": {},
     "inputWidgets": {},
     "nuid": "d09bca15-5b8b-41ff-97ea-c3f5688426fc",
     "showTitle": false,
     "tableResultSettingsMap": {},
     "title": ""
    }
   },
   "source": [
    "a check point file will be created for every 10th transaction data"
   ]
  },
  {
   "cell_type": "code",
   "execution_count": 0,
   "metadata": {
    "application/vnd.databricks.v1+cell": {
     "cellMetadata": {
      "byteLimit": 2048000,
      "rowLimit": 10000
     },
     "inputWidgets": {},
     "nuid": "29e1e628-814f-42e1-8b71-15961b891c97",
     "showTitle": false,
     "tableResultSettingsMap": {},
     "title": ""
    }
   },
   "outputs": [
    {
     "output_type": "display_data",
     "data": {
      "text/html": [
       "<style scoped>\n",
       "  .table-result-container {\n",
       "    max-height: 300px;\n",
       "    overflow: auto;\n",
       "  }\n",
       "  table, th, td {\n",
       "    border: 1px solid black;\n",
       "    border-collapse: collapse;\n",
       "  }\n",
       "  th, td {\n",
       "    padding: 5px;\n",
       "  }\n",
       "  th {\n",
       "    text-align: left;\n",
       "  }\n",
       "</style><div class='table-result-container'><table class='table-result'><thead style='background-color: white'><tr><th>path</th><th>name</th><th>size</th><th>modificationTime</th></tr></thead><tbody><tr><td>dbfs:/FileStore/tables/delta/arch_demo/_delta_log/.s3-optimization-0</td><td>.s3-optimization-0</td><td>0</td><td>1730101159000</td></tr><tr><td>dbfs:/FileStore/tables/delta/arch_demo/_delta_log/.s3-optimization-1</td><td>.s3-optimization-1</td><td>0</td><td>1730101159000</td></tr><tr><td>dbfs:/FileStore/tables/delta/arch_demo/_delta_log/.s3-optimization-2</td><td>.s3-optimization-2</td><td>0</td><td>1730101160000</td></tr><tr><td>dbfs:/FileStore/tables/delta/arch_demo/_delta_log/00000000000000000000.crc</td><td>00000000000000000000.crc</td><td>2233</td><td>1730101183000</td></tr><tr><td>dbfs:/FileStore/tables/delta/arch_demo/_delta_log/00000000000000000000.json</td><td>00000000000000000000.json</td><td>1254</td><td>1730101160000</td></tr><tr><td>dbfs:/FileStore/tables/delta/arch_demo/_delta_log/00000000000000000001.crc</td><td>00000000000000000001.crc</td><td>2882</td><td>1730102511000</td></tr><tr><td>dbfs:/FileStore/tables/delta/arch_demo/_delta_log/00000000000000000001.json</td><td>00000000000000000001.json</td><td>1171</td><td>1730102505000</td></tr><tr><td>dbfs:/FileStore/tables/delta/arch_demo/_delta_log/00000000000000000002.crc</td><td>00000000000000000002.crc</td><td>3526</td><td>1730102870000</td></tr><tr><td>dbfs:/FileStore/tables/delta/arch_demo/_delta_log/00000000000000000002.json</td><td>00000000000000000002.json</td><td>1171</td><td>1730102866000</td></tr><tr><td>dbfs:/FileStore/tables/delta/arch_demo/_delta_log/00000000000000000003.crc</td><td>00000000000000000003.crc</td><td>4170</td><td>1730102874000</td></tr><tr><td>dbfs:/FileStore/tables/delta/arch_demo/_delta_log/00000000000000000003.json</td><td>00000000000000000003.json</td><td>1171</td><td>1730102871000</td></tr><tr><td>dbfs:/FileStore/tables/delta/arch_demo/_delta_log/00000000000000000004.crc</td><td>00000000000000000004.crc</td><td>4814</td><td>1730103012000</td></tr><tr><td>dbfs:/FileStore/tables/delta/arch_demo/_delta_log/00000000000000000004.json</td><td>00000000000000000004.json</td><td>1171</td><td>1730103009000</td></tr><tr><td>dbfs:/FileStore/tables/delta/arch_demo/_delta_log/00000000000000000005.crc</td><td>00000000000000000005.crc</td><td>5458</td><td>1730103016000</td></tr><tr><td>dbfs:/FileStore/tables/delta/arch_demo/_delta_log/00000000000000000005.json</td><td>00000000000000000005.json</td><td>1171</td><td>1730103013000</td></tr><tr><td>dbfs:/FileStore/tables/delta/arch_demo/_delta_log/00000000000000000006.crc</td><td>00000000000000000006.crc</td><td>6102</td><td>1730103021000</td></tr><tr><td>dbfs:/FileStore/tables/delta/arch_demo/_delta_log/00000000000000000006.json</td><td>00000000000000000006.json</td><td>1171</td><td>1730103017000</td></tr><tr><td>dbfs:/FileStore/tables/delta/arch_demo/_delta_log/00000000000000000007.crc</td><td>00000000000000000007.crc</td><td>6748</td><td>1730103045000</td></tr><tr><td>dbfs:/FileStore/tables/delta/arch_demo/_delta_log/00000000000000000007.json</td><td>00000000000000000007.json</td><td>1171</td><td>1730103042000</td></tr><tr><td>dbfs:/FileStore/tables/delta/arch_demo/_delta_log/00000000000000000008.crc</td><td>00000000000000000008.crc</td><td>7392</td><td>1730103048000</td></tr><tr><td>dbfs:/FileStore/tables/delta/arch_demo/_delta_log/00000000000000000008.json</td><td>00000000000000000008.json</td><td>1171</td><td>1730103045000</td></tr><tr><td>dbfs:/FileStore/tables/delta/arch_demo/_delta_log/00000000000000000009.crc</td><td>00000000000000000009.crc</td><td>8036</td><td>1730103053000</td></tr><tr><td>dbfs:/FileStore/tables/delta/arch_demo/_delta_log/00000000000000000009.json</td><td>00000000000000000009.json</td><td>1171</td><td>1730103049000</td></tr><tr><td>dbfs:/FileStore/tables/delta/arch_demo/_delta_log/00000000000000000010.checkpoint.parquet</td><td>00000000000000000010.checkpoint.parquet</td><td>23119</td><td>1730103481000</td></tr><tr><td>dbfs:/FileStore/tables/delta/arch_demo/_delta_log/00000000000000000010.crc</td><td>00000000000000000010.crc</td><td>6748</td><td>1730103479000</td></tr><tr><td>dbfs:/FileStore/tables/delta/arch_demo/_delta_log/00000000000000000010.json</td><td>00000000000000000010.json</td><td>1478</td><td>1730103475000</td></tr><tr><td>dbfs:/FileStore/tables/delta/arch_demo/_delta_log/_last_checkpoint</td><td>_last_checkpoint</td><td>5663</td><td>1730103481000</td></tr></tbody></table></div>"
      ]
     },
     "metadata": {
      "application/vnd.databricks.v1+output": {
       "addedWidgets": {},
       "aggData": [],
       "aggError": "",
       "aggOverflow": false,
       "aggSchema": [],
       "aggSeriesLimitReached": false,
       "aggType": "",
       "arguments": {},
       "columnCustomDisplayInfos": {},
       "data": [
        [
         "dbfs:/FileStore/tables/delta/arch_demo/_delta_log/.s3-optimization-0",
         ".s3-optimization-0",
         0,
         1730101159000
        ],
        [
         "dbfs:/FileStore/tables/delta/arch_demo/_delta_log/.s3-optimization-1",
         ".s3-optimization-1",
         0,
         1730101159000
        ],
        [
         "dbfs:/FileStore/tables/delta/arch_demo/_delta_log/.s3-optimization-2",
         ".s3-optimization-2",
         0,
         1730101160000
        ],
        [
         "dbfs:/FileStore/tables/delta/arch_demo/_delta_log/00000000000000000000.crc",
         "00000000000000000000.crc",
         2233,
         1730101183000
        ],
        [
         "dbfs:/FileStore/tables/delta/arch_demo/_delta_log/00000000000000000000.json",
         "00000000000000000000.json",
         1254,
         1730101160000
        ],
        [
         "dbfs:/FileStore/tables/delta/arch_demo/_delta_log/00000000000000000001.crc",
         "00000000000000000001.crc",
         2882,
         1730102511000
        ],
        [
         "dbfs:/FileStore/tables/delta/arch_demo/_delta_log/00000000000000000001.json",
         "00000000000000000001.json",
         1171,
         1730102505000
        ],
        [
         "dbfs:/FileStore/tables/delta/arch_demo/_delta_log/00000000000000000002.crc",
         "00000000000000000002.crc",
         3526,
         1730102870000
        ],
        [
         "dbfs:/FileStore/tables/delta/arch_demo/_delta_log/00000000000000000002.json",
         "00000000000000000002.json",
         1171,
         1730102866000
        ],
        [
         "dbfs:/FileStore/tables/delta/arch_demo/_delta_log/00000000000000000003.crc",
         "00000000000000000003.crc",
         4170,
         1730102874000
        ],
        [
         "dbfs:/FileStore/tables/delta/arch_demo/_delta_log/00000000000000000003.json",
         "00000000000000000003.json",
         1171,
         1730102871000
        ],
        [
         "dbfs:/FileStore/tables/delta/arch_demo/_delta_log/00000000000000000004.crc",
         "00000000000000000004.crc",
         4814,
         1730103012000
        ],
        [
         "dbfs:/FileStore/tables/delta/arch_demo/_delta_log/00000000000000000004.json",
         "00000000000000000004.json",
         1171,
         1730103009000
        ],
        [
         "dbfs:/FileStore/tables/delta/arch_demo/_delta_log/00000000000000000005.crc",
         "00000000000000000005.crc",
         5458,
         1730103016000
        ],
        [
         "dbfs:/FileStore/tables/delta/arch_demo/_delta_log/00000000000000000005.json",
         "00000000000000000005.json",
         1171,
         1730103013000
        ],
        [
         "dbfs:/FileStore/tables/delta/arch_demo/_delta_log/00000000000000000006.crc",
         "00000000000000000006.crc",
         6102,
         1730103021000
        ],
        [
         "dbfs:/FileStore/tables/delta/arch_demo/_delta_log/00000000000000000006.json",
         "00000000000000000006.json",
         1171,
         1730103017000
        ],
        [
         "dbfs:/FileStore/tables/delta/arch_demo/_delta_log/00000000000000000007.crc",
         "00000000000000000007.crc",
         6748,
         1730103045000
        ],
        [
         "dbfs:/FileStore/tables/delta/arch_demo/_delta_log/00000000000000000007.json",
         "00000000000000000007.json",
         1171,
         1730103042000
        ],
        [
         "dbfs:/FileStore/tables/delta/arch_demo/_delta_log/00000000000000000008.crc",
         "00000000000000000008.crc",
         7392,
         1730103048000
        ],
        [
         "dbfs:/FileStore/tables/delta/arch_demo/_delta_log/00000000000000000008.json",
         "00000000000000000008.json",
         1171,
         1730103045000
        ],
        [
         "dbfs:/FileStore/tables/delta/arch_demo/_delta_log/00000000000000000009.crc",
         "00000000000000000009.crc",
         8036,
         1730103053000
        ],
        [
         "dbfs:/FileStore/tables/delta/arch_demo/_delta_log/00000000000000000009.json",
         "00000000000000000009.json",
         1171,
         1730103049000
        ],
        [
         "dbfs:/FileStore/tables/delta/arch_demo/_delta_log/00000000000000000010.checkpoint.parquet",
         "00000000000000000010.checkpoint.parquet",
         23119,
         1730103481000
        ],
        [
         "dbfs:/FileStore/tables/delta/arch_demo/_delta_log/00000000000000000010.crc",
         "00000000000000000010.crc",
         6748,
         1730103479000
        ],
        [
         "dbfs:/FileStore/tables/delta/arch_demo/_delta_log/00000000000000000010.json",
         "00000000000000000010.json",
         1478,
         1730103475000
        ],
        [
         "dbfs:/FileStore/tables/delta/arch_demo/_delta_log/_last_checkpoint",
         "_last_checkpoint",
         5663,
         1730103481000
        ]
       ],
       "datasetInfos": [],
       "dbfsResultPath": null,
       "isJsonSchema": true,
       "metadata": {
        "isDbfsCommandResult": false
       },
       "overflow": false,
       "plotOptions": {
        "customPlotOptions": {},
        "displayType": "table",
        "pivotAggregation": null,
        "pivotColumns": null,
        "xColumns": null,
        "yColumns": null
       },
       "removedWidgets": [],
       "schema": [
        {
         "metadata": "{}",
         "name": "path",
         "type": "\"string\""
        },
        {
         "metadata": "{}",
         "name": "name",
         "type": "\"string\""
        },
        {
         "metadata": "{}",
         "name": "size",
         "type": "\"long\""
        },
        {
         "metadata": "{}",
         "name": "modificationTime",
         "type": "\"long\""
        }
       ],
       "type": "table"
      }
     },
     "output_type": "display_data"
    }
   ],
   "source": [
    "%fs\n",
    "ls dbfs:/FileStore/tables/delta/arch_demo/_delta_log/"
   ]
  },
  {
   "cell_type": "code",
   "execution_count": 0,
   "metadata": {
    "application/vnd.databricks.v1+cell": {
     "cellMetadata": {
      "byteLimit": 2048000,
      "rowLimit": 10000
     },
     "inputWidgets": {},
     "nuid": "451d4805-e2d8-49bb-be67-75234d416d4f",
     "showTitle": false,
     "tableResultSettingsMap": {},
     "title": ""
    }
   },
   "outputs": [
    {
     "output_type": "display_data",
     "data": {
      "text/html": [
       "<style scoped>\n",
       "  .ansiout {\n",
       "    display: block;\n",
       "    unicode-bidi: embed;\n",
       "    white-space: pre-wrap;\n",
       "    word-wrap: break-word;\n",
       "    word-break: break-all;\n",
       "    font-family: \"Menlo\", \"Monaco\", \"Consolas\", \"Ubuntu Mono\", \"Source Code Pro\", monospace;\n",
       "    font-size: 13px;\n",
       "    color: #555;\n",
       "    margin-left: 4px;\n",
       "    line-height: 19px;\n",
       "  }\n",
       "</style>\n",
       "<div class=\"ansiout\">{&quot;commitInfo&quot;:{&quot;timestamp&quot;:1730103474057,&quot;userId&quot;:&quot;4072984634355030&quot;,&quot;userName&quot;:&quot;sachitramkoppal@gmail.com&quot;,&quot;operation&quot;:&quot;DELETE&quot;,&quot;operationParameters&quot;:{&quot;predicate&quot;:&quot;[\\&quot;(emp_id#7275 = 100)\\&quot;]&quot;},&quot;notebook&quot;:{&quot;notebookId&quot;:&quot;615708985720197&quot;},&quot;clusterId&quot;:&quot;1028-073647-u9h3ndj2&quot;,&quot;readVersion&quot;:9,&quot;isolationLevel&quot;:&quot;WriteSerializable&quot;,&quot;isBlindAppend&quot;:false,&quot;operationMetrics&quot;:{&quot;numRemovedFiles&quot;:&quot;2&quot;,&quot;numRemovedBytes&quot;:&quot;3042&quot;,&quot;numCopiedRows&quot;:&quot;0&quot;,&quot;numDeletionVectorsAdded&quot;:&quot;0&quot;,&quot;numDeletionVectorsRemoved&quot;:&quot;0&quot;,&quot;numAddedChangeFiles&quot;:&quot;0&quot;,&quot;executionTimeMs&quot;:&quot;4154&quot;,&quot;numDeletedRows&quot;:&quot;2&quot;,&quot;scanTimeMs&quot;:&quot;2386&quot;,&quot;numAddedFiles&quot;:&quot;0&quot;,&quot;numAddedBytes&quot;:&quot;0&quot;,&quot;rewriteTimeMs&quot;:&quot;1727&quot;},&quot;engineInfo&quot;:&quot;Databricks-Runtime/12.2.x-scala2.12&quot;,&quot;txnId&quot;:&quot;696588ec-9bcc-4112-be28-ca54cbc926b2&quot;}}\n",
       "{&quot;remove&quot;:{&quot;path&quot;:&quot;part-00000-f52fc3b4-9003-43ad-9b8d-394800075600-c000.snappy.parquet&quot;,&quot;deletionTimestamp&quot;:1730103474039,&quot;dataChange&quot;:true,&quot;extendedFileMetadata&quot;:true,&quot;partitionValues&quot;:{},&quot;size&quot;:1521,&quot;tags&quot;:{&quot;INSERTION_TIME&quot;:&quot;1730103008000000&quot;,&quot;MIN_INSERTION_TIME&quot;:&quot;1730103008000000&quot;,&quot;MAX_INSERTION_TIME&quot;:&quot;1730103008000000&quot;,&quot;OPTIMIZE_TARGET_SIZE&quot;:&quot;268435456&quot;}}}\n",
       "{&quot;remove&quot;:{&quot;path&quot;:&quot;part-00000-250d1d73-4d12-4c59-98d7-dcd2169722f9-c000.snappy.parquet&quot;,&quot;deletionTimestamp&quot;:1730103474039,&quot;dataChange&quot;:true,&quot;extendedFileMetadata&quot;:true,&quot;partitionValues&quot;:{},&quot;size&quot;:1521,&quot;tags&quot;:{&quot;INSERTION_TIME&quot;:&quot;1730103042000000&quot;,&quot;MIN_INSERTION_TIME&quot;:&quot;1730103042000000&quot;,&quot;MAX_INSERTION_TIME&quot;:&quot;1730103042000000&quot;,&quot;OPTIMIZE_TARGET_SIZE&quot;:&quot;268435456&quot;}}}\n",
       "\n",
       "</div>"
      ]
     },
     "metadata": {
      "application/vnd.databricks.v1+output": {
       "addedWidgets": {},
       "arguments": {},
       "data": "<div class=\"ansiout\">{&quot;commitInfo&quot;:{&quot;timestamp&quot;:1730103474057,&quot;userId&quot;:&quot;4072984634355030&quot;,&quot;userName&quot;:&quot;sachitramkoppal@gmail.com&quot;,&quot;operation&quot;:&quot;DELETE&quot;,&quot;operationParameters&quot;:{&quot;predicate&quot;:&quot;[\\&quot;(emp_id#7275 = 100)\\&quot;]&quot;},&quot;notebook&quot;:{&quot;notebookId&quot;:&quot;615708985720197&quot;},&quot;clusterId&quot;:&quot;1028-073647-u9h3ndj2&quot;,&quot;readVersion&quot;:9,&quot;isolationLevel&quot;:&quot;WriteSerializable&quot;,&quot;isBlindAppend&quot;:false,&quot;operationMetrics&quot;:{&quot;numRemovedFiles&quot;:&quot;2&quot;,&quot;numRemovedBytes&quot;:&quot;3042&quot;,&quot;numCopiedRows&quot;:&quot;0&quot;,&quot;numDeletionVectorsAdded&quot;:&quot;0&quot;,&quot;numDeletionVectorsRemoved&quot;:&quot;0&quot;,&quot;numAddedChangeFiles&quot;:&quot;0&quot;,&quot;executionTimeMs&quot;:&quot;4154&quot;,&quot;numDeletedRows&quot;:&quot;2&quot;,&quot;scanTimeMs&quot;:&quot;2386&quot;,&quot;numAddedFiles&quot;:&quot;0&quot;,&quot;numAddedBytes&quot;:&quot;0&quot;,&quot;rewriteTimeMs&quot;:&quot;1727&quot;},&quot;engineInfo&quot;:&quot;Databricks-Runtime/12.2.x-scala2.12&quot;,&quot;txnId&quot;:&quot;696588ec-9bcc-4112-be28-ca54cbc926b2&quot;}}\n{&quot;remove&quot;:{&quot;path&quot;:&quot;part-00000-f52fc3b4-9003-43ad-9b8d-394800075600-c000.snappy.parquet&quot;,&quot;deletionTimestamp&quot;:1730103474039,&quot;dataChange&quot;:true,&quot;extendedFileMetadata&quot;:true,&quot;partitionValues&quot;:{},&quot;size&quot;:1521,&quot;tags&quot;:{&quot;INSERTION_TIME&quot;:&quot;1730103008000000&quot;,&quot;MIN_INSERTION_TIME&quot;:&quot;1730103008000000&quot;,&quot;MAX_INSERTION_TIME&quot;:&quot;1730103008000000&quot;,&quot;OPTIMIZE_TARGET_SIZE&quot;:&quot;268435456&quot;}}}\n{&quot;remove&quot;:{&quot;path&quot;:&quot;part-00000-250d1d73-4d12-4c59-98d7-dcd2169722f9-c000.snappy.parquet&quot;,&quot;deletionTimestamp&quot;:1730103474039,&quot;dataChange&quot;:true,&quot;extendedFileMetadata&quot;:true,&quot;partitionValues&quot;:{},&quot;size&quot;:1521,&quot;tags&quot;:{&quot;INSERTION_TIME&quot;:&quot;1730103042000000&quot;,&quot;MIN_INSERTION_TIME&quot;:&quot;1730103042000000&quot;,&quot;MAX_INSERTION_TIME&quot;:&quot;1730103042000000&quot;,&quot;OPTIMIZE_TARGET_SIZE&quot;:&quot;268435456&quot;}}}\n\n</div>",
       "datasetInfos": [],
       "metadata": {
        "isDbfsCommandResult": false
       },
       "removedWidgets": [],
       "type": "html"
      }
     },
     "output_type": "display_data"
    }
   ],
   "source": [
    "%fs\n",
    "head dbfs:/FileStore/tables/delta/arch_demo/_delta_log/00000000000000000010.json"
   ]
  },
  {
   "cell_type": "code",
   "execution_count": 0,
   "metadata": {
    "application/vnd.databricks.v1+cell": {
     "cellMetadata": {
      "byteLimit": 2048000,
      "rowLimit": 10000
     },
     "inputWidgets": {},
     "nuid": "1cf0eac3-0c77-4f88-b5cb-ac1bc3cfe325",
     "showTitle": false,
     "tableResultSettingsMap": {},
     "title": ""
    }
   },
   "outputs": [
    {
     "output_type": "display_data",
     "data": {
      "text/html": [
       "<style scoped>\n",
       "  .table-result-container {\n",
       "    max-height: 300px;\n",
       "    overflow: auto;\n",
       "  }\n",
       "  table, th, td {\n",
       "    border: 1px solid black;\n",
       "    border-collapse: collapse;\n",
       "  }\n",
       "  th, td {\n",
       "    padding: 5px;\n",
       "  }\n",
       "  th {\n",
       "    text-align: left;\n",
       "  }\n",
       "</style><div class='table-result-container'><table class='table-result'><thead style='background-color: white'><tr><th>txn</th><th>add</th><th>remove</th><th>metaData</th><th>protocol</th><th>rowIdHighWaterMark</th></tr></thead><tbody><tr><td>null</td><td>null</td><td>null</td><td>null</td><td>List(1, 2, null, null)</td><td>null</td></tr><tr><td>null</td><td>null</td><td>null</td><td>List(c2d7cc6d-0d71-4b24-8035-2bad20180394, null, null, List(parquet, Map()), {\"type\":\"struct\",\"fields\":[{\"name\":\"emp_id\",\"type\":\"integer\",\"nullable\":true,\"metadata\":{}},{\"name\":\"emp_name\",\"type\":\"string\",\"nullable\":true,\"metadata\":{}},{\"name\":\"gender\",\"type\":\"string\",\"nullable\":true,\"metadata\":{}},{\"name\":\"salary\",\"type\":\"integer\",\"nullable\":true,\"metadata\":{}},{\"name\":\"Dept\",\"type\":\"string\",\"nullable\":true,\"metadata\":{}}]}, List(), Map(description -> table created for demo purpose), 1730101157139)</td><td>null</td><td>null</td></tr><tr><td>null</td><td>List(part-00000-135258bd-2b4f-4461-8722-55c97794a852-c000.snappy.parquet, Map(), 1521, 1730102871000, false, Map(INSERTION_TIME -> 1730102871000000, MIN_INSERTION_TIME -> 1730102871000000, MAX_INSERTION_TIME -> 1730102871000000, OPTIMIZE_TARGET_SIZE -> 268435456), null, null, {\"numRecords\":1,\"minValues\":{\"emp_id\":360,\"emp_name\":\"Lara\",\"gender\":\"F\",\"salary\":6008,\"Dept\":\"SALES\"},\"maxValues\":{\"emp_id\":360,\"emp_name\":\"Lara\",\"gender\":\"F\",\"salary\":6008,\"Dept\":\"SALES\"},\"nullCount\":{\"emp_id\":0,\"emp_name\":0,\"gender\":0,\"salary\":0,\"Dept\":0}}, List(1, List(360, Lara, F, 6008, SALES), List(360, Lara, F, 6008, SALES), List(0, 0, 0, 0, 0)))</td><td>null</td><td>null</td><td>null</td><td>null</td></tr><tr><td>null</td><td>List(part-00000-1d380e48-2e1c-4c2c-bd0a-ff02563f0c0a-c000.snappy.parquet, Map(), 1521, 1730103045000, false, Map(INSERTION_TIME -> 1730103045000000, MIN_INSERTION_TIME -> 1730103045000000, MAX_INSERTION_TIME -> 1730103045000000, OPTIMIZE_TARGET_SIZE -> 268435456), null, null, {\"numRecords\":1,\"minValues\":{\"emp_id\":200,\"emp_name\":\"Philipp\",\"gender\":\"M\",\"salary\":8000,\"Dept\":\"HR\"},\"maxValues\":{\"emp_id\":200,\"emp_name\":\"Philipp\",\"gender\":\"M\",\"salary\":8000,\"Dept\":\"HR\"},\"nullCount\":{\"emp_id\":0,\"emp_name\":0,\"gender\":0,\"salary\":0,\"Dept\":0}}, List(1, List(200, Philipp, M, 8000, HR), List(200, Philipp, M, 8000, HR), List(0, 0, 0, 0, 0)))</td><td>null</td><td>null</td><td>null</td><td>null</td></tr><tr><td>null</td><td>null</td><td>List(part-00000-250d1d73-4d12-4c59-98d7-dcd2169722f9-c000.snappy.parquet, 1730103474039, false, true, Map(), 1521, null, null)</td><td>null</td><td>null</td><td>null</td></tr><tr><td>null</td><td>List(part-00000-6796cbac-fba5-41b7-8e92-168e8f39408c-c000.snappy.parquet, Map(), 1521, 1730103049000, false, Map(INSERTION_TIME -> 1730103049000000, MIN_INSERTION_TIME -> 1730103049000000, MAX_INSERTION_TIME -> 1730103049000000, OPTIMIZE_TARGET_SIZE -> 268435456), null, null, {\"numRecords\":1,\"minValues\":{\"emp_id\":300,\"emp_name\":\"Lara\",\"gender\":\"F\",\"salary\":6000,\"Dept\":\"SALES\"},\"maxValues\":{\"emp_id\":300,\"emp_name\":\"Lara\",\"gender\":\"F\",\"salary\":6000,\"Dept\":\"SALES\"},\"nullCount\":{\"emp_id\":0,\"emp_name\":0,\"gender\":0,\"salary\":0,\"Dept\":0}}, List(1, List(300, Lara, F, 6000, SALES), List(300, Lara, F, 6000, SALES), List(0, 0, 0, 0, 0)))</td><td>null</td><td>null</td><td>null</td><td>null</td></tr><tr><td>null</td><td>List(part-00000-7362f92d-9383-44af-b1ec-47851161f099-c000.snappy.parquet, Map(), 1520, 1730102505000, false, Map(INSERTION_TIME -> 1730102505000000, MIN_INSERTION_TIME -> 1730102505000000, MAX_INSERTION_TIME -> 1730102505000000, OPTIMIZE_TARGET_SIZE -> 268435456), null, null, {\"numRecords\":1,\"minValues\":{\"emp_id\":180,\"emp_name\":\"Stephen\",\"gender\":\"M\",\"salary\":2008,\"Dept\":\"IT\"},\"maxValues\":{\"emp_id\":180,\"emp_name\":\"Stephen\",\"gender\":\"M\",\"salary\":2008,\"Dept\":\"IT\"},\"nullCount\":{\"emp_id\":0,\"emp_name\":0,\"gender\":0,\"salary\":0,\"Dept\":0}}, List(1, List(180, Stephen, M, 2008, IT), List(180, Stephen, M, 2008, IT), List(0, 0, 0, 0, 0)))</td><td>null</td><td>null</td><td>null</td><td>null</td></tr><tr><td>null</td><td>List(part-00000-77bfd689-7f4c-4acd-b74a-67c70f992ec0-c000.snappy.parquet, Map(), 1521, 1730103017000, false, Map(INSERTION_TIME -> 1730103017000000, MIN_INSERTION_TIME -> 1730103017000000, MAX_INSERTION_TIME -> 1730103017000000, OPTIMIZE_TARGET_SIZE -> 268435456), null, null, {\"numRecords\":1,\"minValues\":{\"emp_id\":300,\"emp_name\":\"Lara\",\"gender\":\"F\",\"salary\":6000,\"Dept\":\"SALES\"},\"maxValues\":{\"emp_id\":300,\"emp_name\":\"Lara\",\"gender\":\"F\",\"salary\":6000,\"Dept\":\"SALES\"},\"nullCount\":{\"emp_id\":0,\"emp_name\":0,\"gender\":0,\"salary\":0,\"Dept\":0}}, List(1, List(300, Lara, F, 6000, SALES), List(300, Lara, F, 6000, SALES), List(0, 0, 0, 0, 0)))</td><td>null</td><td>null</td><td>null</td><td>null</td></tr><tr><td>null</td><td>List(part-00000-8dd711fc-0077-4082-b134-b1624eb211ba-c000.snappy.parquet, Map(), 1521, 1730103013000, false, Map(INSERTION_TIME -> 1730103013000000, MIN_INSERTION_TIME -> 1730103013000000, MAX_INSERTION_TIME -> 1730103013000000, OPTIMIZE_TARGET_SIZE -> 268435456), null, null, {\"numRecords\":1,\"minValues\":{\"emp_id\":200,\"emp_name\":\"Philipp\",\"gender\":\"M\",\"salary\":8000,\"Dept\":\"HR\"},\"maxValues\":{\"emp_id\":200,\"emp_name\":\"Philipp\",\"gender\":\"M\",\"salary\":8000,\"Dept\":\"HR\"},\"nullCount\":{\"emp_id\":0,\"emp_name\":0,\"gender\":0,\"salary\":0,\"Dept\":0}}, List(1, List(200, Philipp, M, 8000, HR), List(200, Philipp, M, 8000, HR), List(0, 0, 0, 0, 0)))</td><td>null</td><td>null</td><td>null</td><td>null</td></tr><tr><td>null</td><td>List(part-00000-dc015280-e20f-4c97-b77d-49099593ce18-c000.snappy.parquet, Map(), 1520, 1730102865000, false, Map(INSERTION_TIME -> 1730102865000000, MIN_INSERTION_TIME -> 1730102865000000, MAX_INSERTION_TIME -> 1730102865000000, OPTIMIZE_TARGET_SIZE -> 268435456), null, null, {\"numRecords\":1,\"minValues\":{\"emp_id\":208,\"emp_name\":\"Philipp\",\"gender\":\"M\",\"salary\":8888,\"Dept\":\"HR\"},\"maxValues\":{\"emp_id\":208,\"emp_name\":\"Philipp\",\"gender\":\"M\",\"salary\":8888,\"Dept\":\"HR\"},\"nullCount\":{\"emp_id\":0,\"emp_name\":0,\"gender\":0,\"salary\":0,\"Dept\":0}}, List(1, List(208, Philipp, M, 8888, HR), List(208, Philipp, M, 8888, HR), List(0, 0, 0, 0, 0)))</td><td>null</td><td>null</td><td>null</td><td>null</td></tr><tr><td>null</td><td>null</td><td>List(part-00000-f52fc3b4-9003-43ad-9b8d-394800075600-c000.snappy.parquet, 1730103474039, false, true, Map(), 1521, null, null)</td><td>null</td><td>null</td><td>null</td></tr></tbody></table></div>"
      ]
     },
     "metadata": {
      "application/vnd.databricks.v1+output": {
       "addedWidgets": {},
       "aggData": [],
       "aggError": "",
       "aggOverflow": false,
       "aggSchema": [],
       "aggSeriesLimitReached": false,
       "aggType": "",
       "arguments": {},
       "columnCustomDisplayInfos": {},
       "data": [
        [
         null,
         null,
         null,
         null,
         [
          1,
          2,
          null,
          null
         ],
         null
        ],
        [
         null,
         null,
         null,
         [
          "c2d7cc6d-0d71-4b24-8035-2bad20180394",
          null,
          null,
          [
           "parquet",
           {}
          ],
          "{\"type\":\"struct\",\"fields\":[{\"name\":\"emp_id\",\"type\":\"integer\",\"nullable\":true,\"metadata\":{}},{\"name\":\"emp_name\",\"type\":\"string\",\"nullable\":true,\"metadata\":{}},{\"name\":\"gender\",\"type\":\"string\",\"nullable\":true,\"metadata\":{}},{\"name\":\"salary\",\"type\":\"integer\",\"nullable\":true,\"metadata\":{}},{\"name\":\"Dept\",\"type\":\"string\",\"nullable\":true,\"metadata\":{}}]}",
          [],
          {
           "description": "table created for demo purpose"
          },
          1730101157139
         ],
         null,
         null
        ],
        [
         null,
         [
          "part-00000-135258bd-2b4f-4461-8722-55c97794a852-c000.snappy.parquet",
          {},
          1521,
          1730102871000,
          false,
          {
           "INSERTION_TIME": "1730102871000000",
           "MAX_INSERTION_TIME": "1730102871000000",
           "MIN_INSERTION_TIME": "1730102871000000",
           "OPTIMIZE_TARGET_SIZE": "268435456"
          },
          null,
          null,
          "{\"numRecords\":1,\"minValues\":{\"emp_id\":360,\"emp_name\":\"Lara\",\"gender\":\"F\",\"salary\":6008,\"Dept\":\"SALES\"},\"maxValues\":{\"emp_id\":360,\"emp_name\":\"Lara\",\"gender\":\"F\",\"salary\":6008,\"Dept\":\"SALES\"},\"nullCount\":{\"emp_id\":0,\"emp_name\":0,\"gender\":0,\"salary\":0,\"Dept\":0}}",
          [
           1,
           [
            360,
            "Lara",
            "F",
            6008,
            "SALES"
           ],
           [
            360,
            "Lara",
            "F",
            6008,
            "SALES"
           ],
           [
            0,
            0,
            0,
            0,
            0
           ]
          ]
         ],
         null,
         null,
         null,
         null
        ],
        [
         null,
         [
          "part-00000-1d380e48-2e1c-4c2c-bd0a-ff02563f0c0a-c000.snappy.parquet",
          {},
          1521,
          1730103045000,
          false,
          {
           "INSERTION_TIME": "1730103045000000",
           "MAX_INSERTION_TIME": "1730103045000000",
           "MIN_INSERTION_TIME": "1730103045000000",
           "OPTIMIZE_TARGET_SIZE": "268435456"
          },
          null,
          null,
          "{\"numRecords\":1,\"minValues\":{\"emp_id\":200,\"emp_name\":\"Philipp\",\"gender\":\"M\",\"salary\":8000,\"Dept\":\"HR\"},\"maxValues\":{\"emp_id\":200,\"emp_name\":\"Philipp\",\"gender\":\"M\",\"salary\":8000,\"Dept\":\"HR\"},\"nullCount\":{\"emp_id\":0,\"emp_name\":0,\"gender\":0,\"salary\":0,\"Dept\":0}}",
          [
           1,
           [
            200,
            "Philipp",
            "M",
            8000,
            "HR"
           ],
           [
            200,
            "Philipp",
            "M",
            8000,
            "HR"
           ],
           [
            0,
            0,
            0,
            0,
            0
           ]
          ]
         ],
         null,
         null,
         null,
         null
        ],
        [
         null,
         null,
         [
          "part-00000-250d1d73-4d12-4c59-98d7-dcd2169722f9-c000.snappy.parquet",
          1730103474039,
          false,
          true,
          {},
          1521,
          null,
          null
         ],
         null,
         null,
         null
        ],
        [
         null,
         [
          "part-00000-6796cbac-fba5-41b7-8e92-168e8f39408c-c000.snappy.parquet",
          {},
          1521,
          1730103049000,
          false,
          {
           "INSERTION_TIME": "1730103049000000",
           "MAX_INSERTION_TIME": "1730103049000000",
           "MIN_INSERTION_TIME": "1730103049000000",
           "OPTIMIZE_TARGET_SIZE": "268435456"
          },
          null,
          null,
          "{\"numRecords\":1,\"minValues\":{\"emp_id\":300,\"emp_name\":\"Lara\",\"gender\":\"F\",\"salary\":6000,\"Dept\":\"SALES\"},\"maxValues\":{\"emp_id\":300,\"emp_name\":\"Lara\",\"gender\":\"F\",\"salary\":6000,\"Dept\":\"SALES\"},\"nullCount\":{\"emp_id\":0,\"emp_name\":0,\"gender\":0,\"salary\":0,\"Dept\":0}}",
          [
           1,
           [
            300,
            "Lara",
            "F",
            6000,
            "SALES"
           ],
           [
            300,
            "Lara",
            "F",
            6000,
            "SALES"
           ],
           [
            0,
            0,
            0,
            0,
            0
           ]
          ]
         ],
         null,
         null,
         null,
         null
        ],
        [
         null,
         [
          "part-00000-7362f92d-9383-44af-b1ec-47851161f099-c000.snappy.parquet",
          {},
          1520,
          1730102505000,
          false,
          {
           "INSERTION_TIME": "1730102505000000",
           "MAX_INSERTION_TIME": "1730102505000000",
           "MIN_INSERTION_TIME": "1730102505000000",
           "OPTIMIZE_TARGET_SIZE": "268435456"
          },
          null,
          null,
          "{\"numRecords\":1,\"minValues\":{\"emp_id\":180,\"emp_name\":\"Stephen\",\"gender\":\"M\",\"salary\":2008,\"Dept\":\"IT\"},\"maxValues\":{\"emp_id\":180,\"emp_name\":\"Stephen\",\"gender\":\"M\",\"salary\":2008,\"Dept\":\"IT\"},\"nullCount\":{\"emp_id\":0,\"emp_name\":0,\"gender\":0,\"salary\":0,\"Dept\":0}}",
          [
           1,
           [
            180,
            "Stephen",
            "M",
            2008,
            "IT"
           ],
           [
            180,
            "Stephen",
            "M",
            2008,
            "IT"
           ],
           [
            0,
            0,
            0,
            0,
            0
           ]
          ]
         ],
         null,
         null,
         null,
         null
        ],
        [
         null,
         [
          "part-00000-77bfd689-7f4c-4acd-b74a-67c70f992ec0-c000.snappy.parquet",
          {},
          1521,
          1730103017000,
          false,
          {
           "INSERTION_TIME": "1730103017000000",
           "MAX_INSERTION_TIME": "1730103017000000",
           "MIN_INSERTION_TIME": "1730103017000000",
           "OPTIMIZE_TARGET_SIZE": "268435456"
          },
          null,
          null,
          "{\"numRecords\":1,\"minValues\":{\"emp_id\":300,\"emp_name\":\"Lara\",\"gender\":\"F\",\"salary\":6000,\"Dept\":\"SALES\"},\"maxValues\":{\"emp_id\":300,\"emp_name\":\"Lara\",\"gender\":\"F\",\"salary\":6000,\"Dept\":\"SALES\"},\"nullCount\":{\"emp_id\":0,\"emp_name\":0,\"gender\":0,\"salary\":0,\"Dept\":0}}",
          [
           1,
           [
            300,
            "Lara",
            "F",
            6000,
            "SALES"
           ],
           [
            300,
            "Lara",
            "F",
            6000,
            "SALES"
           ],
           [
            0,
            0,
            0,
            0,
            0
           ]
          ]
         ],
         null,
         null,
         null,
         null
        ],
        [
         null,
         [
          "part-00000-8dd711fc-0077-4082-b134-b1624eb211ba-c000.snappy.parquet",
          {},
          1521,
          1730103013000,
          false,
          {
           "INSERTION_TIME": "1730103013000000",
           "MAX_INSERTION_TIME": "1730103013000000",
           "MIN_INSERTION_TIME": "1730103013000000",
           "OPTIMIZE_TARGET_SIZE": "268435456"
          },
          null,
          null,
          "{\"numRecords\":1,\"minValues\":{\"emp_id\":200,\"emp_name\":\"Philipp\",\"gender\":\"M\",\"salary\":8000,\"Dept\":\"HR\"},\"maxValues\":{\"emp_id\":200,\"emp_name\":\"Philipp\",\"gender\":\"M\",\"salary\":8000,\"Dept\":\"HR\"},\"nullCount\":{\"emp_id\":0,\"emp_name\":0,\"gender\":0,\"salary\":0,\"Dept\":0}}",
          [
           1,
           [
            200,
            "Philipp",
            "M",
            8000,
            "HR"
           ],
           [
            200,
            "Philipp",
            "M",
            8000,
            "HR"
           ],
           [
            0,
            0,
            0,
            0,
            0
           ]
          ]
         ],
         null,
         null,
         null,
         null
        ],
        [
         null,
         [
          "part-00000-dc015280-e20f-4c97-b77d-49099593ce18-c000.snappy.parquet",
          {},
          1520,
          1730102865000,
          false,
          {
           "INSERTION_TIME": "1730102865000000",
           "MAX_INSERTION_TIME": "1730102865000000",
           "MIN_INSERTION_TIME": "1730102865000000",
           "OPTIMIZE_TARGET_SIZE": "268435456"
          },
          null,
          null,
          "{\"numRecords\":1,\"minValues\":{\"emp_id\":208,\"emp_name\":\"Philipp\",\"gender\":\"M\",\"salary\":8888,\"Dept\":\"HR\"},\"maxValues\":{\"emp_id\":208,\"emp_name\":\"Philipp\",\"gender\":\"M\",\"salary\":8888,\"Dept\":\"HR\"},\"nullCount\":{\"emp_id\":0,\"emp_name\":0,\"gender\":0,\"salary\":0,\"Dept\":0}}",
          [
           1,
           [
            208,
            "Philipp",
            "M",
            8888,
            "HR"
           ],
           [
            208,
            "Philipp",
            "M",
            8888,
            "HR"
           ],
           [
            0,
            0,
            0,
            0,
            0
           ]
          ]
         ],
         null,
         null,
         null,
         null
        ],
        [
         null,
         null,
         [
          "part-00000-f52fc3b4-9003-43ad-9b8d-394800075600-c000.snappy.parquet",
          1730103474039,
          false,
          true,
          {},
          1521,
          null,
          null
         ],
         null,
         null,
         null
        ]
       ],
       "datasetInfos": [],
       "dbfsResultPath": null,
       "isJsonSchema": true,
       "metadata": {},
       "overflow": false,
       "plotOptions": {
        "customPlotOptions": {},
        "displayType": "table",
        "pivotAggregation": null,
        "pivotColumns": null,
        "xColumns": null,
        "yColumns": null
       },
       "removedWidgets": [],
       "schema": [
        {
         "metadata": "{}",
         "name": "txn",
         "type": "{\"type\":\"struct\",\"fields\":[{\"name\":\"appId\",\"type\":\"string\",\"nullable\":true,\"metadata\":{}},{\"name\":\"version\",\"type\":\"long\",\"nullable\":true,\"metadata\":{}},{\"name\":\"lastUpdated\",\"type\":\"long\",\"nullable\":true,\"metadata\":{}}]}"
        },
        {
         "metadata": "{}",
         "name": "add",
         "type": "{\"type\":\"struct\",\"fields\":[{\"name\":\"path\",\"type\":\"string\",\"nullable\":true,\"metadata\":{}},{\"name\":\"partitionValues\",\"type\":{\"type\":\"map\",\"keyType\":\"string\",\"valueType\":\"string\",\"valueContainsNull\":true},\"nullable\":true,\"metadata\":{}},{\"name\":\"size\",\"type\":\"long\",\"nullable\":true,\"metadata\":{}},{\"name\":\"modificationTime\",\"type\":\"long\",\"nullable\":true,\"metadata\":{}},{\"name\":\"dataChange\",\"type\":\"boolean\",\"nullable\":true,\"metadata\":{}},{\"name\":\"tags\",\"type\":{\"type\":\"map\",\"keyType\":\"string\",\"valueType\":\"string\",\"valueContainsNull\":true},\"nullable\":true,\"metadata\":{}},{\"name\":\"deletionVector\",\"type\":{\"type\":\"struct\",\"fields\":[{\"name\":\"storageType\",\"type\":\"string\",\"nullable\":true,\"metadata\":{}},{\"name\":\"pathOrInlineDv\",\"type\":\"string\",\"nullable\":true,\"metadata\":{}},{\"name\":\"offset\",\"type\":\"integer\",\"nullable\":true,\"metadata\":{}},{\"name\":\"sizeInBytes\",\"type\":\"integer\",\"nullable\":true,\"metadata\":{}},{\"name\":\"cardinality\",\"type\":\"long\",\"nullable\":true,\"metadata\":{}}]},\"nullable\":true,\"metadata\":{}},{\"name\":\"baseRowId\",\"type\":\"long\",\"nullable\":true,\"metadata\":{}},{\"name\":\"stats\",\"type\":\"string\",\"nullable\":true,\"metadata\":{}},{\"name\":\"stats_parsed\",\"type\":{\"type\":\"struct\",\"fields\":[{\"name\":\"numRecords\",\"type\":\"long\",\"nullable\":true,\"metadata\":{}},{\"name\":\"minValues\",\"type\":{\"type\":\"struct\",\"fields\":[{\"name\":\"emp_id\",\"type\":\"integer\",\"nullable\":true,\"metadata\":{}},{\"name\":\"emp_name\",\"type\":\"string\",\"nullable\":true,\"metadata\":{}},{\"name\":\"gender\",\"type\":\"string\",\"nullable\":true,\"metadata\":{}},{\"name\":\"salary\",\"type\":\"integer\",\"nullable\":true,\"metadata\":{}},{\"name\":\"Dept\",\"type\":\"string\",\"nullable\":true,\"metadata\":{}}]},\"nullable\":true,\"metadata\":{}},{\"name\":\"maxValues\",\"type\":{\"type\":\"struct\",\"fields\":[{\"name\":\"emp_id\",\"type\":\"integer\",\"nullable\":true,\"metadata\":{}},{\"name\":\"emp_name\",\"type\":\"string\",\"nullable\":true,\"metadata\":{}},{\"name\":\"gender\",\"type\":\"string\",\"nullable\":true,\"metadata\":{}},{\"name\":\"salary\",\"type\":\"integer\",\"nullable\":true,\"metadata\":{}},{\"name\":\"Dept\",\"type\":\"string\",\"nullable\":true,\"metadata\":{}}]},\"nullable\":true,\"metadata\":{}},{\"name\":\"nullCount\",\"type\":{\"type\":\"struct\",\"fields\":[{\"name\":\"emp_id\",\"type\":\"long\",\"nullable\":true,\"metadata\":{}},{\"name\":\"emp_name\",\"type\":\"long\",\"nullable\":true,\"metadata\":{}},{\"name\":\"gender\",\"type\":\"long\",\"nullable\":true,\"metadata\":{}},{\"name\":\"salary\",\"type\":\"long\",\"nullable\":true,\"metadata\":{}},{\"name\":\"Dept\",\"type\":\"long\",\"nullable\":true,\"metadata\":{}}]},\"nullable\":true,\"metadata\":{}}]},\"nullable\":true,\"metadata\":{}}]}"
        },
        {
         "metadata": "{}",
         "name": "remove",
         "type": "{\"type\":\"struct\",\"fields\":[{\"name\":\"path\",\"type\":\"string\",\"nullable\":true,\"metadata\":{}},{\"name\":\"deletionTimestamp\",\"type\":\"long\",\"nullable\":true,\"metadata\":{}},{\"name\":\"dataChange\",\"type\":\"boolean\",\"nullable\":true,\"metadata\":{}},{\"name\":\"extendedFileMetadata\",\"type\":\"boolean\",\"nullable\":true,\"metadata\":{}},{\"name\":\"partitionValues\",\"type\":{\"type\":\"map\",\"keyType\":\"string\",\"valueType\":\"string\",\"valueContainsNull\":true},\"nullable\":true,\"metadata\":{}},{\"name\":\"size\",\"type\":\"long\",\"nullable\":true,\"metadata\":{}},{\"name\":\"deletionVector\",\"type\":{\"type\":\"struct\",\"fields\":[{\"name\":\"storageType\",\"type\":\"string\",\"nullable\":true,\"metadata\":{}},{\"name\":\"pathOrInlineDv\",\"type\":\"string\",\"nullable\":true,\"metadata\":{}},{\"name\":\"offset\",\"type\":\"integer\",\"nullable\":true,\"metadata\":{}},{\"name\":\"sizeInBytes\",\"type\":\"integer\",\"nullable\":true,\"metadata\":{}},{\"name\":\"cardinality\",\"type\":\"long\",\"nullable\":true,\"metadata\":{}}]},\"nullable\":true,\"metadata\":{}},{\"name\":\"baseRowId\",\"type\":\"long\",\"nullable\":true,\"metadata\":{}}]}"
        },
        {
         "metadata": "{}",
         "name": "metaData",
         "type": "{\"type\":\"struct\",\"fields\":[{\"name\":\"id\",\"type\":\"string\",\"nullable\":true,\"metadata\":{}},{\"name\":\"name\",\"type\":\"string\",\"nullable\":true,\"metadata\":{}},{\"name\":\"description\",\"type\":\"string\",\"nullable\":true,\"metadata\":{}},{\"name\":\"format\",\"type\":{\"type\":\"struct\",\"fields\":[{\"name\":\"provider\",\"type\":\"string\",\"nullable\":true,\"metadata\":{}},{\"name\":\"options\",\"type\":{\"type\":\"map\",\"keyType\":\"string\",\"valueType\":\"string\",\"valueContainsNull\":true},\"nullable\":true,\"metadata\":{}}]},\"nullable\":true,\"metadata\":{}},{\"name\":\"schemaString\",\"type\":\"string\",\"nullable\":true,\"metadata\":{}},{\"name\":\"partitionColumns\",\"type\":{\"type\":\"array\",\"elementType\":\"string\",\"containsNull\":true},\"nullable\":true,\"metadata\":{}},{\"name\":\"configuration\",\"type\":{\"type\":\"map\",\"keyType\":\"string\",\"valueType\":\"string\",\"valueContainsNull\":true},\"nullable\":true,\"metadata\":{}},{\"name\":\"createdTime\",\"type\":\"long\",\"nullable\":true,\"metadata\":{}}]}"
        },
        {
         "metadata": "{}",
         "name": "protocol",
         "type": "{\"type\":\"struct\",\"fields\":[{\"name\":\"minReaderVersion\",\"type\":\"integer\",\"nullable\":true,\"metadata\":{}},{\"name\":\"minWriterVersion\",\"type\":\"integer\",\"nullable\":true,\"metadata\":{}},{\"name\":\"readerFeatures\",\"type\":{\"type\":\"array\",\"elementType\":\"string\",\"containsNull\":true},\"nullable\":true,\"metadata\":{}},{\"name\":\"writerFeatures\",\"type\":{\"type\":\"array\",\"elementType\":\"string\",\"containsNull\":true},\"nullable\":true,\"metadata\":{}}]}"
        },
        {
         "metadata": "{}",
         "name": "rowIdHighWaterMark",
         "type": "{\"type\":\"struct\",\"fields\":[{\"name\":\"value\",\"type\":\"long\",\"nullable\":true,\"metadata\":{}}]}"
        }
       ],
       "type": "table"
      }
     },
     "output_type": "display_data"
    }
   ],
   "source": [
    "display(spark.read.format(\"parquet\").load(\"dbfs:/FileStore/tables/delta/arch_demo/_delta_log/00000000000000000010.checkpoint.parquet\"))"
   ]
  },
  {
   "cell_type": "markdown",
   "metadata": {
    "application/vnd.databricks.v1+cell": {
     "cellMetadata": {},
     "inputWidgets": {},
     "nuid": "1078824a-cc1a-450f-a80e-e5b663bda67e",
     "showTitle": false,
     "tableResultSettingsMap": {},
     "title": ""
    }
   },
   "source": [
    "# Delta table instance"
   ]
  },
  {
   "cell_type": "code",
   "execution_count": 0,
   "metadata": {
    "application/vnd.databricks.v1+cell": {
     "cellMetadata": {
      "byteLimit": 2048000,
      "rowLimit": 10000
     },
     "inputWidgets": {},
     "nuid": "da941e48-891c-4686-a703-cae2d35631c6",
     "showTitle": false,
     "tableResultSettingsMap": {},
     "title": ""
    }
   },
   "outputs": [
    {
     "output_type": "stream",
     "name": "stdout",
     "output_type": "stream",
     "text": [
      "Out[1]: <delta.tables.DeltaTable at 0x7fee7c1f6370>"
     ]
    }
   ],
   "source": [
    "from delta.tables import *\n",
    "\n",
    "DeltaTable.create(spark) \\\n",
    "    .tableName(\"employee_demo\") \\\n",
    "    .addColumn(\"emp_id\", \"INT\") \\\n",
    "    .addColumn(\"emp_name\", \"STRING\") \\\n",
    "    .addColumn(\"gender\", \"STRING\") \\\n",
    "    .addColumn(\"salary\", \"INT\") \\\n",
    "    .addColumn(\"Dept\", \"STRING\") \\\n",
    "    .property(\"description\", \"table created for demo purpose\") \\\n",
    "    .location(\"/FileStore/tables/delta/createtable\") \\\n",
    "    .execute()"
   ]
  },
  {
   "cell_type": "code",
   "execution_count": 0,
   "metadata": {
    "application/vnd.databricks.v1+cell": {
     "cellMetadata": {
      "byteLimit": 2048000,
      "implicitDf": true,
      "rowLimit": 10000
     },
     "inputWidgets": {},
     "nuid": "160edba0-3051-448f-a1b7-9ddb30b8f7db",
     "showTitle": false,
     "tableResultSettingsMap": {},
     "title": ""
    }
   },
   "outputs": [
    {
     "output_type": "display_data",
     "data": {
      "text/html": [
       "<style scoped>\n",
       "  .table-result-container {\n",
       "    max-height: 300px;\n",
       "    overflow: auto;\n",
       "  }\n",
       "  table, th, td {\n",
       "    border: 1px solid black;\n",
       "    border-collapse: collapse;\n",
       "  }\n",
       "  th, td {\n",
       "    padding: 5px;\n",
       "  }\n",
       "  th {\n",
       "    text-align: left;\n",
       "  }\n",
       "</style><div class='table-result-container'><table class='table-result'><thead style='background-color: white'><tr><th>num_affected_rows</th><th>num_inserted_rows</th></tr></thead><tbody><tr><td>1</td><td>1</td></tr></tbody></table></div>"
      ]
     },
     "metadata": {
      "application/vnd.databricks.v1+output": {
       "addedWidgets": {},
       "aggData": [],
       "aggError": "",
       "aggOverflow": false,
       "aggSchema": [],
       "aggSeriesLimitReached": false,
       "aggType": "",
       "arguments": {},
       "columnCustomDisplayInfos": {},
       "data": [
        [
         1,
         1
        ]
       ],
       "datasetInfos": [],
       "dbfsResultPath": null,
       "isJsonSchema": true,
       "metadata": {},
       "overflow": false,
       "plotOptions": {
        "customPlotOptions": {},
        "displayType": "table",
        "pivotAggregation": null,
        "pivotColumns": null,
        "xColumns": null,
        "yColumns": null
       },
       "removedWidgets": [],
       "schema": [
        {
         "metadata": "{}",
         "name": "num_affected_rows",
         "type": "\"long\""
        },
        {
         "metadata": "{}",
         "name": "num_inserted_rows",
         "type": "\"long\""
        }
       ],
       "type": "table"
      }
     },
     "output_type": "display_data"
    }
   ],
   "source": [
    "%sql\n",
    "INSERT INTO employee_demo VALUES (160, \"Stephen\", \"M\", 2000, \"IT\");\n",
    "INSERT INTO employee_demo VALUES (200, \"Philipp\", \"M\", 8000, \"HR\");\n",
    "INSERT INTO employee_demo VALUES (300, \"Lara\", \"F\", 6000, \"SALES\");"
   ]
  },
  {
   "cell_type": "code",
   "execution_count": 0,
   "metadata": {
    "application/vnd.databricks.v1+cell": {
     "cellMetadata": {
      "byteLimit": 2048000,
      "implicitDf": true,
      "rowLimit": 10000
     },
     "inputWidgets": {},
     "nuid": "2fc36e23-89b4-40aa-9b01-414c9b645525",
     "showTitle": false,
     "tableResultSettingsMap": {},
     "title": ""
    }
   },
   "outputs": [
    {
     "output_type": "display_data",
     "data": {
      "text/html": [
       "<style scoped>\n",
       "  .table-result-container {\n",
       "    max-height: 300px;\n",
       "    overflow: auto;\n",
       "  }\n",
       "  table, th, td {\n",
       "    border: 1px solid black;\n",
       "    border-collapse: collapse;\n",
       "  }\n",
       "  th, td {\n",
       "    padding: 5px;\n",
       "  }\n",
       "  th {\n",
       "    text-align: left;\n",
       "  }\n",
       "</style><div class='table-result-container'><table class='table-result'><thead style='background-color: white'><tr><th>emp_id</th><th>emp_name</th><th>gender</th><th>salary</th><th>Dept</th></tr></thead><tbody><tr><td>160</td><td>Stephen</td><td>M</td><td>2000</td><td>IT</td></tr><tr><td>200</td><td>Philipp</td><td>M</td><td>8000</td><td>HR</td></tr><tr><td>300</td><td>Lara</td><td>F</td><td>6000</td><td>SALES</td></tr></tbody></table></div>"
      ]
     },
     "metadata": {
      "application/vnd.databricks.v1+output": {
       "addedWidgets": {},
       "aggData": [],
       "aggError": "",
       "aggOverflow": false,
       "aggSchema": [],
       "aggSeriesLimitReached": false,
       "aggType": "",
       "arguments": {},
       "columnCustomDisplayInfos": {},
       "data": [
        [
         160,
         "Stephen",
         "M",
         2000,
         "IT"
        ],
        [
         200,
         "Philipp",
         "M",
         8000,
         "HR"
        ],
        [
         300,
         "Lara",
         "F",
         6000,
         "SALES"
        ]
       ],
       "datasetInfos": [],
       "dbfsResultPath": null,
       "isJsonSchema": true,
       "metadata": {},
       "overflow": false,
       "plotOptions": {
        "customPlotOptions": {},
        "displayType": "table",
        "pivotAggregation": null,
        "pivotColumns": null,
        "xColumns": null,
        "yColumns": null
       },
       "removedWidgets": [],
       "schema": [
        {
         "metadata": "{}",
         "name": "emp_id",
         "type": "\"integer\""
        },
        {
         "metadata": "{}",
         "name": "emp_name",
         "type": "\"string\""
        },
        {
         "metadata": "{}",
         "name": "gender",
         "type": "\"string\""
        },
        {
         "metadata": "{}",
         "name": "salary",
         "type": "\"integer\""
        },
        {
         "metadata": "{}",
         "name": "Dept",
         "type": "\"string\""
        }
       ],
       "type": "table"
      }
     },
     "output_type": "display_data"
    }
   ],
   "source": [
    "%sql\n",
    "select * from employee_demo"
   ]
  },
  {
   "cell_type": "markdown",
   "metadata": {
    "application/vnd.databricks.v1+cell": {
     "cellMetadata": {},
     "inputWidgets": {},
     "nuid": "8ed40ce0-41b2-4aee-a766-eb894cc19759",
     "showTitle": false,
     "tableResultSettingsMap": {},
     "title": ""
    }
   },
   "source": [
    "instead of using sql we want to perform DML using spark then we use table Instance"
   ]
  },
  {
   "cell_type": "code",
   "execution_count": 0,
   "metadata": {
    "application/vnd.databricks.v1+cell": {
     "cellMetadata": {
      "byteLimit": 2048000,
      "rowLimit": 10000
     },
     "inputWidgets": {},
     "nuid": "4775912c-e444-4dec-b27f-f8f135e55f1c",
     "showTitle": false,
     "tableResultSettingsMap": {},
     "title": ""
    }
   },
   "outputs": [],
   "source": [
    "deltaInstancel = DeltaTable.forPath(spark, \"/FileStore/tables/delta/createtable\")"
   ]
  },
  {
   "cell_type": "code",
   "execution_count": 0,
   "metadata": {
    "application/vnd.databricks.v1+cell": {
     "cellMetadata": {
      "byteLimit": 2048000,
      "rowLimit": 10000
     },
     "inputWidgets": {},
     "nuid": "cbee9d4a-b2de-4ae2-827e-3a94e83f0440",
     "showTitle": false,
     "tableResultSettingsMap": {},
     "title": ""
    }
   },
   "outputs": [
    {
     "output_type": "display_data",
     "data": {
      "text/html": [
       "<style scoped>\n",
       "  .table-result-container {\n",
       "    max-height: 300px;\n",
       "    overflow: auto;\n",
       "  }\n",
       "  table, th, td {\n",
       "    border: 1px solid black;\n",
       "    border-collapse: collapse;\n",
       "  }\n",
       "  th, td {\n",
       "    padding: 5px;\n",
       "  }\n",
       "  th {\n",
       "    text-align: left;\n",
       "  }\n",
       "</style><div class='table-result-container'><table class='table-result'><thead style='background-color: white'><tr><th>emp_id</th><th>emp_name</th><th>gender</th><th>salary</th><th>Dept</th></tr></thead><tbody><tr><td>160</td><td>Stephen</td><td>M</td><td>2000</td><td>IT</td></tr><tr><td>200</td><td>Philipp</td><td>M</td><td>8000</td><td>HR</td></tr><tr><td>300</td><td>Lara</td><td>F</td><td>6000</td><td>SALES</td></tr></tbody></table></div>"
      ]
     },
     "metadata": {
      "application/vnd.databricks.v1+output": {
       "addedWidgets": {},
       "aggData": [],
       "aggError": "",
       "aggOverflow": false,
       "aggSchema": [],
       "aggSeriesLimitReached": false,
       "aggType": "",
       "arguments": {},
       "columnCustomDisplayInfos": {},
       "data": [
        [
         160,
         "Stephen",
         "M",
         2000,
         "IT"
        ],
        [
         200,
         "Philipp",
         "M",
         8000,
         "HR"
        ],
        [
         300,
         "Lara",
         "F",
         6000,
         "SALES"
        ]
       ],
       "datasetInfos": [],
       "dbfsResultPath": null,
       "isJsonSchema": true,
       "metadata": {},
       "overflow": false,
       "plotOptions": {
        "customPlotOptions": {},
        "displayType": "table",
        "pivotAggregation": null,
        "pivotColumns": null,
        "xColumns": null,
        "yColumns": null
       },
       "removedWidgets": [],
       "schema": [
        {
         "metadata": "{}",
         "name": "emp_id",
         "type": "\"integer\""
        },
        {
         "metadata": "{}",
         "name": "emp_name",
         "type": "\"string\""
        },
        {
         "metadata": "{}",
         "name": "gender",
         "type": "\"string\""
        },
        {
         "metadata": "{}",
         "name": "salary",
         "type": "\"integer\""
        },
        {
         "metadata": "{}",
         "name": "Dept",
         "type": "\"string\""
        }
       ],
       "type": "table"
      }
     },
     "output_type": "display_data"
    }
   ],
   "source": [
    "display(deltaInstancel.toDF())"
   ]
  },
  {
   "cell_type": "code",
   "execution_count": 0,
   "metadata": {
    "application/vnd.databricks.v1+cell": {
     "cellMetadata": {},
     "inputWidgets": {},
     "nuid": "cfc631b7-e2a6-4f3a-9ef2-65f524c42590",
     "showTitle": false,
     "tableResultSettingsMap": {},
     "title": ""
    }
   },
   "outputs": [],
   "source": [
    "%sql\n",
    "delete from employee_demo where emp_id = 100"
   ]
  },
  {
   "cell_type": "code",
   "execution_count": 0,
   "metadata": {
    "application/vnd.databricks.v1+cell": {
     "cellMetadata": {
      "byteLimit": 2048000,
      "rowLimit": 10000
     },
     "inputWidgets": {},
     "nuid": "03a2e614-2c17-401a-874e-622374a3e553",
     "showTitle": false,
     "tableResultSettingsMap": {},
     "title": ""
    }
   },
   "outputs": [],
   "source": [
    "deltaInstancel.delete(\"emp_id = 200\")"
   ]
  },
  {
   "cell_type": "code",
   "execution_count": 0,
   "metadata": {
    "application/vnd.databricks.v1+cell": {
     "cellMetadata": {
      "byteLimit": 2048000,
      "rowLimit": 10000
     },
     "inputWidgets": {},
     "nuid": "c6e076dc-aca6-42e7-9d11-68ae6fd19ebc",
     "showTitle": false,
     "tableResultSettingsMap": {},
     "title": ""
    }
   },
   "outputs": [
    {
     "output_type": "display_data",
     "data": {
      "text/html": [
       "<style scoped>\n",
       "  .table-result-container {\n",
       "    max-height: 300px;\n",
       "    overflow: auto;\n",
       "  }\n",
       "  table, th, td {\n",
       "    border: 1px solid black;\n",
       "    border-collapse: collapse;\n",
       "  }\n",
       "  th, td {\n",
       "    padding: 5px;\n",
       "  }\n",
       "  th {\n",
       "    text-align: left;\n",
       "  }\n",
       "</style><div class='table-result-container'><table class='table-result'><thead style='background-color: white'><tr><th>emp_id</th><th>emp_name</th><th>gender</th><th>salary</th><th>Dept</th></tr></thead><tbody><tr><td>160</td><td>Stephen</td><td>M</td><td>2000</td><td>IT</td></tr><tr><td>300</td><td>Lara</td><td>F</td><td>6000</td><td>SALES</td></tr></tbody></table></div>"
      ]
     },
     "metadata": {
      "application/vnd.databricks.v1+output": {
       "addedWidgets": {},
       "aggData": [],
       "aggError": "",
       "aggOverflow": false,
       "aggSchema": [],
       "aggSeriesLimitReached": false,
       "aggType": "",
       "arguments": {},
       "columnCustomDisplayInfos": {},
       "data": [
        [
         160,
         "Stephen",
         "M",
         2000,
         "IT"
        ],
        [
         300,
         "Lara",
         "F",
         6000,
         "SALES"
        ]
       ],
       "datasetInfos": [],
       "dbfsResultPath": null,
       "isJsonSchema": true,
       "metadata": {},
       "overflow": false,
       "plotOptions": {
        "customPlotOptions": {},
        "displayType": "table",
        "pivotAggregation": null,
        "pivotColumns": null,
        "xColumns": null,
        "yColumns": null
       },
       "removedWidgets": [],
       "schema": [
        {
         "metadata": "{}",
         "name": "emp_id",
         "type": "\"integer\""
        },
        {
         "metadata": "{}",
         "name": "emp_name",
         "type": "\"string\""
        },
        {
         "metadata": "{}",
         "name": "gender",
         "type": "\"string\""
        },
        {
         "metadata": "{}",
         "name": "salary",
         "type": "\"integer\""
        },
        {
         "metadata": "{}",
         "name": "Dept",
         "type": "\"string\""
        }
       ],
       "type": "table"
      }
     },
     "output_type": "display_data"
    }
   ],
   "source": [
    "display(deltaInstancel.toDF())"
   ]
  },
  {
   "cell_type": "markdown",
   "metadata": {
    "application/vnd.databricks.v1+cell": {
     "cellMetadata": {},
     "inputWidgets": {},
     "nuid": "54fc3155-3c42-4b78-b285-de000533bf5b",
     "showTitle": false,
     "tableResultSettingsMap": {},
     "title": ""
    }
   },
   "source": [
    "## second approach to create Table Instance"
   ]
  },
  {
   "cell_type": "code",
   "execution_count": 0,
   "metadata": {
    "application/vnd.databricks.v1+cell": {
     "cellMetadata": {
      "byteLimit": 2048000,
      "rowLimit": 10000
     },
     "inputWidgets": {},
     "nuid": "32b6bbf7-bc01-41f7-97d9-fcc9bd7d2056",
     "showTitle": false,
     "tableResultSettingsMap": {},
     "title": ""
    }
   },
   "outputs": [],
   "source": [
    "deltaInstance2 = DeltaTable.forName(spark, \"employee_demo\")"
   ]
  },
  {
   "cell_type": "code",
   "execution_count": 0,
   "metadata": {
    "application/vnd.databricks.v1+cell": {
     "cellMetadata": {
      "byteLimit": 2048000,
      "rowLimit": 10000
     },
     "inputWidgets": {},
     "nuid": "8bc5c726-9179-4b72-8ced-23cca02ce8a4",
     "showTitle": false,
     "tableResultSettingsMap": {},
     "title": ""
    }
   },
   "outputs": [
    {
     "output_type": "display_data",
     "data": {
      "text/html": [
       "<style scoped>\n",
       "  .table-result-container {\n",
       "    max-height: 300px;\n",
       "    overflow: auto;\n",
       "  }\n",
       "  table, th, td {\n",
       "    border: 1px solid black;\n",
       "    border-collapse: collapse;\n",
       "  }\n",
       "  th, td {\n",
       "    padding: 5px;\n",
       "  }\n",
       "  th {\n",
       "    text-align: left;\n",
       "  }\n",
       "</style><div class='table-result-container'><table class='table-result'><thead style='background-color: white'><tr><th>emp_id</th><th>emp_name</th><th>gender</th><th>salary</th><th>Dept</th></tr></thead><tbody><tr><td>160</td><td>Stephen</td><td>M</td><td>2000</td><td>IT</td></tr><tr><td>300</td><td>Lara</td><td>F</td><td>6000</td><td>SALES</td></tr></tbody></table></div>"
      ]
     },
     "metadata": {
      "application/vnd.databricks.v1+output": {
       "addedWidgets": {},
       "aggData": [],
       "aggError": "",
       "aggOverflow": false,
       "aggSchema": [],
       "aggSeriesLimitReached": false,
       "aggType": "",
       "arguments": {},
       "columnCustomDisplayInfos": {},
       "data": [
        [
         160,
         "Stephen",
         "M",
         2000,
         "IT"
        ],
        [
         300,
         "Lara",
         "F",
         6000,
         "SALES"
        ]
       ],
       "datasetInfos": [],
       "dbfsResultPath": null,
       "isJsonSchema": true,
       "metadata": {},
       "overflow": false,
       "plotOptions": {
        "customPlotOptions": {},
        "displayType": "table",
        "pivotAggregation": null,
        "pivotColumns": null,
        "xColumns": null,
        "yColumns": null
       },
       "removedWidgets": [],
       "schema": [
        {
         "metadata": "{}",
         "name": "emp_id",
         "type": "\"integer\""
        },
        {
         "metadata": "{}",
         "name": "emp_name",
         "type": "\"string\""
        },
        {
         "metadata": "{}",
         "name": "gender",
         "type": "\"string\""
        },
        {
         "metadata": "{}",
         "name": "salary",
         "type": "\"integer\""
        },
        {
         "metadata": "{}",
         "name": "Dept",
         "type": "\"string\""
        }
       ],
       "type": "table"
      }
     },
     "output_type": "display_data"
    }
   ],
   "source": [
    "display(deltaInstance2.toDF())"
   ]
  },
  {
   "cell_type": "code",
   "execution_count": 0,
   "metadata": {
    "application/vnd.databricks.v1+cell": {
     "cellMetadata": {
      "byteLimit": 2048000,
      "implicitDf": true,
      "rowLimit": 10000
     },
     "inputWidgets": {},
     "nuid": "015c65c5-ac4c-4548-b0ac-ddbe251c0018",
     "showTitle": false,
     "tableResultSettingsMap": {},
     "title": ""
    }
   },
   "outputs": [
    {
     "output_type": "display_data",
     "data": {
      "text/html": [
       "<style scoped>\n",
       "  .table-result-container {\n",
       "    max-height: 300px;\n",
       "    overflow: auto;\n",
       "  }\n",
       "  table, th, td {\n",
       "    border: 1px solid black;\n",
       "    border-collapse: collapse;\n",
       "  }\n",
       "  th, td {\n",
       "    padding: 5px;\n",
       "  }\n",
       "  th {\n",
       "    text-align: left;\n",
       "  }\n",
       "</style><div class='table-result-container'><table class='table-result'><thead style='background-color: white'><tr><th>version</th><th>timestamp</th><th>userId</th><th>userName</th><th>operation</th><th>operationParameters</th><th>job</th><th>notebook</th><th>clusterId</th><th>readVersion</th><th>isolationLevel</th><th>isBlindAppend</th><th>operationMetrics</th><th>userMetadata</th><th>engineInfo</th></tr></thead><tbody><tr><td>4</td><td>2024-10-29T06:51:38.000+0000</td><td>4072984634355030</td><td>sachitramkoppal@gmail.com</td><td>DELETE</td><td>Map(predicate -> [\"(emp_id#2198 = 200)\"])</td><td>null</td><td>List(615708985720197)</td><td>1029-064024-m71c6nj6</td><td>3</td><td>WriteSerializable</td><td>false</td><td>Map(numRemovedFiles -> 1, numRemovedBytes -> 1521, numCopiedRows -> 0, numDeletionVectorsAdded -> 0, numDeletionVectorsRemoved -> 0, numAddedChangeFiles -> 0, executionTimeMs -> 3735, numDeletedRows -> 1, scanTimeMs -> 2359, numAddedFiles -> 0, numAddedBytes -> 0, rewriteTimeMs -> 1324)</td><td>null</td><td>Databricks-Runtime/12.2.x-scala2.12</td></tr><tr><td>3</td><td>2024-10-29T06:44:13.000+0000</td><td>4072984634355030</td><td>sachitramkoppal@gmail.com</td><td>WRITE</td><td>Map(mode -> Append, partitionBy -> [])</td><td>null</td><td>List(615708985720197)</td><td>1029-064024-m71c6nj6</td><td>2</td><td>WriteSerializable</td><td>true</td><td>Map(numFiles -> 1, numOutputRows -> 1, numOutputBytes -> 1521)</td><td>null</td><td>Databricks-Runtime/12.2.x-scala2.12</td></tr><tr><td>2</td><td>2024-10-29T06:44:08.000+0000</td><td>4072984634355030</td><td>sachitramkoppal@gmail.com</td><td>WRITE</td><td>Map(mode -> Append, partitionBy -> [])</td><td>null</td><td>List(615708985720197)</td><td>1029-064024-m71c6nj6</td><td>1</td><td>WriteSerializable</td><td>true</td><td>Map(numFiles -> 1, numOutputRows -> 1, numOutputBytes -> 1521)</td><td>null</td><td>Databricks-Runtime/12.2.x-scala2.12</td></tr><tr><td>1</td><td>2024-10-29T06:44:01.000+0000</td><td>4072984634355030</td><td>sachitramkoppal@gmail.com</td><td>WRITE</td><td>Map(mode -> Append, partitionBy -> [])</td><td>null</td><td>List(615708985720197)</td><td>1029-064024-m71c6nj6</td><td>0</td><td>WriteSerializable</td><td>true</td><td>Map(numFiles -> 1, numOutputRows -> 1, numOutputBytes -> 1521)</td><td>null</td><td>Databricks-Runtime/12.2.x-scala2.12</td></tr><tr><td>0</td><td>2024-10-29T06:43:18.000+0000</td><td>4072984634355030</td><td>sachitramkoppal@gmail.com</td><td>CREATE TABLE</td><td>Map(isManaged -> false, description -> null, partitionBy -> [], properties -> {\"description\":\"table created for demo purpose\"})</td><td>null</td><td>List(615708985720197)</td><td>1029-064024-m71c6nj6</td><td>null</td><td>WriteSerializable</td><td>true</td><td>Map()</td><td>null</td><td>Databricks-Runtime/12.2.x-scala2.12</td></tr></tbody></table></div>"
      ]
     },
     "metadata": {
      "application/vnd.databricks.v1+output": {
       "addedWidgets": {},
       "aggData": [],
       "aggError": "",
       "aggOverflow": false,
       "aggSchema": [],
       "aggSeriesLimitReached": false,
       "aggType": "",
       "arguments": {},
       "columnCustomDisplayInfos": {},
       "data": [
        [
         4,
         "2024-10-29T06:51:38.000+0000",
         "4072984634355030",
         "sachitramkoppal@gmail.com",
         "DELETE",
         {
          "predicate": "[\"(emp_id#2198 = 200)\"]"
         },
         null,
         [
          "615708985720197"
         ],
         "1029-064024-m71c6nj6",
         3,
         "WriteSerializable",
         false,
         {
          "executionTimeMs": "3735",
          "numAddedBytes": "0",
          "numAddedChangeFiles": "0",
          "numAddedFiles": "0",
          "numCopiedRows": "0",
          "numDeletedRows": "1",
          "numDeletionVectorsAdded": "0",
          "numDeletionVectorsRemoved": "0",
          "numRemovedBytes": "1521",
          "numRemovedFiles": "1",
          "rewriteTimeMs": "1324",
          "scanTimeMs": "2359"
         },
         null,
         "Databricks-Runtime/12.2.x-scala2.12"
        ],
        [
         3,
         "2024-10-29T06:44:13.000+0000",
         "4072984634355030",
         "sachitramkoppal@gmail.com",
         "WRITE",
         {
          "mode": "Append",
          "partitionBy": "[]"
         },
         null,
         [
          "615708985720197"
         ],
         "1029-064024-m71c6nj6",
         2,
         "WriteSerializable",
         true,
         {
          "numFiles": "1",
          "numOutputBytes": "1521",
          "numOutputRows": "1"
         },
         null,
         "Databricks-Runtime/12.2.x-scala2.12"
        ],
        [
         2,
         "2024-10-29T06:44:08.000+0000",
         "4072984634355030",
         "sachitramkoppal@gmail.com",
         "WRITE",
         {
          "mode": "Append",
          "partitionBy": "[]"
         },
         null,
         [
          "615708985720197"
         ],
         "1029-064024-m71c6nj6",
         1,
         "WriteSerializable",
         true,
         {
          "numFiles": "1",
          "numOutputBytes": "1521",
          "numOutputRows": "1"
         },
         null,
         "Databricks-Runtime/12.2.x-scala2.12"
        ],
        [
         1,
         "2024-10-29T06:44:01.000+0000",
         "4072984634355030",
         "sachitramkoppal@gmail.com",
         "WRITE",
         {
          "mode": "Append",
          "partitionBy": "[]"
         },
         null,
         [
          "615708985720197"
         ],
         "1029-064024-m71c6nj6",
         0,
         "WriteSerializable",
         true,
         {
          "numFiles": "1",
          "numOutputBytes": "1521",
          "numOutputRows": "1"
         },
         null,
         "Databricks-Runtime/12.2.x-scala2.12"
        ],
        [
         0,
         "2024-10-29T06:43:18.000+0000",
         "4072984634355030",
         "sachitramkoppal@gmail.com",
         "CREATE TABLE",
         {
          "description": null,
          "isManaged": "false",
          "partitionBy": "[]",
          "properties": "{\"description\":\"table created for demo purpose\"}"
         },
         null,
         [
          "615708985720197"
         ],
         "1029-064024-m71c6nj6",
         null,
         "WriteSerializable",
         true,
         {},
         null,
         "Databricks-Runtime/12.2.x-scala2.12"
        ]
       ],
       "datasetInfos": [],
       "dbfsResultPath": null,
       "isJsonSchema": true,
       "metadata": {},
       "overflow": false,
       "plotOptions": {
        "customPlotOptions": {},
        "displayType": "table",
        "pivotAggregation": null,
        "pivotColumns": null,
        "xColumns": null,
        "yColumns": null
       },
       "removedWidgets": [],
       "schema": [
        {
         "metadata": "{}",
         "name": "version",
         "type": "\"long\""
        },
        {
         "metadata": "{}",
         "name": "timestamp",
         "type": "\"timestamp\""
        },
        {
         "metadata": "{}",
         "name": "userId",
         "type": "\"string\""
        },
        {
         "metadata": "{}",
         "name": "userName",
         "type": "\"string\""
        },
        {
         "metadata": "{}",
         "name": "operation",
         "type": "\"string\""
        },
        {
         "metadata": "{}",
         "name": "operationParameters",
         "type": "{\"type\":\"map\",\"keyType\":\"string\",\"valueType\":\"string\",\"valueContainsNull\":true}"
        },
        {
         "metadata": "{}",
         "name": "job",
         "type": "{\"type\":\"struct\",\"fields\":[{\"name\":\"jobId\",\"type\":\"string\",\"nullable\":true,\"metadata\":{}},{\"name\":\"jobName\",\"type\":\"string\",\"nullable\":true,\"metadata\":{}},{\"name\":\"jobRunId\",\"type\":\"string\",\"nullable\":true,\"metadata\":{}},{\"name\":\"runId\",\"type\":\"string\",\"nullable\":true,\"metadata\":{}},{\"name\":\"jobOwnerId\",\"type\":\"string\",\"nullable\":true,\"metadata\":{}},{\"name\":\"triggerType\",\"type\":\"string\",\"nullable\":true,\"metadata\":{}}]}"
        },
        {
         "metadata": "{}",
         "name": "notebook",
         "type": "{\"type\":\"struct\",\"fields\":[{\"name\":\"notebookId\",\"type\":\"string\",\"nullable\":true,\"metadata\":{}}]}"
        },
        {
         "metadata": "{}",
         "name": "clusterId",
         "type": "\"string\""
        },
        {
         "metadata": "{}",
         "name": "readVersion",
         "type": "\"long\""
        },
        {
         "metadata": "{}",
         "name": "isolationLevel",
         "type": "\"string\""
        },
        {
         "metadata": "{}",
         "name": "isBlindAppend",
         "type": "\"boolean\""
        },
        {
         "metadata": "{}",
         "name": "operationMetrics",
         "type": "{\"type\":\"map\",\"keyType\":\"string\",\"valueType\":\"string\",\"valueContainsNull\":true}"
        },
        {
         "metadata": "{}",
         "name": "userMetadata",
         "type": "\"string\""
        },
        {
         "metadata": "{}",
         "name": "engineInfo",
         "type": "\"string\""
        }
       ],
       "type": "table"
      }
     },
     "output_type": "display_data"
    }
   ],
   "source": [
    "%sql\n",
    "DESCRIBE HISTORY employee_demo"
   ]
  },
  {
   "cell_type": "code",
   "execution_count": 0,
   "metadata": {
    "application/vnd.databricks.v1+cell": {
     "cellMetadata": {
      "byteLimit": 2048000,
      "rowLimit": 10000
     },
     "inputWidgets": {},
     "nuid": "1e6c8a8a-d6c9-4b6f-b488-5789bb3688eb",
     "showTitle": false,
     "tableResultSettingsMap": {},
     "title": ""
    }
   },
   "outputs": [
    {
     "output_type": "display_data",
     "data": {
      "text/html": [
       "<style scoped>\n",
       "  .table-result-container {\n",
       "    max-height: 300px;\n",
       "    overflow: auto;\n",
       "  }\n",
       "  table, th, td {\n",
       "    border: 1px solid black;\n",
       "    border-collapse: collapse;\n",
       "  }\n",
       "  th, td {\n",
       "    padding: 5px;\n",
       "  }\n",
       "  th {\n",
       "    text-align: left;\n",
       "  }\n",
       "</style><div class='table-result-container'><table class='table-result'><thead style='background-color: white'><tr><th>version</th><th>timestamp</th><th>userId</th><th>userName</th><th>operation</th><th>operationParameters</th><th>job</th><th>notebook</th><th>clusterId</th><th>readVersion</th><th>isolationLevel</th><th>isBlindAppend</th><th>operationMetrics</th><th>userMetadata</th><th>engineInfo</th></tr></thead><tbody><tr><td>4</td><td>2024-10-29T06:51:38.000+0000</td><td>4072984634355030</td><td>sachitramkoppal@gmail.com</td><td>DELETE</td><td>Map(predicate -> [\"(emp_id#2198 = 200)\"])</td><td>null</td><td>List(615708985720197)</td><td>1029-064024-m71c6nj6</td><td>3</td><td>WriteSerializable</td><td>false</td><td>Map(numRemovedFiles -> 1, numRemovedBytes -> 1521, numCopiedRows -> 0, numDeletionVectorsAdded -> 0, numDeletionVectorsRemoved -> 0, numAddedChangeFiles -> 0, executionTimeMs -> 3735, numDeletedRows -> 1, scanTimeMs -> 2359, numAddedFiles -> 0, numAddedBytes -> 0, rewriteTimeMs -> 1324)</td><td>null</td><td>Databricks-Runtime/12.2.x-scala2.12</td></tr><tr><td>3</td><td>2024-10-29T06:44:13.000+0000</td><td>4072984634355030</td><td>sachitramkoppal@gmail.com</td><td>WRITE</td><td>Map(mode -> Append, partitionBy -> [])</td><td>null</td><td>List(615708985720197)</td><td>1029-064024-m71c6nj6</td><td>2</td><td>WriteSerializable</td><td>true</td><td>Map(numFiles -> 1, numOutputRows -> 1, numOutputBytes -> 1521)</td><td>null</td><td>Databricks-Runtime/12.2.x-scala2.12</td></tr><tr><td>2</td><td>2024-10-29T06:44:08.000+0000</td><td>4072984634355030</td><td>sachitramkoppal@gmail.com</td><td>WRITE</td><td>Map(mode -> Append, partitionBy -> [])</td><td>null</td><td>List(615708985720197)</td><td>1029-064024-m71c6nj6</td><td>1</td><td>WriteSerializable</td><td>true</td><td>Map(numFiles -> 1, numOutputRows -> 1, numOutputBytes -> 1521)</td><td>null</td><td>Databricks-Runtime/12.2.x-scala2.12</td></tr><tr><td>1</td><td>2024-10-29T06:44:01.000+0000</td><td>4072984634355030</td><td>sachitramkoppal@gmail.com</td><td>WRITE</td><td>Map(mode -> Append, partitionBy -> [])</td><td>null</td><td>List(615708985720197)</td><td>1029-064024-m71c6nj6</td><td>0</td><td>WriteSerializable</td><td>true</td><td>Map(numFiles -> 1, numOutputRows -> 1, numOutputBytes -> 1521)</td><td>null</td><td>Databricks-Runtime/12.2.x-scala2.12</td></tr><tr><td>0</td><td>2024-10-29T06:43:18.000+0000</td><td>4072984634355030</td><td>sachitramkoppal@gmail.com</td><td>CREATE TABLE</td><td>Map(isManaged -> false, description -> null, partitionBy -> [], properties -> {\"description\":\"table created for demo purpose\"})</td><td>null</td><td>List(615708985720197)</td><td>1029-064024-m71c6nj6</td><td>null</td><td>WriteSerializable</td><td>true</td><td>Map()</td><td>null</td><td>Databricks-Runtime/12.2.x-scala2.12</td></tr></tbody></table></div>"
      ]
     },
     "metadata": {
      "application/vnd.databricks.v1+output": {
       "addedWidgets": {},
       "aggData": [],
       "aggError": "",
       "aggOverflow": false,
       "aggSchema": [],
       "aggSeriesLimitReached": false,
       "aggType": "",
       "arguments": {},
       "columnCustomDisplayInfos": {},
       "data": [
        [
         4,
         "2024-10-29T06:51:38.000+0000",
         "4072984634355030",
         "sachitramkoppal@gmail.com",
         "DELETE",
         {
          "predicate": "[\"(emp_id#2198 = 200)\"]"
         },
         null,
         [
          "615708985720197"
         ],
         "1029-064024-m71c6nj6",
         3,
         "WriteSerializable",
         false,
         {
          "executionTimeMs": "3735",
          "numAddedBytes": "0",
          "numAddedChangeFiles": "0",
          "numAddedFiles": "0",
          "numCopiedRows": "0",
          "numDeletedRows": "1",
          "numDeletionVectorsAdded": "0",
          "numDeletionVectorsRemoved": "0",
          "numRemovedBytes": "1521",
          "numRemovedFiles": "1",
          "rewriteTimeMs": "1324",
          "scanTimeMs": "2359"
         },
         null,
         "Databricks-Runtime/12.2.x-scala2.12"
        ],
        [
         3,
         "2024-10-29T06:44:13.000+0000",
         "4072984634355030",
         "sachitramkoppal@gmail.com",
         "WRITE",
         {
          "mode": "Append",
          "partitionBy": "[]"
         },
         null,
         [
          "615708985720197"
         ],
         "1029-064024-m71c6nj6",
         2,
         "WriteSerializable",
         true,
         {
          "numFiles": "1",
          "numOutputBytes": "1521",
          "numOutputRows": "1"
         },
         null,
         "Databricks-Runtime/12.2.x-scala2.12"
        ],
        [
         2,
         "2024-10-29T06:44:08.000+0000",
         "4072984634355030",
         "sachitramkoppal@gmail.com",
         "WRITE",
         {
          "mode": "Append",
          "partitionBy": "[]"
         },
         null,
         [
          "615708985720197"
         ],
         "1029-064024-m71c6nj6",
         1,
         "WriteSerializable",
         true,
         {
          "numFiles": "1",
          "numOutputBytes": "1521",
          "numOutputRows": "1"
         },
         null,
         "Databricks-Runtime/12.2.x-scala2.12"
        ],
        [
         1,
         "2024-10-29T06:44:01.000+0000",
         "4072984634355030",
         "sachitramkoppal@gmail.com",
         "WRITE",
         {
          "mode": "Append",
          "partitionBy": "[]"
         },
         null,
         [
          "615708985720197"
         ],
         "1029-064024-m71c6nj6",
         0,
         "WriteSerializable",
         true,
         {
          "numFiles": "1",
          "numOutputBytes": "1521",
          "numOutputRows": "1"
         },
         null,
         "Databricks-Runtime/12.2.x-scala2.12"
        ],
        [
         0,
         "2024-10-29T06:43:18.000+0000",
         "4072984634355030",
         "sachitramkoppal@gmail.com",
         "CREATE TABLE",
         {
          "description": null,
          "isManaged": "false",
          "partitionBy": "[]",
          "properties": "{\"description\":\"table created for demo purpose\"}"
         },
         null,
         [
          "615708985720197"
         ],
         "1029-064024-m71c6nj6",
         null,
         "WriteSerializable",
         true,
         {},
         null,
         "Databricks-Runtime/12.2.x-scala2.12"
        ]
       ],
       "datasetInfos": [],
       "dbfsResultPath": null,
       "isJsonSchema": true,
       "metadata": {},
       "overflow": false,
       "plotOptions": {
        "customPlotOptions": {},
        "displayType": "table",
        "pivotAggregation": null,
        "pivotColumns": null,
        "xColumns": null,
        "yColumns": null
       },
       "removedWidgets": [],
       "schema": [
        {
         "metadata": "{}",
         "name": "version",
         "type": "\"long\""
        },
        {
         "metadata": "{}",
         "name": "timestamp",
         "type": "\"timestamp\""
        },
        {
         "metadata": "{}",
         "name": "userId",
         "type": "\"string\""
        },
        {
         "metadata": "{}",
         "name": "userName",
         "type": "\"string\""
        },
        {
         "metadata": "{}",
         "name": "operation",
         "type": "\"string\""
        },
        {
         "metadata": "{}",
         "name": "operationParameters",
         "type": "{\"type\":\"map\",\"keyType\":\"string\",\"valueType\":\"string\",\"valueContainsNull\":true}"
        },
        {
         "metadata": "{}",
         "name": "job",
         "type": "{\"type\":\"struct\",\"fields\":[{\"name\":\"jobId\",\"type\":\"string\",\"nullable\":true,\"metadata\":{}},{\"name\":\"jobName\",\"type\":\"string\",\"nullable\":true,\"metadata\":{}},{\"name\":\"jobRunId\",\"type\":\"string\",\"nullable\":true,\"metadata\":{}},{\"name\":\"runId\",\"type\":\"string\",\"nullable\":true,\"metadata\":{}},{\"name\":\"jobOwnerId\",\"type\":\"string\",\"nullable\":true,\"metadata\":{}},{\"name\":\"triggerType\",\"type\":\"string\",\"nullable\":true,\"metadata\":{}}]}"
        },
        {
         "metadata": "{}",
         "name": "notebook",
         "type": "{\"type\":\"struct\",\"fields\":[{\"name\":\"notebookId\",\"type\":\"string\",\"nullable\":true,\"metadata\":{}}]}"
        },
        {
         "metadata": "{}",
         "name": "clusterId",
         "type": "\"string\""
        },
        {
         "metadata": "{}",
         "name": "readVersion",
         "type": "\"long\""
        },
        {
         "metadata": "{}",
         "name": "isolationLevel",
         "type": "\"string\""
        },
        {
         "metadata": "{}",
         "name": "isBlindAppend",
         "type": "\"boolean\""
        },
        {
         "metadata": "{}",
         "name": "operationMetrics",
         "type": "{\"type\":\"map\",\"keyType\":\"string\",\"valueType\":\"string\",\"valueContainsNull\":true}"
        },
        {
         "metadata": "{}",
         "name": "userMetadata",
         "type": "\"string\""
        },
        {
         "metadata": "{}",
         "name": "engineInfo",
         "type": "\"string\""
        }
       ],
       "type": "table"
      }
     },
     "output_type": "display_data"
    }
   ],
   "source": [
    "display(deltaInstance2.history())"
   ]
  },
  {
   "cell_type": "markdown",
   "metadata": {
    "application/vnd.databricks.v1+cell": {
     "cellMetadata": {},
     "inputWidgets": {},
     "nuid": "e8ea014a-d533-4441-89c1-6a596db1e14c",
     "showTitle": false,
     "tableResultSettingsMap": {},
     "title": ""
    }
   },
   "source": [
    "# Different Approaches to Insert Data Into Delta Table"
   ]
  },
  {
   "cell_type": "code",
   "execution_count": 0,
   "metadata": {
    "application/vnd.databricks.v1+cell": {
     "cellMetadata": {
      "byteLimit": 2048000,
      "implicitDf": true,
      "rowLimit": 10000
     },
     "inputWidgets": {},
     "nuid": "1e4b3455-7d30-4c12-b276-bc9d2a090cee",
     "showTitle": false,
     "tableResultSettingsMap": {},
     "title": ""
    }
   },
   "outputs": [
    {
     "output_type": "display_data",
     "data": {
      "text/html": [
       "<style scoped>\n",
       "  .table-result-container {\n",
       "    max-height: 300px;\n",
       "    overflow: auto;\n",
       "  }\n",
       "  table, th, td {\n",
       "    border: 1px solid black;\n",
       "    border-collapse: collapse;\n",
       "  }\n",
       "  th, td {\n",
       "    padding: 5px;\n",
       "  }\n",
       "  th {\n",
       "    text-align: left;\n",
       "  }\n",
       "</style><div class='table-result-container'><table class='table-result'><thead style='background-color: white'><tr><th>emp_id</th><th>emp_name</th><th>gender</th><th>salary</th><th>Dept</th></tr></thead><tbody><tr><td>160</td><td>Stephen</td><td>M</td><td>2000</td><td>IT</td></tr><tr><td>300</td><td>Lara</td><td>F</td><td>6000</td><td>SALES</td></tr></tbody></table></div>"
      ]
     },
     "metadata": {
      "application/vnd.databricks.v1+output": {
       "addedWidgets": {},
       "aggData": [],
       "aggError": "",
       "aggOverflow": false,
       "aggSchema": [],
       "aggSeriesLimitReached": false,
       "aggType": "",
       "arguments": {},
       "columnCustomDisplayInfos": {},
       "data": [
        [
         160,
         "Stephen",
         "M",
         2000,
         "IT"
        ],
        [
         300,
         "Lara",
         "F",
         6000,
         "SALES"
        ]
       ],
       "datasetInfos": [],
       "dbfsResultPath": null,
       "isJsonSchema": true,
       "metadata": {},
       "overflow": false,
       "plotOptions": {
        "customPlotOptions": {},
        "displayType": "table",
        "pivotAggregation": null,
        "pivotColumns": null,
        "xColumns": null,
        "yColumns": null
       },
       "removedWidgets": [],
       "schema": [
        {
         "metadata": "{}",
         "name": "emp_id",
         "type": "\"integer\""
        },
        {
         "metadata": "{}",
         "name": "emp_name",
         "type": "\"string\""
        },
        {
         "metadata": "{}",
         "name": "gender",
         "type": "\"string\""
        },
        {
         "metadata": "{}",
         "name": "salary",
         "type": "\"integer\""
        },
        {
         "metadata": "{}",
         "name": "Dept",
         "type": "\"string\""
        }
       ],
       "type": "table"
      }
     },
     "output_type": "display_data"
    }
   ],
   "source": [
    "%sql\n",
    "select * from employee_demo"
   ]
  },
  {
   "cell_type": "markdown",
   "metadata": {
    "application/vnd.databricks.v1+cell": {
     "cellMetadata": {},
     "inputWidgets": {},
     "nuid": "0fffafaf-7ea1-40dc-95ee-b9586f2cef90",
     "showTitle": false,
     "tableResultSettingsMap": {},
     "title": ""
    }
   },
   "source": [
    "sql Style Insert"
   ]
  },
  {
   "cell_type": "code",
   "execution_count": 0,
   "metadata": {
    "application/vnd.databricks.v1+cell": {
     "cellMetadata": {
      "byteLimit": 2048000,
      "implicitDf": true,
      "rowLimit": 10000
     },
     "inputWidgets": {},
     "nuid": "5cb1448b-4ffa-4821-8334-b6858e881d12",
     "showTitle": false,
     "tableResultSettingsMap": {},
     "title": ""
    }
   },
   "outputs": [
    {
     "output_type": "display_data",
     "data": {
      "text/html": [
       "<style scoped>\n",
       "  .table-result-container {\n",
       "    max-height: 300px;\n",
       "    overflow: auto;\n",
       "  }\n",
       "  table, th, td {\n",
       "    border: 1px solid black;\n",
       "    border-collapse: collapse;\n",
       "  }\n",
       "  th, td {\n",
       "    padding: 5px;\n",
       "  }\n",
       "  th {\n",
       "    text-align: left;\n",
       "  }\n",
       "</style><div class='table-result-container'><table class='table-result'><thead style='background-color: white'><tr><th>num_affected_rows</th><th>num_inserted_rows</th></tr></thead><tbody><tr><td>1</td><td>1</td></tr></tbody></table></div>"
      ]
     },
     "metadata": {
      "application/vnd.databricks.v1+output": {
       "addedWidgets": {},
       "aggData": [],
       "aggError": "",
       "aggOverflow": false,
       "aggSchema": [],
       "aggSeriesLimitReached": false,
       "aggType": "",
       "arguments": {},
       "columnCustomDisplayInfos": {},
       "data": [
        [
         1,
         1
        ]
       ],
       "datasetInfos": [],
       "dbfsResultPath": null,
       "isJsonSchema": true,
       "metadata": {},
       "overflow": false,
       "plotOptions": {
        "customPlotOptions": {},
        "displayType": "table",
        "pivotAggregation": null,
        "pivotColumns": null,
        "xColumns": null,
        "yColumns": null
       },
       "removedWidgets": [],
       "schema": [
        {
         "metadata": "{}",
         "name": "num_affected_rows",
         "type": "\"long\""
        },
        {
         "metadata": "{}",
         "name": "num_inserted_rows",
         "type": "\"long\""
        }
       ],
       "type": "table"
      }
     },
     "output_type": "display_data"
    }
   ],
   "source": [
    "%sql\n",
    "insert into employee_demo values(100,\"Stephen\",\"M\",2000,\"IT\");"
   ]
  },
  {
   "cell_type": "markdown",
   "metadata": {
    "application/vnd.databricks.v1+cell": {
     "cellMetadata": {},
     "inputWidgets": {},
     "nuid": "dff765e9-ecfb-4021-946c-0c7c248c99d6",
     "showTitle": false,
     "tableResultSettingsMap": {},
     "title": ""
    }
   },
   "source": [
    "### DataFrame method"
   ]
  },
  {
   "cell_type": "code",
   "execution_count": 0,
   "metadata": {
    "application/vnd.databricks.v1+cell": {
     "cellMetadata": {
      "byteLimit": 2048000,
      "rowLimit": 10000
     },
     "inputWidgets": {},
     "nuid": "20f1d903-7f3d-4ebb-aac7-9a5071947903",
     "showTitle": false,
     "tableResultSettingsMap": {},
     "title": ""
    }
   },
   "outputs": [
    {
     "output_type": "display_data",
     "data": {
      "text/html": [
       "<style scoped>\n",
       "  .table-result-container {\n",
       "    max-height: 300px;\n",
       "    overflow: auto;\n",
       "  }\n",
       "  table, th, td {\n",
       "    border: 1px solid black;\n",
       "    border-collapse: collapse;\n",
       "  }\n",
       "  th, td {\n",
       "    padding: 5px;\n",
       "  }\n",
       "  th {\n",
       "    text-align: left;\n",
       "  }\n",
       "</style><div class='table-result-container'><table class='table-result'><thead style='background-color: white'><tr><th>emp_id</th><th>emp_name</th><th>gender</th><th>salary</th><th>dept</th></tr></thead><tbody><tr><td>200</td><td>Philipp</td><td>M</td><td>8000</td><td>HR</td></tr></tbody></table></div>"
      ]
     },
     "metadata": {
      "application/vnd.databricks.v1+output": {
       "addedWidgets": {},
       "aggData": [],
       "aggError": "",
       "aggOverflow": false,
       "aggSchema": [],
       "aggSeriesLimitReached": false,
       "aggType": "",
       "arguments": {},
       "columnCustomDisplayInfos": {},
       "data": [
        [
         200,
         "Philipp",
         "M",
         8000,
         "HR"
        ]
       ],
       "datasetInfos": [],
       "dbfsResultPath": null,
       "isJsonSchema": true,
       "metadata": {},
       "overflow": false,
       "plotOptions": {
        "customPlotOptions": {},
        "displayType": "table",
        "pivotAggregation": null,
        "pivotColumns": null,
        "xColumns": null,
        "yColumns": null
       },
       "removedWidgets": [],
       "schema": [
        {
         "metadata": "{}",
         "name": "emp_id",
         "type": "\"integer\""
        },
        {
         "metadata": "{}",
         "name": "emp_name",
         "type": "\"string\""
        },
        {
         "metadata": "{}",
         "name": "gender",
         "type": "\"string\""
        },
        {
         "metadata": "{}",
         "name": "salary",
         "type": "\"integer\""
        },
        {
         "metadata": "{}",
         "name": "dept",
         "type": "\"string\""
        }
       ],
       "type": "table"
      }
     },
     "output_type": "display_data"
    }
   ],
   "source": [
    "from pyspark.sql.types import IntegerType, StringType\n",
    "\n",
    "employee_data = [(200, \"Philipp\", \"M\", 8000, \"HR\")]\n",
    "\n",
    "employee_schema = StructType([\n",
    "    StructField(\"emp_id\", IntegerType(), False),\n",
    "    StructField(\"emp_name\", StringType(), True),\n",
    "    StructField(\"gender\", StringType(), True),\n",
    "    StructField(\"salary\", IntegerType(), True),\n",
    "    StructField(\"dept\", StringType(), True)\n",
    "])\n",
    "\n",
    "df = spark.createDataFrame(data=employee_data, schema=employee_schema)\n",
    "\n",
    "display(df)"
   ]
  },
  {
   "cell_type": "code",
   "execution_count": 0,
   "metadata": {
    "application/vnd.databricks.v1+cell": {
     "cellMetadata": {
      "byteLimit": 2048000,
      "rowLimit": 10000
     },
     "inputWidgets": {},
     "nuid": "8408fae0-e875-40b9-944a-c2a94dabfe66",
     "showTitle": false,
     "tableResultSettingsMap": {},
     "title": ""
    }
   },
   "outputs": [],
   "source": [
    "df.write.format(\"delta\").mode(\"append\").saveAsTable(\"employee_demo\")"
   ]
  },
  {
   "cell_type": "code",
   "execution_count": 0,
   "metadata": {
    "application/vnd.databricks.v1+cell": {
     "cellMetadata": {
      "byteLimit": 2048000,
      "implicitDf": true,
      "rowLimit": 10000
     },
     "inputWidgets": {},
     "nuid": "1bf5fa99-786c-49f9-9ffa-e173ac1b8574",
     "showTitle": false,
     "tableResultSettingsMap": {},
     "title": ""
    }
   },
   "outputs": [
    {
     "output_type": "display_data",
     "data": {
      "text/html": [
       "<style scoped>\n",
       "  .table-result-container {\n",
       "    max-height: 300px;\n",
       "    overflow: auto;\n",
       "  }\n",
       "  table, th, td {\n",
       "    border: 1px solid black;\n",
       "    border-collapse: collapse;\n",
       "  }\n",
       "  th, td {\n",
       "    padding: 5px;\n",
       "  }\n",
       "  th {\n",
       "    text-align: left;\n",
       "  }\n",
       "</style><div class='table-result-container'><table class='table-result'><thead style='background-color: white'><tr><th>emp_id</th><th>emp_name</th><th>gender</th><th>salary</th><th>Dept</th></tr></thead><tbody><tr><td>160</td><td>Stephen</td><td>M</td><td>2000</td><td>IT</td></tr><tr><td>300</td><td>Lara</td><td>F</td><td>6000</td><td>SALES</td></tr><tr><td>100</td><td>Stephen</td><td>M</td><td>2000</td><td>IT</td></tr><tr><td>200</td><td>Philipp</td><td>M</td><td>8000</td><td>HR</td></tr><tr><td>300</td><td>Lara</td><td>F</td><td>6000</td><td>SALES</td></tr></tbody></table></div>"
      ]
     },
     "metadata": {
      "application/vnd.databricks.v1+output": {
       "addedWidgets": {},
       "aggData": [],
       "aggError": "",
       "aggOverflow": false,
       "aggSchema": [],
       "aggSeriesLimitReached": false,
       "aggType": "",
       "arguments": {},
       "columnCustomDisplayInfos": {},
       "data": [
        [
         160,
         "Stephen",
         "M",
         2000,
         "IT"
        ],
        [
         300,
         "Lara",
         "F",
         6000,
         "SALES"
        ],
        [
         100,
         "Stephen",
         "M",
         2000,
         "IT"
        ],
        [
         200,
         "Philipp",
         "M",
         8000,
         "HR"
        ],
        [
         300,
         "Lara",
         "F",
         6000,
         "SALES"
        ]
       ],
       "datasetInfos": [],
       "dbfsResultPath": null,
       "isJsonSchema": true,
       "metadata": {},
       "overflow": false,
       "plotOptions": {
        "customPlotOptions": {},
        "displayType": "table",
        "pivotAggregation": null,
        "pivotColumns": null,
        "xColumns": null,
        "yColumns": null
       },
       "removedWidgets": [],
       "schema": [
        {
         "metadata": "{}",
         "name": "emp_id",
         "type": "\"integer\""
        },
        {
         "metadata": "{}",
         "name": "emp_name",
         "type": "\"string\""
        },
        {
         "metadata": "{}",
         "name": "gender",
         "type": "\"string\""
        },
        {
         "metadata": "{}",
         "name": "salary",
         "type": "\"integer\""
        },
        {
         "metadata": "{}",
         "name": "Dept",
         "type": "\"string\""
        }
       ],
       "type": "table"
      }
     },
     "output_type": "display_data"
    }
   ],
   "source": [
    "%sql\n",
    "select * from employee_demo"
   ]
  },
  {
   "cell_type": "markdown",
   "metadata": {
    "application/vnd.databricks.v1+cell": {
     "cellMetadata": {},
     "inputWidgets": {},
     "nuid": "01c43fdf-e05f-4000-ae23-b82e573ac1b8",
     "showTitle": false,
     "tableResultSettingsMap": {},
     "title": ""
    }
   },
   "source": [
    "### DataFrame Insert Into Method"
   ]
  },
  {
   "cell_type": "code",
   "execution_count": 0,
   "metadata": {
    "application/vnd.databricks.v1+cell": {
     "cellMetadata": {
      "byteLimit": 2048000,
      "rowLimit": 10000
     },
     "inputWidgets": {},
     "nuid": "735a7dd3-1187-4572-b2e8-f331c669c504",
     "showTitle": false,
     "tableResultSettingsMap": {},
     "title": ""
    }
   },
   "outputs": [
    {
     "output_type": "display_data",
     "data": {
      "text/html": [
       "<style scoped>\n",
       "  .table-result-container {\n",
       "    max-height: 300px;\n",
       "    overflow: auto;\n",
       "  }\n",
       "  table, th, td {\n",
       "    border: 1px solid black;\n",
       "    border-collapse: collapse;\n",
       "  }\n",
       "  th, td {\n",
       "    padding: 5px;\n",
       "  }\n",
       "  th {\n",
       "    text-align: left;\n",
       "  }\n",
       "</style><div class='table-result-container'><table class='table-result'><thead style='background-color: white'><tr><th>emp_id</th><th>emp_name</th><th>gender</th><th>salary</th><th>dept</th></tr></thead><tbody><tr><td>300</td><td>Lara44</td><td>F</td><td>6000</td><td>SALES</td></tr></tbody></table></div>"
      ]
     },
     "metadata": {
      "application/vnd.databricks.v1+output": {
       "addedWidgets": {},
       "aggData": [],
       "aggError": "",
       "aggOverflow": false,
       "aggSchema": [],
       "aggSeriesLimitReached": false,
       "aggType": "",
       "arguments": {},
       "columnCustomDisplayInfos": {},
       "data": [
        [
         300,
         "Lara44",
         "F",
         6000,
         "SALES"
        ]
       ],
       "datasetInfos": [],
       "dbfsResultPath": null,
       "isJsonSchema": true,
       "metadata": {},
       "overflow": false,
       "plotOptions": {
        "customPlotOptions": {},
        "displayType": "table",
        "pivotAggregation": null,
        "pivotColumns": null,
        "xColumns": null,
        "yColumns": null
       },
       "removedWidgets": [],
       "schema": [
        {
         "metadata": "{}",
         "name": "emp_id",
         "type": "\"integer\""
        },
        {
         "metadata": "{}",
         "name": "emp_name",
         "type": "\"string\""
        },
        {
         "metadata": "{}",
         "name": "gender",
         "type": "\"string\""
        },
        {
         "metadata": "{}",
         "name": "salary",
         "type": "\"integer\""
        },
        {
         "metadata": "{}",
         "name": "dept",
         "type": "\"string\""
        }
       ],
       "type": "table"
      }
     },
     "output_type": "display_data"
    }
   ],
   "source": [
    "from pyspark.sql.types import IntegerType, StringType\n",
    "\n",
    "employee_data = [(300, \"Lara44\", \"F\", 6000, \"SALES\")]\n",
    "\n",
    "employee_schema = StructType([\n",
    "    StructField(\"emp_id\", IntegerType(), False),\n",
    "    StructField(\"emp_name\", StringType(), True),\n",
    "    StructField(\"gender\", StringType(), True),\n",
    "    StructField(\"salary\", IntegerType(), True),\n",
    "    StructField(\"dept\", StringType(), True)\n",
    "])\n",
    "\n",
    "df1 = spark.createDataFrame(data=employee_data, schema=employee_schema)\n",
    "\n",
    "display(df1)"
   ]
  },
  {
   "cell_type": "code",
   "execution_count": 0,
   "metadata": {
    "application/vnd.databricks.v1+cell": {
     "cellMetadata": {
      "byteLimit": 2048000,
      "rowLimit": 10000
     },
     "inputWidgets": {},
     "nuid": "c1deac66-ed2f-4f54-8d13-7afdedd380ef",
     "showTitle": false,
     "tableResultSettingsMap": {},
     "title": ""
    }
   },
   "outputs": [],
   "source": [
    "df1.write.insertInto('employee_demo',overwrite= False)"
   ]
  },
  {
   "cell_type": "code",
   "execution_count": 0,
   "metadata": {
    "application/vnd.databricks.v1+cell": {
     "cellMetadata": {
      "byteLimit": 2048000,
      "implicitDf": true,
      "rowLimit": 10000
     },
     "inputWidgets": {},
     "nuid": "f92c97de-3788-4ad2-a61b-e0cac36d58ff",
     "showTitle": false,
     "tableResultSettingsMap": {},
     "title": ""
    }
   },
   "outputs": [
    {
     "output_type": "display_data",
     "data": {
      "text/html": [
       "<style scoped>\n",
       "  .table-result-container {\n",
       "    max-height: 300px;\n",
       "    overflow: auto;\n",
       "  }\n",
       "  table, th, td {\n",
       "    border: 1px solid black;\n",
       "    border-collapse: collapse;\n",
       "  }\n",
       "  th, td {\n",
       "    padding: 5px;\n",
       "  }\n",
       "  th {\n",
       "    text-align: left;\n",
       "  }\n",
       "</style><div class='table-result-container'><table class='table-result'><thead style='background-color: white'><tr><th>emp_id</th><th>emp_name</th><th>gender</th><th>salary</th><th>Dept</th></tr></thead><tbody><tr><td>300</td><td>Lara44</td><td>F</td><td>6000</td><td>SALES</td></tr><tr><td>160</td><td>Stephen</td><td>M</td><td>2000</td><td>IT</td></tr><tr><td>300</td><td>Lara</td><td>F</td><td>6000</td><td>SALES</td></tr><tr><td>100</td><td>Stephen</td><td>M</td><td>2000</td><td>IT</td></tr><tr><td>200</td><td>Philipp</td><td>M</td><td>8000</td><td>HR</td></tr><tr><td>300</td><td>Lara</td><td>F</td><td>6000</td><td>SALES</td></tr></tbody></table></div>"
      ]
     },
     "metadata": {
      "application/vnd.databricks.v1+output": {
       "addedWidgets": {},
       "aggData": [],
       "aggError": "",
       "aggOverflow": false,
       "aggSchema": [],
       "aggSeriesLimitReached": false,
       "aggType": "",
       "arguments": {},
       "columnCustomDisplayInfos": {},
       "data": [
        [
         300,
         "Lara44",
         "F",
         6000,
         "SALES"
        ],
        [
         160,
         "Stephen",
         "M",
         2000,
         "IT"
        ],
        [
         300,
         "Lara",
         "F",
         6000,
         "SALES"
        ],
        [
         100,
         "Stephen",
         "M",
         2000,
         "IT"
        ],
        [
         200,
         "Philipp",
         "M",
         8000,
         "HR"
        ],
        [
         300,
         "Lara",
         "F",
         6000,
         "SALES"
        ]
       ],
       "datasetInfos": [],
       "dbfsResultPath": null,
       "isJsonSchema": true,
       "metadata": {},
       "overflow": false,
       "plotOptions": {
        "customPlotOptions": {},
        "displayType": "table",
        "pivotAggregation": null,
        "pivotColumns": null,
        "xColumns": null,
        "yColumns": null
       },
       "removedWidgets": [],
       "schema": [
        {
         "metadata": "{}",
         "name": "emp_id",
         "type": "\"integer\""
        },
        {
         "metadata": "{}",
         "name": "emp_name",
         "type": "\"string\""
        },
        {
         "metadata": "{}",
         "name": "gender",
         "type": "\"string\""
        },
        {
         "metadata": "{}",
         "name": "salary",
         "type": "\"integer\""
        },
        {
         "metadata": "{}",
         "name": "Dept",
         "type": "\"string\""
        }
       ],
       "type": "table"
      }
     },
     "output_type": "display_data"
    }
   ],
   "source": [
    "%sql\n",
    "select * from employee_demo"
   ]
  },
  {
   "cell_type": "markdown",
   "metadata": {
    "application/vnd.databricks.v1+cell": {
     "cellMetadata": {},
     "inputWidgets": {},
     "nuid": "e7068134-a173-4371-9253-06f319e1987d",
     "showTitle": false,
     "tableResultSettingsMap": {},
     "title": ""
    }
   },
   "source": [
    "### Insert Using Temp View"
   ]
  },
  {
   "cell_type": "code",
   "execution_count": 0,
   "metadata": {
    "application/vnd.databricks.v1+cell": {
     "cellMetadata": {
      "byteLimit": 2048000,
      "rowLimit": 10000
     },
     "inputWidgets": {},
     "nuid": "88b090d4-2b57-4e74-8af3-345212135142",
     "showTitle": false,
     "tableResultSettingsMap": {},
     "title": ""
    }
   },
   "outputs": [],
   "source": [
    "df1.createOrReplaceTempView(\"delta_data\")"
   ]
  },
  {
   "cell_type": "code",
   "execution_count": 0,
   "metadata": {
    "application/vnd.databricks.v1+cell": {
     "cellMetadata": {
      "byteLimit": 2048000,
      "implicitDf": true,
      "rowLimit": 10000
     },
     "inputWidgets": {},
     "nuid": "0dbf8a71-ff24-47a4-a34a-3e2aac657247",
     "showTitle": false,
     "tableResultSettingsMap": {},
     "title": ""
    }
   },
   "outputs": [
    {
     "output_type": "display_data",
     "data": {
      "text/html": [
       "<style scoped>\n",
       "  .table-result-container {\n",
       "    max-height: 300px;\n",
       "    overflow: auto;\n",
       "  }\n",
       "  table, th, td {\n",
       "    border: 1px solid black;\n",
       "    border-collapse: collapse;\n",
       "  }\n",
       "  th, td {\n",
       "    padding: 5px;\n",
       "  }\n",
       "  th {\n",
       "    text-align: left;\n",
       "  }\n",
       "</style><div class='table-result-container'><table class='table-result'><thead style='background-color: white'><tr><th>emp_id</th><th>emp_name</th><th>gender</th><th>salary</th><th>dept</th></tr></thead><tbody><tr><td>300</td><td>Lara44</td><td>F</td><td>6000</td><td>SALES</td></tr></tbody></table></div>"
      ]
     },
     "metadata": {
      "application/vnd.databricks.v1+output": {
       "addedWidgets": {},
       "aggData": [],
       "aggError": "",
       "aggOverflow": false,
       "aggSchema": [],
       "aggSeriesLimitReached": false,
       "aggType": "",
       "arguments": {},
       "columnCustomDisplayInfos": {},
       "data": [
        [
         300,
         "Lara44",
         "F",
         6000,
         "SALES"
        ]
       ],
       "datasetInfos": [],
       "dbfsResultPath": null,
       "isJsonSchema": true,
       "metadata": {},
       "overflow": false,
       "plotOptions": {
        "customPlotOptions": {},
        "displayType": "table",
        "pivotAggregation": null,
        "pivotColumns": null,
        "xColumns": null,
        "yColumns": null
       },
       "removedWidgets": [],
       "schema": [
        {
         "metadata": "{}",
         "name": "emp_id",
         "type": "\"integer\""
        },
        {
         "metadata": "{}",
         "name": "emp_name",
         "type": "\"string\""
        },
        {
         "metadata": "{}",
         "name": "gender",
         "type": "\"string\""
        },
        {
         "metadata": "{}",
         "name": "salary",
         "type": "\"integer\""
        },
        {
         "metadata": "{}",
         "name": "dept",
         "type": "\"string\""
        }
       ],
       "type": "table"
      }
     },
     "output_type": "display_data"
    }
   ],
   "source": [
    "%sql\n",
    "select * from delta_data"
   ]
  },
  {
   "cell_type": "code",
   "execution_count": 0,
   "metadata": {
    "application/vnd.databricks.v1+cell": {
     "cellMetadata": {
      "byteLimit": 2048000,
      "implicitDf": true,
      "rowLimit": 10000
     },
     "inputWidgets": {},
     "nuid": "b64d8cff-1d60-4f75-87d1-75ed947f71c7",
     "showTitle": false,
     "tableResultSettingsMap": {},
     "title": ""
    }
   },
   "outputs": [
    {
     "output_type": "display_data",
     "data": {
      "text/html": [
       "<style scoped>\n",
       "  .table-result-container {\n",
       "    max-height: 300px;\n",
       "    overflow: auto;\n",
       "  }\n",
       "  table, th, td {\n",
       "    border: 1px solid black;\n",
       "    border-collapse: collapse;\n",
       "  }\n",
       "  th, td {\n",
       "    padding: 5px;\n",
       "  }\n",
       "  th {\n",
       "    text-align: left;\n",
       "  }\n",
       "</style><div class='table-result-container'><table class='table-result'><thead style='background-color: white'><tr><th>num_affected_rows</th><th>num_inserted_rows</th></tr></thead><tbody><tr><td>1</td><td>1</td></tr></tbody></table></div>"
      ]
     },
     "metadata": {
      "application/vnd.databricks.v1+output": {
       "addedWidgets": {},
       "aggData": [],
       "aggError": "",
       "aggOverflow": false,
       "aggSchema": [],
       "aggSeriesLimitReached": false,
       "aggType": "",
       "arguments": {},
       "columnCustomDisplayInfos": {},
       "data": [
        [
         1,
         1
        ]
       ],
       "datasetInfos": [],
       "dbfsResultPath": null,
       "isJsonSchema": true,
       "metadata": {},
       "overflow": false,
       "plotOptions": {
        "customPlotOptions": {},
        "displayType": "table",
        "pivotAggregation": null,
        "pivotColumns": null,
        "xColumns": null,
        "yColumns": null
       },
       "removedWidgets": [],
       "schema": [
        {
         "metadata": "{}",
         "name": "num_affected_rows",
         "type": "\"long\""
        },
        {
         "metadata": "{}",
         "name": "num_inserted_rows",
         "type": "\"long\""
        }
       ],
       "type": "table"
      }
     },
     "output_type": "display_data"
    }
   ],
   "source": [
    "%sql\n",
    "insert into employee_demo\n",
    "select * from delta_data"
   ]
  },
  {
   "cell_type": "code",
   "execution_count": 0,
   "metadata": {
    "application/vnd.databricks.v1+cell": {
     "cellMetadata": {
      "byteLimit": 2048000,
      "implicitDf": true,
      "rowLimit": 10000
     },
     "inputWidgets": {},
     "nuid": "1ccff190-75af-49fd-ae1d-0fb601dc8780",
     "showTitle": false,
     "tableResultSettingsMap": {},
     "title": ""
    }
   },
   "outputs": [
    {
     "output_type": "display_data",
     "data": {
      "text/html": [
       "<style scoped>\n",
       "  .table-result-container {\n",
       "    max-height: 300px;\n",
       "    overflow: auto;\n",
       "  }\n",
       "  table, th, td {\n",
       "    border: 1px solid black;\n",
       "    border-collapse: collapse;\n",
       "  }\n",
       "  th, td {\n",
       "    padding: 5px;\n",
       "  }\n",
       "  th {\n",
       "    text-align: left;\n",
       "  }\n",
       "</style><div class='table-result-container'><table class='table-result'><thead style='background-color: white'><tr><th>emp_id</th><th>emp_name</th><th>gender</th><th>salary</th><th>Dept</th></tr></thead><tbody><tr><td>300</td><td>Lara44</td><td>F</td><td>6000</td><td>SALES</td></tr><tr><td>300</td><td>Lara44</td><td>F</td><td>6000</td><td>SALES</td></tr><tr><td>160</td><td>Stephen</td><td>M</td><td>2000</td><td>IT</td></tr><tr><td>300</td><td>Lara</td><td>F</td><td>6000</td><td>SALES</td></tr><tr><td>100</td><td>Stephen</td><td>M</td><td>2000</td><td>IT</td></tr><tr><td>200</td><td>Philipp</td><td>M</td><td>8000</td><td>HR</td></tr><tr><td>300</td><td>Lara</td><td>F</td><td>6000</td><td>SALES</td></tr></tbody></table></div>"
      ]
     },
     "metadata": {
      "application/vnd.databricks.v1+output": {
       "addedWidgets": {},
       "aggData": [],
       "aggError": "",
       "aggOverflow": false,
       "aggSchema": [],
       "aggSeriesLimitReached": false,
       "aggType": "",
       "arguments": {},
       "columnCustomDisplayInfos": {},
       "data": [
        [
         300,
         "Lara44",
         "F",
         6000,
         "SALES"
        ],
        [
         300,
         "Lara44",
         "F",
         6000,
         "SALES"
        ],
        [
         160,
         "Stephen",
         "M",
         2000,
         "IT"
        ],
        [
         300,
         "Lara",
         "F",
         6000,
         "SALES"
        ],
        [
         100,
         "Stephen",
         "M",
         2000,
         "IT"
        ],
        [
         200,
         "Philipp",
         "M",
         8000,
         "HR"
        ],
        [
         300,
         "Lara",
         "F",
         6000,
         "SALES"
        ]
       ],
       "datasetInfos": [],
       "dbfsResultPath": null,
       "isJsonSchema": true,
       "metadata": {},
       "overflow": false,
       "plotOptions": {
        "customPlotOptions": {},
        "displayType": "table",
        "pivotAggregation": null,
        "pivotColumns": null,
        "xColumns": null,
        "yColumns": null
       },
       "removedWidgets": [],
       "schema": [
        {
         "metadata": "{}",
         "name": "emp_id",
         "type": "\"integer\""
        },
        {
         "metadata": "{}",
         "name": "emp_name",
         "type": "\"string\""
        },
        {
         "metadata": "{}",
         "name": "gender",
         "type": "\"string\""
        },
        {
         "metadata": "{}",
         "name": "salary",
         "type": "\"integer\""
        },
        {
         "metadata": "{}",
         "name": "Dept",
         "type": "\"string\""
        }
       ],
       "type": "table"
      }
     },
     "output_type": "display_data"
    }
   ],
   "source": [
    "%sql\n",
    "select * from employee_demo"
   ]
  },
  {
   "cell_type": "markdown",
   "metadata": {
    "application/vnd.databricks.v1+cell": {
     "cellMetadata": {},
     "inputWidgets": {},
     "nuid": "0a35b9c7-f98c-4d34-b083-36cb6cc48803",
     "showTitle": false,
     "tableResultSettingsMap": {},
     "title": ""
    }
   },
   "source": [
    "### spark sql Insert"
   ]
  },
  {
   "cell_type": "code",
   "execution_count": 0,
   "metadata": {
    "application/vnd.databricks.v1+cell": {
     "cellMetadata": {},
     "inputWidgets": {},
     "nuid": "3024030a-8b45-4880-93bb-1e14fdcc96a6",
     "showTitle": false,
     "tableResultSettingsMap": {},
     "title": ""
    }
   },
   "outputs": [],
   "source": [
    "spark.sql(\"insert into employee_demo select * from delta_data\")"
   ]
  },
  {
   "cell_type": "markdown",
   "metadata": {
    "application/vnd.databricks.v1+cell": {
     "cellMetadata": {},
     "inputWidgets": {},
     "nuid": "7a31c367-2e19-46f2-a9c0-ff259524973f",
     "showTitle": false,
     "tableResultSettingsMap": {},
     "title": ""
    }
   },
   "source": [
    "#  Different Approaches to Delete Data from Delta Table"
   ]
  },
  {
   "cell_type": "code",
   "execution_count": 0,
   "metadata": {
    "application/vnd.databricks.v1+cell": {
     "cellMetadata": {},
     "inputWidgets": {},
     "nuid": "c69f3f57-9006-44b4-8412-92206fcf0310",
     "showTitle": false,
     "tableResultSettingsMap": {},
     "title": ""
    }
   },
   "outputs": [],
   "source": [
    "# method 1 SQL\n",
    "delete from employee_demo where rmp_id = 100\n",
    "\n",
    "# using delta location\n",
    "delete from delta. '/FileStore/tables/delta/path_employee_demo' where emp_id = 100\n",
    "\n",
    "# spark sql\n",
    "spark.sql(\"delete from employee_demo where emp_id = 200\")\n",
    "\n",
    "# pyspark delta Table Instance\n",
    "deltaTable = DeltaTable.forName(spark, ' employee_demo')\n",
    "deltaTable.delter(\"emp_id = 100\")\n",
    "\n",
    "# pyspark delta table instance - spark sql predicate\n",
    "deltaTable.delete(col('emp_id') == 600)"
   ]
  },
  {
   "cell_type": "markdown",
   "metadata": {
    "application/vnd.databricks.v1+cell": {
     "cellMetadata": {},
     "inputWidgets": {},
     "nuid": "337046d7-613d-4123-9b5a-f52e8ea6e75b",
     "showTitle": false,
     "tableResultSettingsMap": {},
     "title": ""
    }
   },
   "source": [
    "# Update Delta Table"
   ]
  },
  {
   "cell_type": "code",
   "execution_count": 0,
   "metadata": {
    "application/vnd.databricks.v1+cell": {
     "cellMetadata": {},
     "inputWidgets": {},
     "nuid": "110b17e3-3180-4a0b-a188-e1164845bbac",
     "showTitle": false,
     "tableResultSettingsMap": {},
     "title": ""
    }
   },
   "outputs": [],
   "source": [
    "# Sql Standard using Table Name\n",
    "update employee_semo set salary = 10000 where emp_name = 'Mark';\n",
    "\n",
    "# sql standard using table path\n",
    "update delta. '/FilesStore/Tables/path' set salary = 12000 where emp_name = 'Mark' \n",
    "\n",
    "# pyspark standard using table instance\n",
    "deltaTable = DeltaTable.forPath(spark, '/FIlestore/tables/path')\n",
    "deltaTable.update(\n",
    "    condition = \"emp_name = 'Mark'\",\n",
    "    set = { \"salary\":\"15000\"}\n",
    ")\n",
    "\n",
    "# spark sql functions\n",
    "deltaTable.updatae(\n",
    "    condition = col('emp_name') == \"Mark\"\n",
    "    set = { 'dept':lit('IT')}\n",
    "    )"
   ]
  },
  {
   "cell_type": "markdown",
   "metadata": {
    "application/vnd.databricks.v1+cell": {
     "cellMetadata": {},
     "inputWidgets": {},
     "nuid": "0a3dbf26-7a09-42c0-ac61-9d460567a975",
     "showTitle": false,
     "tableResultSettingsMap": {},
     "title": ""
    }
   },
   "source": [
    "# SCD Type1"
   ]
  },
  {
   "cell_type": "code",
   "execution_count": 0,
   "metadata": {
    "application/vnd.databricks.v1+cell": {
     "cellMetadata": {
      "byteLimit": 2048000,
      "rowLimit": 10000
     },
     "inputWidgets": {},
     "nuid": "62067822-618c-43c0-9286-7d41db8e5021",
     "showTitle": false,
     "tableResultSettingsMap": {},
     "title": ""
    }
   },
   "outputs": [],
   "source": [
    "from pyspark.sql.types import *\n",
    "from pyspark.sql.functions import *\n",
    "\n",
    "schema = StructType([\n",
    "    StructField(\"emp_id\", IntegerType(), True),\n",
    "    StructField(\"name\", StringType(), True),\n",
    "    StructField(\"city\", StringType(), True),\n",
    "    StructField(\"country\", StringType(), True),\n",
    "    StructField(\"contact_no\", IntegerType(), True)\n",
    "])"
   ]
  },
  {
   "cell_type": "code",
   "execution_count": 0,
   "metadata": {
    "application/vnd.databricks.v1+cell": {
     "cellMetadata": {
      "byteLimit": 2048000,
      "rowLimit": 10000
     },
     "inputWidgets": {},
     "nuid": "ff9f432a-b78c-4736-a7b8-9a83081a3cd6",
     "showTitle": false,
     "tableResultSettingsMap": {},
     "title": ""
    }
   },
   "outputs": [
    {
     "output_type": "display_data",
     "data": {
      "text/html": [
       "<style scoped>\n",
       "  .table-result-container {\n",
       "    max-height: 300px;\n",
       "    overflow: auto;\n",
       "  }\n",
       "  table, th, td {\n",
       "    border: 1px solid black;\n",
       "    border-collapse: collapse;\n",
       "  }\n",
       "  th, td {\n",
       "    padding: 5px;\n",
       "  }\n",
       "  th {\n",
       "    text-align: left;\n",
       "  }\n",
       "</style><div class='table-result-container'><table class='table-result'><thead style='background-color: white'><tr><th>emp_id</th><th>name</th><th>city</th><th>country</th><th>contact_no</th></tr></thead><tbody><tr><td>1000</td><td>Michael</td><td>Columbus</td><td>USA</td><td>689546323</td></tr></tbody></table></div>"
      ]
     },
     "metadata": {
      "application/vnd.databricks.v1+output": {
       "addedWidgets": {},
       "aggData": [],
       "aggError": "",
       "aggOverflow": false,
       "aggSchema": [],
       "aggSeriesLimitReached": false,
       "aggType": "",
       "arguments": {},
       "columnCustomDisplayInfos": {},
       "data": [
        [
         1000,
         "Michael",
         "Columbus",
         "USA",
         689546323
        ]
       ],
       "datasetInfos": [],
       "dbfsResultPath": null,
       "isJsonSchema": true,
       "metadata": {},
       "overflow": false,
       "plotOptions": {
        "customPlotOptions": {},
        "displayType": "table",
        "pivotAggregation": null,
        "pivotColumns": null,
        "xColumns": null,
        "yColumns": null
       },
       "removedWidgets": [],
       "schema": [
        {
         "metadata": "{}",
         "name": "emp_id",
         "type": "\"integer\""
        },
        {
         "metadata": "{}",
         "name": "name",
         "type": "\"string\""
        },
        {
         "metadata": "{}",
         "name": "city",
         "type": "\"string\""
        },
        {
         "metadata": "{}",
         "name": "country",
         "type": "\"string\""
        },
        {
         "metadata": "{}",
         "name": "contact_no",
         "type": "\"integer\""
        }
       ],
       "type": "table"
      }
     },
     "output_type": "display_data"
    }
   ],
   "source": [
    "data = [(1000, \"Michael\", \"Columbus\", \"USA\", 689546323)]\n",
    "df = spark.createDataFrame(data = data, schema = schema)\n",
    "display(df)"
   ]
  },
  {
   "cell_type": "code",
   "execution_count": 0,
   "metadata": {
    "application/vnd.databricks.v1+cell": {
     "cellMetadata": {
      "byteLimit": 2048000,
      "implicitDf": true,
      "rowLimit": 10000
     },
     "inputWidgets": {},
     "nuid": "c63a0d9d-0f80-444b-84aa-9e996105a145",
     "showTitle": false,
     "tableResultSettingsMap": {},
     "title": ""
    }
   },
   "outputs": [
    {
     "output_type": "display_data",
     "data": {
      "text/html": [
       "<style scoped>\n",
       "  .table-result-container {\n",
       "    max-height: 300px;\n",
       "    overflow: auto;\n",
       "  }\n",
       "  table, th, td {\n",
       "    border: 1px solid black;\n",
       "    border-collapse: collapse;\n",
       "  }\n",
       "  th, td {\n",
       "    padding: 5px;\n",
       "  }\n",
       "  th {\n",
       "    text-align: left;\n",
       "  }\n",
       "</style><div class='table-result-container'><table class='table-result'><thead style='background-color: white'><tr></tr></thead><tbody></tbody></table></div>"
      ]
     },
     "metadata": {
      "application/vnd.databricks.v1+output": {
       "addedWidgets": {},
       "aggData": [],
       "aggError": "",
       "aggOverflow": false,
       "aggSchema": [],
       "aggSeriesLimitReached": false,
       "aggType": "",
       "arguments": {},
       "columnCustomDisplayInfos": {},
       "data": [],
       "datasetInfos": [],
       "dbfsResultPath": null,
       "isJsonSchema": true,
       "metadata": {},
       "overflow": false,
       "plotOptions": {
        "customPlotOptions": {},
        "displayType": "table",
        "pivotAggregation": null,
        "pivotColumns": null,
        "xColumns": null,
        "yColumns": null
       },
       "removedWidgets": [],
       "schema": [],
       "type": "table"
      }
     },
     "output_type": "display_data"
    }
   ],
   "source": [
    "%sql\n",
    "CREATE OR REPLACE TABLE dim_employee (\n",
    "  emp_id INT,\n",
    "  name STRING,\n",
    "  city STRING,\n",
    "  country STRING,\n",
    "  contact_no INT\n",
    ")\n",
    "USING DELTA\n",
    "LOCATION \"/FileStore/tables/delta_merge\""
   ]
  },
  {
   "cell_type": "code",
   "execution_count": 0,
   "metadata": {
    "application/vnd.databricks.v1+cell": {
     "cellMetadata": {
      "byteLimit": 2048000,
      "implicitDf": true,
      "rowLimit": 10000
     },
     "inputWidgets": {},
     "nuid": "80e84735-701a-4b4f-b532-291870e18a14",
     "showTitle": false,
     "tableResultSettingsMap": {},
     "title": ""
    }
   },
   "outputs": [
    {
     "output_type": "display_data",
     "data": {
      "text/html": [
       "<style scoped>\n",
       "  .table-result-container {\n",
       "    max-height: 300px;\n",
       "    overflow: auto;\n",
       "  }\n",
       "  table, th, td {\n",
       "    border: 1px solid black;\n",
       "    border-collapse: collapse;\n",
       "  }\n",
       "  th, td {\n",
       "    padding: 5px;\n",
       "  }\n",
       "  th {\n",
       "    text-align: left;\n",
       "  }\n",
       "</style><div class='table-result-container'><table class='table-result'><thead style='background-color: white'><tr><th>emp_id</th><th>name</th><th>city</th><th>country</th><th>contact_no</th></tr></thead><tbody></tbody></table></div>"
      ]
     },
     "metadata": {
      "application/vnd.databricks.v1+output": {
       "addedWidgets": {},
       "aggData": [],
       "aggError": "",
       "aggOverflow": false,
       "aggSchema": [],
       "aggSeriesLimitReached": false,
       "aggType": "",
       "arguments": {},
       "columnCustomDisplayInfos": {},
       "data": [],
       "datasetInfos": [],
       "dbfsResultPath": null,
       "isJsonSchema": true,
       "metadata": {},
       "overflow": false,
       "plotOptions": {
        "customPlotOptions": {},
        "displayType": "table",
        "pivotAggregation": null,
        "pivotColumns": null,
        "xColumns": null,
        "yColumns": null
       },
       "removedWidgets": [],
       "schema": [
        {
         "metadata": "{}",
         "name": "emp_id",
         "type": "\"integer\""
        },
        {
         "metadata": "{}",
         "name": "name",
         "type": "\"string\""
        },
        {
         "metadata": "{}",
         "name": "city",
         "type": "\"string\""
        },
        {
         "metadata": "{}",
         "name": "country",
         "type": "\"string\""
        },
        {
         "metadata": "{}",
         "name": "contact_no",
         "type": "\"integer\""
        }
       ],
       "type": "table"
      }
     },
     "output_type": "display_data"
    }
   ],
   "source": [
    "%sql\n",
    "select * from dim_employee "
   ]
  },
  {
   "cell_type": "code",
   "execution_count": 0,
   "metadata": {
    "application/vnd.databricks.v1+cell": {
     "cellMetadata": {
      "byteLimit": 2048000,
      "rowLimit": 10000
     },
     "inputWidgets": {},
     "nuid": "99d47725-628e-42ce-acbf-e2cf1ae6f10c",
     "showTitle": false,
     "tableResultSettingsMap": {},
     "title": ""
    }
   },
   "outputs": [],
   "source": [
    "df.createOrReplaceTempView(\"source_view\")"
   ]
  },
  {
   "cell_type": "code",
   "execution_count": 0,
   "metadata": {
    "application/vnd.databricks.v1+cell": {
     "cellMetadata": {
      "byteLimit": 2048000,
      "implicitDf": true,
      "rowLimit": 10000
     },
     "inputWidgets": {},
     "nuid": "7861a1fc-2b98-481a-8a58-ea9e872c98b4",
     "showTitle": false,
     "tableResultSettingsMap": {},
     "title": ""
    }
   },
   "outputs": [
    {
     "output_type": "display_data",
     "data": {
      "text/html": [
       "<style scoped>\n",
       "  .table-result-container {\n",
       "    max-height: 300px;\n",
       "    overflow: auto;\n",
       "  }\n",
       "  table, th, td {\n",
       "    border: 1px solid black;\n",
       "    border-collapse: collapse;\n",
       "  }\n",
       "  th, td {\n",
       "    padding: 5px;\n",
       "  }\n",
       "  th {\n",
       "    text-align: left;\n",
       "  }\n",
       "</style><div class='table-result-container'><table class='table-result'><thead style='background-color: white'><tr><th>emp_id</th><th>name</th><th>city</th><th>country</th><th>contact_no</th></tr></thead><tbody><tr><td>1000</td><td>Michael</td><td>Columbus</td><td>USA</td><td>689546323</td></tr></tbody></table></div>"
      ]
     },
     "metadata": {
      "application/vnd.databricks.v1+output": {
       "addedWidgets": {},
       "aggData": [],
       "aggError": "",
       "aggOverflow": false,
       "aggSchema": [],
       "aggSeriesLimitReached": false,
       "aggType": "",
       "arguments": {},
       "columnCustomDisplayInfos": {},
       "data": [
        [
         1000,
         "Michael",
         "Columbus",
         "USA",
         689546323
        ]
       ],
       "datasetInfos": [],
       "dbfsResultPath": null,
       "isJsonSchema": true,
       "metadata": {},
       "overflow": false,
       "plotOptions": {
        "customPlotOptions": {},
        "displayType": "table",
        "pivotAggregation": null,
        "pivotColumns": null,
        "xColumns": null,
        "yColumns": null
       },
       "removedWidgets": [],
       "schema": [
        {
         "metadata": "{}",
         "name": "emp_id",
         "type": "\"integer\""
        },
        {
         "metadata": "{}",
         "name": "name",
         "type": "\"string\""
        },
        {
         "metadata": "{}",
         "name": "city",
         "type": "\"string\""
        },
        {
         "metadata": "{}",
         "name": "country",
         "type": "\"string\""
        },
        {
         "metadata": "{}",
         "name": "contact_no",
         "type": "\"integer\""
        }
       ],
       "type": "table"
      }
     },
     "output_type": "display_data"
    }
   ],
   "source": [
    "%sql\n",
    "select * from source_view"
   ]
  },
  {
   "cell_type": "code",
   "execution_count": 0,
   "metadata": {
    "application/vnd.databricks.v1+cell": {
     "cellMetadata": {
      "byteLimit": 2048000,
      "implicitDf": true,
      "rowLimit": 10000
     },
     "inputWidgets": {},
     "nuid": "b9c5c1e7-0e39-43ac-a1cc-0243c2c6ba90",
     "showTitle": false,
     "tableResultSettingsMap": {},
     "title": ""
    }
   },
   "outputs": [
    {
     "output_type": "display_data",
     "data": {
      "text/html": [
       "<style scoped>\n",
       "  .table-result-container {\n",
       "    max-height: 300px;\n",
       "    overflow: auto;\n",
       "  }\n",
       "  table, th, td {\n",
       "    border: 1px solid black;\n",
       "    border-collapse: collapse;\n",
       "  }\n",
       "  th, td {\n",
       "    padding: 5px;\n",
       "  }\n",
       "  th {\n",
       "    text-align: left;\n",
       "  }\n",
       "</style><div class='table-result-container'><table class='table-result'><thead style='background-color: white'><tr><th>emp_id</th><th>name</th><th>city</th><th>country</th><th>contact_no</th></tr></thead><tbody></tbody></table></div>"
      ]
     },
     "metadata": {
      "application/vnd.databricks.v1+output": {
       "addedWidgets": {},
       "aggData": [],
       "aggError": "",
       "aggOverflow": false,
       "aggSchema": [],
       "aggSeriesLimitReached": false,
       "aggType": "",
       "arguments": {},
       "columnCustomDisplayInfos": {},
       "data": [],
       "datasetInfos": [],
       "dbfsResultPath": null,
       "isJsonSchema": true,
       "metadata": {},
       "overflow": false,
       "plotOptions": {
        "customPlotOptions": {},
        "displayType": "table",
        "pivotAggregation": null,
        "pivotColumns": null,
        "xColumns": null,
        "yColumns": null
       },
       "removedWidgets": [],
       "schema": [
        {
         "metadata": "{}",
         "name": "emp_id",
         "type": "\"integer\""
        },
        {
         "metadata": "{}",
         "name": "name",
         "type": "\"string\""
        },
        {
         "metadata": "{}",
         "name": "city",
         "type": "\"string\""
        },
        {
         "metadata": "{}",
         "name": "country",
         "type": "\"string\""
        },
        {
         "metadata": "{}",
         "name": "contact_no",
         "type": "\"integer\""
        }
       ],
       "type": "table"
      }
     },
     "output_type": "display_data"
    }
   ],
   "source": [
    "%sql\n",
    "select * from dim_employee"
   ]
  },
  {
   "cell_type": "code",
   "execution_count": 0,
   "metadata": {
    "application/vnd.databricks.v1+cell": {
     "cellMetadata": {
      "byteLimit": 2048000,
      "implicitDf": true,
      "rowLimit": 10000
     },
     "inputWidgets": {},
     "nuid": "14dfad6a-ea0f-42d0-a8c6-e519f803af10",
     "showTitle": false,
     "tableResultSettingsMap": {},
     "title": ""
    }
   },
   "outputs": [
    {
     "output_type": "display_data",
     "data": {
      "text/html": [
       "<style scoped>\n",
       "  .table-result-container {\n",
       "    max-height: 300px;\n",
       "    overflow: auto;\n",
       "  }\n",
       "  table, th, td {\n",
       "    border: 1px solid black;\n",
       "    border-collapse: collapse;\n",
       "  }\n",
       "  th, td {\n",
       "    padding: 5px;\n",
       "  }\n",
       "  th {\n",
       "    text-align: left;\n",
       "  }\n",
       "</style><div class='table-result-container'><table class='table-result'><thead style='background-color: white'><tr><th>num_affected_rows</th><th>num_updated_rows</th><th>num_deleted_rows</th><th>num_inserted_rows</th></tr></thead><tbody><tr><td>1</td><td>0</td><td>0</td><td>1</td></tr></tbody></table></div>"
      ]
     },
     "metadata": {
      "application/vnd.databricks.v1+output": {
       "addedWidgets": {},
       "aggData": [],
       "aggError": "",
       "aggOverflow": false,
       "aggSchema": [],
       "aggSeriesLimitReached": false,
       "aggType": "",
       "arguments": {},
       "columnCustomDisplayInfos": {},
       "data": [
        [
         1,
         0,
         0,
         1
        ]
       ],
       "datasetInfos": [],
       "dbfsResultPath": null,
       "isJsonSchema": true,
       "metadata": {},
       "overflow": false,
       "plotOptions": {
        "customPlotOptions": {},
        "displayType": "table",
        "pivotAggregation": null,
        "pivotColumns": null,
        "xColumns": null,
        "yColumns": null
       },
       "removedWidgets": [],
       "schema": [
        {
         "metadata": "{}",
         "name": "num_affected_rows",
         "type": "\"long\""
        },
        {
         "metadata": "{}",
         "name": "num_updated_rows",
         "type": "\"long\""
        },
        {
         "metadata": "{}",
         "name": "num_deleted_rows",
         "type": "\"long\""
        },
        {
         "metadata": "{}",
         "name": "num_inserted_rows",
         "type": "\"long\""
        }
       ],
       "type": "table"
      }
     },
     "output_type": "display_data"
    }
   ],
   "source": [
    "%sql\n",
    "MERGE INTO dim_employee AS target\n",
    "USING source_view AS source\n",
    "ON target.emp_id = source.emp_id\n",
    "\n",
    "WHEN MATCHED THEN\n",
    "UPDATE SET\n",
    "  target.name = source.name,\n",
    "  target.city = source.city,\n",
    "  target.country = source.country,\n",
    "  target.contact_no = source.contact_no\n",
    "\n",
    "WHEN NOT MATCHED THEN\n",
    "INSERT (emp_id, name, city, country, contact_no)\n",
    "VALUES (emp_id, name, city, country, contact_no)"
   ]
  },
  {
   "cell_type": "code",
   "execution_count": 0,
   "metadata": {
    "application/vnd.databricks.v1+cell": {
     "cellMetadata": {
      "byteLimit": 2048000,
      "implicitDf": true,
      "rowLimit": 10000
     },
     "inputWidgets": {},
     "nuid": "e541d014-148d-4516-9a32-c14bf6300913",
     "showTitle": false,
     "tableResultSettingsMap": {},
     "title": ""
    }
   },
   "outputs": [
    {
     "output_type": "display_data",
     "data": {
      "text/html": [
       "<style scoped>\n",
       "  .table-result-container {\n",
       "    max-height: 300px;\n",
       "    overflow: auto;\n",
       "  }\n",
       "  table, th, td {\n",
       "    border: 1px solid black;\n",
       "    border-collapse: collapse;\n",
       "  }\n",
       "  th, td {\n",
       "    padding: 5px;\n",
       "  }\n",
       "  th {\n",
       "    text-align: left;\n",
       "  }\n",
       "</style><div class='table-result-container'><table class='table-result'><thead style='background-color: white'><tr><th>emp_id</th><th>name</th><th>city</th><th>country</th><th>contact_no</th></tr></thead><tbody><tr><td>1000</td><td>Michael</td><td>Columbus</td><td>USA</td><td>689546323</td></tr></tbody></table></div>"
      ]
     },
     "metadata": {
      "application/vnd.databricks.v1+output": {
       "addedWidgets": {},
       "aggData": [],
       "aggError": "",
       "aggOverflow": false,
       "aggSchema": [],
       "aggSeriesLimitReached": false,
       "aggType": "",
       "arguments": {},
       "columnCustomDisplayInfos": {},
       "data": [
        [
         1000,
         "Michael",
         "Columbus",
         "USA",
         689546323
        ]
       ],
       "datasetInfos": [],
       "dbfsResultPath": null,
       "isJsonSchema": true,
       "metadata": {},
       "overflow": false,
       "plotOptions": {
        "customPlotOptions": {},
        "displayType": "table",
        "pivotAggregation": null,
        "pivotColumns": null,
        "xColumns": null,
        "yColumns": null
       },
       "removedWidgets": [],
       "schema": [
        {
         "metadata": "{}",
         "name": "emp_id",
         "type": "\"integer\""
        },
        {
         "metadata": "{}",
         "name": "name",
         "type": "\"string\""
        },
        {
         "metadata": "{}",
         "name": "city",
         "type": "\"string\""
        },
        {
         "metadata": "{}",
         "name": "country",
         "type": "\"string\""
        },
        {
         "metadata": "{}",
         "name": "contact_no",
         "type": "\"integer\""
        }
       ],
       "type": "table"
      }
     },
     "output_type": "display_data"
    }
   ],
   "source": [
    "%sql\n",
    "select * from dim_employee"
   ]
  },
  {
   "cell_type": "code",
   "execution_count": 0,
   "metadata": {
    "application/vnd.databricks.v1+cell": {
     "cellMetadata": {
      "byteLimit": 2048000,
      "rowLimit": 10000
     },
     "inputWidgets": {},
     "nuid": "08b03a86-2b72-4753-ad3f-02f71164583c",
     "showTitle": false,
     "tableResultSettingsMap": {},
     "title": ""
    }
   },
   "outputs": [
    {
     "output_type": "display_data",
     "data": {
      "text/html": [
       "<style scoped>\n",
       "  .table-result-container {\n",
       "    max-height: 300px;\n",
       "    overflow: auto;\n",
       "  }\n",
       "  table, th, td {\n",
       "    border: 1px solid black;\n",
       "    border-collapse: collapse;\n",
       "  }\n",
       "  th, td {\n",
       "    padding: 5px;\n",
       "  }\n",
       "  th {\n",
       "    text-align: left;\n",
       "  }\n",
       "</style><div class='table-result-container'><table class='table-result'><thead style='background-color: white'><tr><th>emp_id</th><th>name</th><th>city</th><th>country</th><th>contact_no</th></tr></thead><tbody><tr><td>1000</td><td>Michael</td><td>Chicago</td><td>USA</td><td>689546323</td></tr><tr><td>2006</td><td>Nancy</td><td>New York</td><td>USA</td><td>76345902</td></tr></tbody></table></div>"
      ]
     },
     "metadata": {
      "application/vnd.databricks.v1+output": {
       "addedWidgets": {},
       "aggData": [],
       "aggError": "",
       "aggOverflow": false,
       "aggSchema": [],
       "aggSeriesLimitReached": false,
       "aggType": "",
       "arguments": {},
       "columnCustomDisplayInfos": {},
       "data": [
        [
         1000,
         "Michael",
         "Chicago",
         "USA",
         689546323
        ],
        [
         2006,
         "Nancy",
         "New York",
         "USA",
         76345902
        ]
       ],
       "datasetInfos": [],
       "dbfsResultPath": null,
       "isJsonSchema": true,
       "metadata": {},
       "overflow": false,
       "plotOptions": {
        "customPlotOptions": {},
        "displayType": "table",
        "pivotAggregation": null,
        "pivotColumns": null,
        "xColumns": null,
        "yColumns": null
       },
       "removedWidgets": [],
       "schema": [
        {
         "metadata": "{}",
         "name": "emp_id",
         "type": "\"integer\""
        },
        {
         "metadata": "{}",
         "name": "name",
         "type": "\"string\""
        },
        {
         "metadata": "{}",
         "name": "city",
         "type": "\"string\""
        },
        {
         "metadata": "{}",
         "name": "country",
         "type": "\"string\""
        },
        {
         "metadata": "{}",
         "name": "contact_no",
         "type": "\"integer\""
        }
       ],
       "type": "table"
      }
     },
     "output_type": "display_data"
    }
   ],
   "source": [
    "data = [(1000, \"Michael\", \"Chicago\", \"USA\", 689546323), (2006, \"Nancy\", \"New York\", \"USA\", 76345902)]\n",
    "\n",
    "df1 = spark.createDataFrame(data = data, schema = schema)\n",
    "\n",
    "display(df1)"
   ]
  },
  {
   "cell_type": "code",
   "execution_count": 0,
   "metadata": {
    "application/vnd.databricks.v1+cell": {
     "cellMetadata": {
      "byteLimit": 2048000,
      "rowLimit": 10000
     },
     "inputWidgets": {},
     "nuid": "d88165e5-123b-438f-afad-e9ffc7283aaa",
     "showTitle": false,
     "tableResultSettingsMap": {},
     "title": ""
    }
   },
   "outputs": [],
   "source": [
    "df1.createOrReplaceTempView(\"source_view1\")"
   ]
  },
  {
   "cell_type": "code",
   "execution_count": 0,
   "metadata": {
    "application/vnd.databricks.v1+cell": {
     "cellMetadata": {
      "byteLimit": 2048000,
      "implicitDf": true,
      "rowLimit": 10000
     },
     "inputWidgets": {},
     "nuid": "ee5e9592-bfa6-46c8-833b-526c9dc85069",
     "showTitle": false,
     "tableResultSettingsMap": {},
     "title": ""
    }
   },
   "outputs": [
    {
     "output_type": "display_data",
     "data": {
      "text/html": [
       "<style scoped>\n",
       "  .table-result-container {\n",
       "    max-height: 300px;\n",
       "    overflow: auto;\n",
       "  }\n",
       "  table, th, td {\n",
       "    border: 1px solid black;\n",
       "    border-collapse: collapse;\n",
       "  }\n",
       "  th, td {\n",
       "    padding: 5px;\n",
       "  }\n",
       "  th {\n",
       "    text-align: left;\n",
       "  }\n",
       "</style><div class='table-result-container'><table class='table-result'><thead style='background-color: white'><tr><th>emp_id</th><th>name</th><th>city</th><th>country</th><th>contact_no</th></tr></thead><tbody><tr><td>1000</td><td>Michael</td><td>Chicago</td><td>USA</td><td>689546323</td></tr><tr><td>2006</td><td>Nancy</td><td>New York</td><td>USA</td><td>76345902</td></tr></tbody></table></div>"
      ]
     },
     "metadata": {
      "application/vnd.databricks.v1+output": {
       "addedWidgets": {},
       "aggData": [],
       "aggError": "",
       "aggOverflow": false,
       "aggSchema": [],
       "aggSeriesLimitReached": false,
       "aggType": "",
       "arguments": {},
       "columnCustomDisplayInfos": {},
       "data": [
        [
         1000,
         "Michael",
         "Chicago",
         "USA",
         689546323
        ],
        [
         2006,
         "Nancy",
         "New York",
         "USA",
         76345902
        ]
       ],
       "datasetInfos": [],
       "dbfsResultPath": null,
       "isJsonSchema": true,
       "metadata": {},
       "overflow": false,
       "plotOptions": {
        "customPlotOptions": {},
        "displayType": "table",
        "pivotAggregation": null,
        "pivotColumns": null,
        "xColumns": null,
        "yColumns": null
       },
       "removedWidgets": [],
       "schema": [
        {
         "metadata": "{}",
         "name": "emp_id",
         "type": "\"integer\""
        },
        {
         "metadata": "{}",
         "name": "name",
         "type": "\"string\""
        },
        {
         "metadata": "{}",
         "name": "city",
         "type": "\"string\""
        },
        {
         "metadata": "{}",
         "name": "country",
         "type": "\"string\""
        },
        {
         "metadata": "{}",
         "name": "contact_no",
         "type": "\"integer\""
        }
       ],
       "type": "table"
      }
     },
     "output_type": "display_data"
    }
   ],
   "source": [
    "%sql\n",
    "select * from source_view1"
   ]
  },
  {
   "cell_type": "code",
   "execution_count": 0,
   "metadata": {
    "application/vnd.databricks.v1+cell": {
     "cellMetadata": {
      "byteLimit": 2048000,
      "implicitDf": true,
      "rowLimit": 10000
     },
     "inputWidgets": {},
     "nuid": "22239e3c-e932-4e88-ae26-73b38aa34bf5",
     "showTitle": false,
     "tableResultSettingsMap": {},
     "title": ""
    }
   },
   "outputs": [
    {
     "output_type": "display_data",
     "data": {
      "text/html": [
       "<style scoped>\n",
       "  .table-result-container {\n",
       "    max-height: 300px;\n",
       "    overflow: auto;\n",
       "  }\n",
       "  table, th, td {\n",
       "    border: 1px solid black;\n",
       "    border-collapse: collapse;\n",
       "  }\n",
       "  th, td {\n",
       "    padding: 5px;\n",
       "  }\n",
       "  th {\n",
       "    text-align: left;\n",
       "  }\n",
       "</style><div class='table-result-container'><table class='table-result'><thead style='background-color: white'><tr><th>emp_id</th><th>name</th><th>city</th><th>country</th><th>contact_no</th></tr></thead><tbody><tr><td>1000</td><td>Michael</td><td>Columbus</td><td>USA</td><td>689546323</td></tr></tbody></table></div>"
      ]
     },
     "metadata": {
      "application/vnd.databricks.v1+output": {
       "addedWidgets": {},
       "aggData": [],
       "aggError": "",
       "aggOverflow": false,
       "aggSchema": [],
       "aggSeriesLimitReached": false,
       "aggType": "",
       "arguments": {},
       "columnCustomDisplayInfos": {},
       "data": [
        [
         1000,
         "Michael",
         "Columbus",
         "USA",
         689546323
        ]
       ],
       "datasetInfos": [],
       "dbfsResultPath": null,
       "isJsonSchema": true,
       "metadata": {},
       "overflow": false,
       "plotOptions": {
        "customPlotOptions": {},
        "displayType": "table",
        "pivotAggregation": null,
        "pivotColumns": null,
        "xColumns": null,
        "yColumns": null
       },
       "removedWidgets": [],
       "schema": [
        {
         "metadata": "{}",
         "name": "emp_id",
         "type": "\"integer\""
        },
        {
         "metadata": "{}",
         "name": "name",
         "type": "\"string\""
        },
        {
         "metadata": "{}",
         "name": "city",
         "type": "\"string\""
        },
        {
         "metadata": "{}",
         "name": "country",
         "type": "\"string\""
        },
        {
         "metadata": "{}",
         "name": "contact_no",
         "type": "\"integer\""
        }
       ],
       "type": "table"
      }
     },
     "output_type": "display_data"
    }
   ],
   "source": [
    "%sql\n",
    "select * from dim_employee"
   ]
  },
  {
   "cell_type": "code",
   "execution_count": 0,
   "metadata": {
    "application/vnd.databricks.v1+cell": {
     "cellMetadata": {
      "byteLimit": 2048000,
      "implicitDf": true,
      "rowLimit": 10000
     },
     "inputWidgets": {},
     "nuid": "f8b14b4f-2492-4c1d-bc3f-61de7607d765",
     "showTitle": false,
     "tableResultSettingsMap": {},
     "title": ""
    }
   },
   "outputs": [
    {
     "output_type": "display_data",
     "data": {
      "text/html": [
       "<style scoped>\n",
       "  .table-result-container {\n",
       "    max-height: 300px;\n",
       "    overflow: auto;\n",
       "  }\n",
       "  table, th, td {\n",
       "    border: 1px solid black;\n",
       "    border-collapse: collapse;\n",
       "  }\n",
       "  th, td {\n",
       "    padding: 5px;\n",
       "  }\n",
       "  th {\n",
       "    text-align: left;\n",
       "  }\n",
       "</style><div class='table-result-container'><table class='table-result'><thead style='background-color: white'><tr><th>num_affected_rows</th><th>num_updated_rows</th><th>num_deleted_rows</th><th>num_inserted_rows</th></tr></thead><tbody><tr><td>2</td><td>1</td><td>0</td><td>1</td></tr></tbody></table></div>"
      ]
     },
     "metadata": {
      "application/vnd.databricks.v1+output": {
       "addedWidgets": {},
       "aggData": [],
       "aggError": "",
       "aggOverflow": false,
       "aggSchema": [],
       "aggSeriesLimitReached": false,
       "aggType": "",
       "arguments": {},
       "columnCustomDisplayInfos": {},
       "data": [
        [
         2,
         1,
         0,
         1
        ]
       ],
       "datasetInfos": [],
       "dbfsResultPath": null,
       "isJsonSchema": true,
       "metadata": {},
       "overflow": false,
       "plotOptions": {
        "customPlotOptions": {},
        "displayType": "table",
        "pivotAggregation": null,
        "pivotColumns": null,
        "xColumns": null,
        "yColumns": null
       },
       "removedWidgets": [],
       "schema": [
        {
         "metadata": "{}",
         "name": "num_affected_rows",
         "type": "\"long\""
        },
        {
         "metadata": "{}",
         "name": "num_updated_rows",
         "type": "\"long\""
        },
        {
         "metadata": "{}",
         "name": "num_deleted_rows",
         "type": "\"long\""
        },
        {
         "metadata": "{}",
         "name": "num_inserted_rows",
         "type": "\"long\""
        }
       ],
       "type": "table"
      }
     },
     "output_type": "display_data"
    }
   ],
   "source": [
    "%sql\n",
    "MERGE INTO dim_employee AS target\n",
    "USING source_view1 AS source\n",
    "ON target.emp_id = source.emp_id\n",
    "\n",
    "WHEN MATCHED THEN\n",
    "UPDATE SET\n",
    "  target.name = source.name,\n",
    "  target.city = source.city,\n",
    "  target.country = source.country,\n",
    "  target.contact_no = source.contact_no\n",
    "\n",
    "WHEN NOT MATCHED THEN\n",
    "INSERT (emp_id, name, city, country, contact_no)\n",
    "VALUES (emp_id, name, city, country, contact_no)"
   ]
  },
  {
   "cell_type": "code",
   "execution_count": 0,
   "metadata": {
    "application/vnd.databricks.v1+cell": {
     "cellMetadata": {
      "byteLimit": 2048000,
      "implicitDf": true,
      "rowLimit": 10000
     },
     "inputWidgets": {},
     "nuid": "70bbae3f-9630-40be-9686-33bb88edbb28",
     "showTitle": false,
     "tableResultSettingsMap": {},
     "title": ""
    }
   },
   "outputs": [
    {
     "output_type": "display_data",
     "data": {
      "text/html": [
       "<style scoped>\n",
       "  .table-result-container {\n",
       "    max-height: 300px;\n",
       "    overflow: auto;\n",
       "  }\n",
       "  table, th, td {\n",
       "    border: 1px solid black;\n",
       "    border-collapse: collapse;\n",
       "  }\n",
       "  th, td {\n",
       "    padding: 5px;\n",
       "  }\n",
       "  th {\n",
       "    text-align: left;\n",
       "  }\n",
       "</style><div class='table-result-container'><table class='table-result'><thead style='background-color: white'><tr><th>emp_id</th><th>name</th><th>city</th><th>country</th><th>contact_no</th></tr></thead><tbody><tr><td>1000</td><td>Michael</td><td>Chicago</td><td>USA</td><td>689546323</td></tr><tr><td>2006</td><td>Nancy</td><td>New York</td><td>USA</td><td>76345902</td></tr></tbody></table></div>"
      ]
     },
     "metadata": {
      "application/vnd.databricks.v1+output": {
       "addedWidgets": {},
       "aggData": [],
       "aggError": "",
       "aggOverflow": false,
       "aggSchema": [],
       "aggSeriesLimitReached": false,
       "aggType": "",
       "arguments": {},
       "columnCustomDisplayInfos": {},
       "data": [
        [
         1000,
         "Michael",
         "Chicago",
         "USA",
         689546323
        ],
        [
         2006,
         "Nancy",
         "New York",
         "USA",
         76345902
        ]
       ],
       "datasetInfos": [],
       "dbfsResultPath": null,
       "isJsonSchema": true,
       "metadata": {},
       "overflow": false,
       "plotOptions": {
        "customPlotOptions": {},
        "displayType": "table",
        "pivotAggregation": null,
        "pivotColumns": null,
        "xColumns": null,
        "yColumns": null
       },
       "removedWidgets": [],
       "schema": [
        {
         "metadata": "{}",
         "name": "emp_id",
         "type": "\"integer\""
        },
        {
         "metadata": "{}",
         "name": "name",
         "type": "\"string\""
        },
        {
         "metadata": "{}",
         "name": "city",
         "type": "\"string\""
        },
        {
         "metadata": "{}",
         "name": "country",
         "type": "\"string\""
        },
        {
         "metadata": "{}",
         "name": "contact_no",
         "type": "\"integer\""
        }
       ],
       "type": "table"
      }
     },
     "output_type": "display_data"
    }
   ],
   "source": [
    "%sql\n",
    "select * from dim_employee"
   ]
  },
  {
   "cell_type": "markdown",
   "metadata": {
    "application/vnd.databricks.v1+cell": {
     "cellMetadata": {},
     "inputWidgets": {},
     "nuid": "419a6b36-b73c-465c-8dbb-ba05e804d351",
     "showTitle": false,
     "tableResultSettingsMap": {},
     "title": ""
    }
   },
   "source": [
    "## method 2 using pyspark"
   ]
  },
  {
   "cell_type": "code",
   "execution_count": 0,
   "metadata": {
    "application/vnd.databricks.v1+cell": {
     "cellMetadata": {
      "byteLimit": 2048000,
      "rowLimit": 10000
     },
     "inputWidgets": {},
     "nuid": "4ee1c2f3-857c-4083-98b8-d9921c2fafd3",
     "showTitle": false,
     "tableResultSettingsMap": {},
     "title": ""
    }
   },
   "outputs": [
    {
     "output_type": "display_data",
     "data": {
      "text/html": [
       "<style scoped>\n",
       "  .table-result-container {\n",
       "    max-height: 300px;\n",
       "    overflow: auto;\n",
       "  }\n",
       "  table, th, td {\n",
       "    border: 1px solid black;\n",
       "    border-collapse: collapse;\n",
       "  }\n",
       "  th, td {\n",
       "    padding: 5px;\n",
       "  }\n",
       "  th {\n",
       "    text-align: left;\n",
       "  }\n",
       "</style><div class='table-result-container'><table class='table-result'><thead style='background-color: white'><tr><th>emp_id</th><th>name</th><th>city</th><th>country</th><th>contact_no</th></tr></thead><tbody><tr><td>2000</td><td>Sarah</td><td>New York</td><td>USA</td><td>76345902</td></tr><tr><td>3000</td><td>David</td><td>Atlanta</td><td>USA</td><td>563456787</td></tr></tbody></table></div>"
      ]
     },
     "metadata": {
      "application/vnd.databricks.v1+output": {
       "addedWidgets": {},
       "aggData": [],
       "aggError": "",
       "aggOverflow": false,
       "aggSchema": [],
       "aggSeriesLimitReached": false,
       "aggType": "",
       "arguments": {},
       "columnCustomDisplayInfos": {},
       "data": [
        [
         2000,
         "Sarah",
         "New York",
         "USA",
         76345902
        ],
        [
         3000,
         "David",
         "Atlanta",
         "USA",
         563456787
        ]
       ],
       "datasetInfos": [],
       "dbfsResultPath": null,
       "isJsonSchema": true,
       "metadata": {},
       "overflow": false,
       "plotOptions": {
        "customPlotOptions": {},
        "displayType": "table",
        "pivotAggregation": null,
        "pivotColumns": null,
        "xColumns": null,
        "yColumns": null
       },
       "removedWidgets": [],
       "schema": [
        {
         "metadata": "{}",
         "name": "emp_id",
         "type": "\"integer\""
        },
        {
         "metadata": "{}",
         "name": "name",
         "type": "\"string\""
        },
        {
         "metadata": "{}",
         "name": "city",
         "type": "\"string\""
        },
        {
         "metadata": "{}",
         "name": "country",
         "type": "\"string\""
        },
        {
         "metadata": "{}",
         "name": "contact_no",
         "type": "\"integer\""
        }
       ],
       "type": "table"
      }
     },
     "output_type": "display_data"
    }
   ],
   "source": [
    "data = [(2000, \"Sarah\", \"New York\", \"USA\", 76345902), (3000, \"David\", \"Atlanta\", \"USA\", 563456787)]\n",
    "\n",
    "df = spark.createDataFrame(data = data, schema = schema)\n",
    "\n",
    "display(df)"
   ]
  },
  {
   "cell_type": "code",
   "execution_count": 0,
   "metadata": {
    "application/vnd.databricks.v1+cell": {
     "cellMetadata": {
      "byteLimit": 2048000,
      "rowLimit": 10000
     },
     "inputWidgets": {},
     "nuid": "463022bc-fd02-4f0b-be58-bfeb97bd27d0",
     "showTitle": false,
     "tableResultSettingsMap": {},
     "title": ""
    }
   },
   "outputs": [],
   "source": [
    "from delta.tables import *\n",
    "\n",
    "delta_df = DeltaTable.forPath(spark, \"/FileStore/tables/delta_merge\")"
   ]
  },
  {
   "cell_type": "code",
   "execution_count": 0,
   "metadata": {
    "application/vnd.databricks.v1+cell": {
     "cellMetadata": {
      "byteLimit": 2048000,
      "rowLimit": 10000
     },
     "inputWidgets": {},
     "nuid": "c6401a6a-ba41-4138-af40-36a9e351d43f",
     "showTitle": false,
     "tableResultSettingsMap": {},
     "title": ""
    }
   },
   "outputs": [],
   "source": [
    "delta_df.alias(\"target\").merge(\n",
    "    source = df.alias(\"source\"),\n",
    "    condition = \"target.emp_id = source.emp_id\"  # Corrected 'condition'\n",
    ").whenMatchedUpdate(set = {\n",
    "    \"name\": \"source.name\",\n",
    "    \"city\": \"source.city\",\n",
    "    \"country\": \"source.country\",\n",
    "    \"contact_no\": \"source.contact_no\"\n",
    "}).whenNotMatchedInsert(values = {\n",
    "    \"emp_id\": \"source.emp_id\",\n",
    "    \"name\": \"source.name\",\n",
    "    \"city\": \"source.city\",\n",
    "    \"country\": \"source.country\",\n",
    "    \"contact_no\": \"source.contact_no\"\n",
    "}).execute()\n"
   ]
  },
  {
   "cell_type": "code",
   "execution_count": 0,
   "metadata": {
    "application/vnd.databricks.v1+cell": {
     "cellMetadata": {
      "byteLimit": 2048000,
      "implicitDf": true,
      "rowLimit": 10000
     },
     "inputWidgets": {},
     "nuid": "77843c35-7a3e-45d3-93f3-ca4946594bc6",
     "showTitle": false,
     "tableResultSettingsMap": {},
     "title": ""
    }
   },
   "outputs": [
    {
     "output_type": "display_data",
     "data": {
      "text/html": [
       "<style scoped>\n",
       "  .table-result-container {\n",
       "    max-height: 300px;\n",
       "    overflow: auto;\n",
       "  }\n",
       "  table, th, td {\n",
       "    border: 1px solid black;\n",
       "    border-collapse: collapse;\n",
       "  }\n",
       "  th, td {\n",
       "    padding: 5px;\n",
       "  }\n",
       "  th {\n",
       "    text-align: left;\n",
       "  }\n",
       "</style><div class='table-result-container'><table class='table-result'><thead style='background-color: white'><tr><th>emp_id</th><th>name</th><th>city</th><th>country</th><th>contact_no</th></tr></thead><tbody><tr><td>1000</td><td>Michael</td><td>Chicago</td><td>USA</td><td>689546323</td></tr><tr><td>2006</td><td>Nancy</td><td>New York</td><td>USA</td><td>76345902</td></tr><tr><td>2000</td><td>Sarah</td><td>New York</td><td>USA</td><td>76345902</td></tr><tr><td>3000</td><td>David</td><td>Atlanta</td><td>USA</td><td>563456787</td></tr></tbody></table></div>"
      ]
     },
     "metadata": {
      "application/vnd.databricks.v1+output": {
       "addedWidgets": {},
       "aggData": [],
       "aggError": "",
       "aggOverflow": false,
       "aggSchema": [],
       "aggSeriesLimitReached": false,
       "aggType": "",
       "arguments": {},
       "columnCustomDisplayInfos": {},
       "data": [
        [
         1000,
         "Michael",
         "Chicago",
         "USA",
         689546323
        ],
        [
         2006,
         "Nancy",
         "New York",
         "USA",
         76345902
        ],
        [
         2000,
         "Sarah",
         "New York",
         "USA",
         76345902
        ],
        [
         3000,
         "David",
         "Atlanta",
         "USA",
         563456787
        ]
       ],
       "datasetInfos": [],
       "dbfsResultPath": null,
       "isJsonSchema": true,
       "metadata": {},
       "overflow": false,
       "plotOptions": {
        "customPlotOptions": {},
        "displayType": "table",
        "pivotAggregation": null,
        "pivotColumns": null,
        "xColumns": null,
        "yColumns": null
       },
       "removedWidgets": [],
       "schema": [
        {
         "metadata": "{}",
         "name": "emp_id",
         "type": "\"integer\""
        },
        {
         "metadata": "{}",
         "name": "name",
         "type": "\"string\""
        },
        {
         "metadata": "{}",
         "name": "city",
         "type": "\"string\""
        },
        {
         "metadata": "{}",
         "name": "country",
         "type": "\"string\""
        },
        {
         "metadata": "{}",
         "name": "contact_no",
         "type": "\"integer\""
        }
       ],
       "type": "table"
      }
     },
     "output_type": "display_data"
    }
   ],
   "source": [
    "%sql\n",
    "select * from dim_employee"
   ]
  },
  {
   "cell_type": "markdown",
   "metadata": {
    "application/vnd.databricks.v1+cell": {
     "cellMetadata": {},
     "inputWidgets": {},
     "nuid": "b199a847-a714-4fba-b97a-7216f2371793",
     "showTitle": false,
     "tableResultSettingsMap": {},
     "title": ""
    }
   },
   "source": [
    "# DataFrame insert into Delta Table"
   ]
  },
  {
   "cell_type": "code",
   "execution_count": 0,
   "metadata": {
    "application/vnd.databricks.v1+cell": {
     "cellMetadata": {},
     "inputWidgets": {},
     "nuid": "4a2c66e0-d26e-4196-9abb-ef0f4185e503",
     "showTitle": false,
     "tableResultSettingsMap": {},
     "title": ""
    }
   },
   "outputs": [],
   "source": [
    "data = [(\"ABC pvt ltd\", \"Q1\", 2000), (\"XYZ pvt ltd\", \"Q1\", 5000), (\"KLM pvt ltd\", \"Q1\", 2000)]\n",
    "column = [\"Company\", \"Quarter\", \"Revenue\"]\n",
    "\n",
    "df = spark.createDataFrame(data = data, schema = column)\n",
    "\n",
    "display(df)"
   ]
  },
  {
   "cell_type": "code",
   "execution_count": 0,
   "metadata": {
    "application/vnd.databricks.v1+cell": {
     "cellMetadata": {
      "byteLimit": 2048000,
      "rowLimit": 10000
     },
     "inputWidgets": {},
     "nuid": "8eee1e2a-8263-4e49-8881-945595c9b83f",
     "showTitle": false,
     "tableResultSettingsMap": {},
     "title": ""
    }
   },
   "outputs": [],
   "source": [
    "df.write.saveAsTable(\"default.fact_revenue\")"
   ]
  },
  {
   "cell_type": "code",
   "execution_count": 0,
   "metadata": {
    "application/vnd.databricks.v1+cell": {
     "cellMetadata": {
      "byteLimit": 2048000,
      "rowLimit": 10000
     },
     "inputWidgets": {},
     "nuid": "6dde6428-bb0f-433e-a1cd-eaff09fbef27",
     "showTitle": false,
     "tableResultSettingsMap": {},
     "title": ""
    }
   },
   "outputs": [
    {
     "output_type": "display_data",
     "data": {
      "text/html": [
       "<style scoped>\n",
       "  .table-result-container {\n",
       "    max-height: 300px;\n",
       "    overflow: auto;\n",
       "  }\n",
       "  table, th, td {\n",
       "    border: 1px solid black;\n",
       "    border-collapse: collapse;\n",
       "  }\n",
       "  th, td {\n",
       "    padding: 5px;\n",
       "  }\n",
       "  th {\n",
       "    text-align: left;\n",
       "  }\n",
       "</style><div class='table-result-container'><table class='table-result'><thead style='background-color: white'><tr><th>emp_id</th><th>name</th><th>city</th><th>country</th><th>contact_no</th></tr></thead><tbody><tr><td>2000</td><td>Sarah</td><td>New York</td><td>USA</td><td>76345902</td></tr><tr><td>3000</td><td>David</td><td>Atlanta</td><td>USA</td><td>563456787</td></tr></tbody></table></div>"
      ]
     },
     "metadata": {
      "application/vnd.databricks.v1+output": {
       "addedWidgets": {},
       "aggData": [],
       "aggError": "",
       "aggOverflow": false,
       "aggSchema": [],
       "aggSeriesLimitReached": false,
       "aggType": "",
       "arguments": {},
       "columnCustomDisplayInfos": {},
       "data": [
        [
         2000,
         "Sarah",
         "New York",
         "USA",
         76345902
        ],
        [
         3000,
         "David",
         "Atlanta",
         "USA",
         563456787
        ]
       ],
       "datasetInfos": [],
       "dbfsResultPath": null,
       "isJsonSchema": true,
       "metadata": {},
       "overflow": false,
       "plotOptions": {
        "customPlotOptions": {},
        "displayType": "table",
        "pivotAggregation": null,
        "pivotColumns": null,
        "xColumns": null,
        "yColumns": null
       },
       "removedWidgets": [],
       "schema": [
        {
         "metadata": "{}",
         "name": "emp_id",
         "type": "\"integer\""
        },
        {
         "metadata": "{}",
         "name": "name",
         "type": "\"string\""
        },
        {
         "metadata": "{}",
         "name": "city",
         "type": "\"string\""
        },
        {
         "metadata": "{}",
         "name": "country",
         "type": "\"string\""
        },
        {
         "metadata": "{}",
         "name": "contact_no",
         "type": "\"integer\""
        }
       ],
       "type": "table"
      }
     },
     "output_type": "display_data"
    }
   ],
   "source": [
    "display(spark.table(\"default.fact_revenue\"))"
   ]
  },
  {
   "cell_type": "code",
   "execution_count": 0,
   "metadata": {
    "application/vnd.databricks.v1+cell": {
     "cellMetadata": {},
     "inputWidgets": {},
     "nuid": "242d25c6-574c-43ba-a4f9-4afbcec8a2cc",
     "showTitle": false,
     "tableResultSettingsMap": {},
     "title": ""
    }
   },
   "outputs": [],
   "source": [
    "data = [(\"RST pvt ltd\", \"Q4\", 7000)]\n",
    "\n",
    "column = [\"Company\", \"Quarter\", \"Revenue\"]\n",
    "\n",
    "df1 = spark.createDataFrame(data = data, schema = column)\n",
    "\n",
    "display(df1)"
   ]
  },
  {
   "cell_type": "code",
   "execution_count": 0,
   "metadata": {
    "application/vnd.databricks.v1+cell": {
     "cellMetadata": {
      "byteLimit": 2048000,
      "rowLimit": 10000
     },
     "inputWidgets": {},
     "nuid": "d187507f-3b94-4756-9a33-78b8f66d2537",
     "showTitle": false,
     "tableResultSettingsMap": {},
     "title": ""
    }
   },
   "outputs": [],
   "source": [
    "df1.write.insertInto(\"default.fact_revenue\",overwrite = False)"
   ]
  },
  {
   "cell_type": "code",
   "execution_count": 0,
   "metadata": {
    "application/vnd.databricks.v1+cell": {
     "cellMetadata": {
      "byteLimit": 2048000,
      "rowLimit": 10000
     },
     "inputWidgets": {},
     "nuid": "4be24584-26d6-4338-a6a8-4e02534833e2",
     "showTitle": false,
     "tableResultSettingsMap": {},
     "title": ""
    }
   },
   "outputs": [
    {
     "output_type": "display_data",
     "data": {
      "text/html": [
       "<style scoped>\n",
       "  .table-result-container {\n",
       "    max-height: 300px;\n",
       "    overflow: auto;\n",
       "  }\n",
       "  table, th, td {\n",
       "    border: 1px solid black;\n",
       "    border-collapse: collapse;\n",
       "  }\n",
       "  th, td {\n",
       "    padding: 5px;\n",
       "  }\n",
       "  th {\n",
       "    text-align: left;\n",
       "  }\n",
       "</style><div class='table-result-container'><table class='table-result'><thead style='background-color: white'><tr><th>emp_id</th><th>name</th><th>city</th><th>country</th><th>contact_no</th></tr></thead><tbody><tr><td>1000</td><td>Michael</td><td>Chicago</td><td>USA</td><td>689546323</td></tr><tr><td>2000</td><td>Sarah</td><td>New York</td><td>USA</td><td>76345902</td></tr><tr><td>2006</td><td>Nancy</td><td>New York</td><td>USA</td><td>76345902</td></tr><tr><td>3000</td><td>David</td><td>Atlanta</td><td>USA</td><td>563456787</td></tr></tbody></table></div>"
      ]
     },
     "metadata": {
      "application/vnd.databricks.v1+output": {
       "addedWidgets": {},
       "aggData": [],
       "aggError": "",
       "aggOverflow": false,
       "aggSchema": [],
       "aggSeriesLimitReached": false,
       "aggType": "",
       "arguments": {},
       "columnCustomDisplayInfos": {},
       "data": [
        [
         1000,
         "Michael",
         "Chicago",
         "USA",
         689546323
        ],
        [
         2000,
         "Sarah",
         "New York",
         "USA",
         76345902
        ],
        [
         2006,
         "Nancy",
         "New York",
         "USA",
         76345902
        ],
        [
         3000,
         "David",
         "Atlanta",
         "USA",
         563456787
        ]
       ],
       "datasetInfos": [],
       "dbfsResultPath": null,
       "isJsonSchema": true,
       "metadata": {},
       "overflow": false,
       "plotOptions": {
        "customPlotOptions": {},
        "displayType": "table",
        "pivotAggregation": null,
        "pivotColumns": null,
        "xColumns": null,
        "yColumns": null
       },
       "removedWidgets": [],
       "schema": [
        {
         "metadata": "{}",
         "name": "emp_id",
         "type": "\"integer\""
        },
        {
         "metadata": "{}",
         "name": "name",
         "type": "\"string\""
        },
        {
         "metadata": "{}",
         "name": "city",
         "type": "\"string\""
        },
        {
         "metadata": "{}",
         "name": "country",
         "type": "\"string\""
        },
        {
         "metadata": "{}",
         "name": "contact_no",
         "type": "\"integer\""
        }
       ],
       "type": "table"
      }
     },
     "output_type": "display_data"
    }
   ],
   "source": [
    "display(spark.table(\"default.fact_revenue\"))"
   ]
  },
  {
   "cell_type": "markdown",
   "metadata": {
    "application/vnd.databricks.v1+cell": {
     "cellMetadata": {},
     "inputWidgets": {},
     "nuid": "dd74f7ce-00ec-49c8-88ab-92aaf77e2532",
     "showTitle": false,
     "tableResultSettingsMap": {},
     "title": ""
    }
   },
   "source": [
    "### using sql syntax"
   ]
  },
  {
   "cell_type": "code",
   "execution_count": 0,
   "metadata": {
    "application/vnd.databricks.v1+cell": {
     "cellMetadata": {},
     "inputWidgets": {},
     "nuid": "14b22452-8346-41a8-a9e6-3943f68eb14b",
     "showTitle": false,
     "tableResultSettingsMap": {},
     "title": ""
    }
   },
   "outputs": [],
   "source": [
    "data = [(\"RST pvt ltd\", \"Q4\", 7000)]\n",
    "\n",
    "column = [\"Company\", \"Quarter\", \"Revenue\"]\n",
    "\n",
    "df1 = spark.createDataFrame(data = data, schema = column)\n",
    "\n",
    "display(df1)"
   ]
  },
  {
   "cell_type": "code",
   "execution_count": 0,
   "metadata": {
    "application/vnd.databricks.v1+cell": {
     "cellMetadata": {
      "byteLimit": 2048000,
      "implicitDf": true,
      "rowLimit": 10000
     },
     "inputWidgets": {},
     "nuid": "6abdf874-dd6d-4a9f-90fc-f50dcf178005",
     "showTitle": false,
     "tableResultSettingsMap": {},
     "title": ""
    }
   },
   "outputs": [],
   "source": [
    "df1.createOrReplaceTempView(\"v_insert_data\")"
   ]
  },
  {
   "cell_type": "code",
   "execution_count": 0,
   "metadata": {
    "application/vnd.databricks.v1+cell": {
     "cellMetadata": {
      "byteLimit": 2048000,
      "implicitDf": true,
      "rowLimit": 10000
     },
     "inputWidgets": {},
     "nuid": "4ba3dc5c-0c1c-422f-9732-845a052f75e5",
     "showTitle": false,
     "tableResultSettingsMap": {},
     "title": ""
    }
   },
   "outputs": [
    {
     "output_type": "display_data",
     "data": {
      "text/html": [
       "<style scoped>\n",
       "  .table-result-container {\n",
       "    max-height: 300px;\n",
       "    overflow: auto;\n",
       "  }\n",
       "  table, th, td {\n",
       "    border: 1px solid black;\n",
       "    border-collapse: collapse;\n",
       "  }\n",
       "  th, td {\n",
       "    padding: 5px;\n",
       "  }\n",
       "  th {\n",
       "    text-align: left;\n",
       "  }\n",
       "</style><div class='table-result-container'><table class='table-result'><thead style='background-color: white'><tr><th>num_affected_rows</th><th>num_inserted_rows</th></tr></thead><tbody><tr><td>2</td><td>2</td></tr></tbody></table></div>"
      ]
     },
     "metadata": {
      "application/vnd.databricks.v1+output": {
       "addedWidgets": {},
       "aggData": [],
       "aggError": "",
       "aggOverflow": false,
       "aggSchema": [],
       "aggSeriesLimitReached": false,
       "aggType": "",
       "arguments": {},
       "columnCustomDisplayInfos": {},
       "data": [
        [
         2,
         2
        ]
       ],
       "datasetInfos": [],
       "dbfsResultPath": null,
       "isJsonSchema": true,
       "metadata": {},
       "overflow": false,
       "plotOptions": {
        "customPlotOptions": {},
        "displayType": "table",
        "pivotAggregation": null,
        "pivotColumns": null,
        "xColumns": null,
        "yColumns": null
       },
       "removedWidgets": [],
       "schema": [
        {
         "metadata": "{}",
         "name": "num_affected_rows",
         "type": "\"long\""
        },
        {
         "metadata": "{}",
         "name": "num_inserted_rows",
         "type": "\"long\""
        }
       ],
       "type": "table"
      }
     },
     "output_type": "display_data"
    }
   ],
   "source": [
    "%sql\n",
    "insert into default.fact_revenue\n",
    "select * from v_insert_data"
   ]
  },
  {
   "cell_type": "code",
   "execution_count": 0,
   "metadata": {
    "application/vnd.databricks.v1+cell": {
     "cellMetadata": {
      "byteLimit": 2048000,
      "rowLimit": 10000
     },
     "inputWidgets": {},
     "nuid": "1cfd2742-6e62-430c-828d-9829443255b1",
     "showTitle": false,
     "tableResultSettingsMap": {},
     "title": ""
    }
   },
   "outputs": [
    {
     "output_type": "display_data",
     "data": {
      "text/html": [
       "<style scoped>\n",
       "  .table-result-container {\n",
       "    max-height: 300px;\n",
       "    overflow: auto;\n",
       "  }\n",
       "  table, th, td {\n",
       "    border: 1px solid black;\n",
       "    border-collapse: collapse;\n",
       "  }\n",
       "  th, td {\n",
       "    padding: 5px;\n",
       "  }\n",
       "  th {\n",
       "    text-align: left;\n",
       "  }\n",
       "</style><div class='table-result-container'><table class='table-result'><thead style='background-color: white'><tr><th>emp_id</th><th>name</th><th>city</th><th>country</th><th>contact_no</th></tr></thead><tbody><tr><td>1000</td><td>Michael</td><td>Chicago</td><td>USA</td><td>689546323</td></tr><tr><td>1000</td><td>Michael</td><td>Chicago</td><td>USA</td><td>689546323</td></tr><tr><td>2000</td><td>Sarah</td><td>New York</td><td>USA</td><td>76345902</td></tr><tr><td>2006</td><td>Nancy</td><td>New York</td><td>USA</td><td>76345902</td></tr><tr><td>2006</td><td>Nancy</td><td>New York</td><td>USA</td><td>76345902</td></tr><tr><td>3000</td><td>David</td><td>Atlanta</td><td>USA</td><td>563456787</td></tr></tbody></table></div>"
      ]
     },
     "metadata": {
      "application/vnd.databricks.v1+output": {
       "addedWidgets": {},
       "aggData": [],
       "aggError": "",
       "aggOverflow": false,
       "aggSchema": [],
       "aggSeriesLimitReached": false,
       "aggType": "",
       "arguments": {},
       "columnCustomDisplayInfos": {},
       "data": [
        [
         1000,
         "Michael",
         "Chicago",
         "USA",
         689546323
        ],
        [
         1000,
         "Michael",
         "Chicago",
         "USA",
         689546323
        ],
        [
         2000,
         "Sarah",
         "New York",
         "USA",
         76345902
        ],
        [
         2006,
         "Nancy",
         "New York",
         "USA",
         76345902
        ],
        [
         2006,
         "Nancy",
         "New York",
         "USA",
         76345902
        ],
        [
         3000,
         "David",
         "Atlanta",
         "USA",
         563456787
        ]
       ],
       "datasetInfos": [],
       "dbfsResultPath": null,
       "isJsonSchema": true,
       "metadata": {},
       "overflow": false,
       "plotOptions": {
        "customPlotOptions": {},
        "displayType": "table",
        "pivotAggregation": null,
        "pivotColumns": null,
        "xColumns": null,
        "yColumns": null
       },
       "removedWidgets": [],
       "schema": [
        {
         "metadata": "{}",
         "name": "emp_id",
         "type": "\"integer\""
        },
        {
         "metadata": "{}",
         "name": "name",
         "type": "\"string\""
        },
        {
         "metadata": "{}",
         "name": "city",
         "type": "\"string\""
        },
        {
         "metadata": "{}",
         "name": "country",
         "type": "\"string\""
        },
        {
         "metadata": "{}",
         "name": "contact_no",
         "type": "\"integer\""
        }
       ],
       "type": "table"
      }
     },
     "output_type": "display_data"
    }
   ],
   "source": [
    "display(spark.table(\"default.fact_revenue\"))"
   ]
  }
 ],
 "metadata": {
  "application/vnd.databricks.v1+notebook": {
   "dashboards": [],
   "environmentMetadata": null,
   "language": "python",
   "notebookMetadata": {
    "mostRecentlyExecutedCommandWithImplicitDF": {
     "commandId": 2195210801671762,
     "dataframes": [
      "_sqldf"
     ]
    },
    "pythonIndentUnit": 4
   },
   "notebookName": "delta lake",
   "widgets": {}
  }
 },
 "nbformat": 4,
 "nbformat_minor": 0
}
